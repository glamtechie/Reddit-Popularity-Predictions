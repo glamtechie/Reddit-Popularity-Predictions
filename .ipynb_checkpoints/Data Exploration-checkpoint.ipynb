{
 "cells": [
  {
   "cell_type": "code",
   "execution_count": 2,
   "metadata": {
    "collapsed": false,
    "scrolled": true
   },
   "outputs": [
    {
     "name": "stdout",
     "output_type": "stream",
     "text": [
      "Populating the interactive namespace from numpy and matplotlib\n"
     ]
    }
   ],
   "source": [
    "%pylab inline"
   ]
  },
  {
   "cell_type": "code",
   "execution_count": 3,
   "metadata": {
    "collapsed": false
   },
   "outputs": [
    {
     "name": "stdout",
     "output_type": "stream",
     "text": [
      "Data  Data Exploration.ipynb  README.md\r\n"
     ]
    }
   ],
   "source": [
    "!ls"
   ]
  },
  {
   "cell_type": "code",
   "execution_count": 11,
   "metadata": {
    "collapsed": false
   },
   "outputs": [],
   "source": [
    "import csv\n",
    "fi=open('Data/redditSubmissions.csv')\n",
    "r=csv.reader(fi)\n"
   ]
  },
  {
   "cell_type": "code",
   "execution_count": 12,
   "metadata": {
    "collapsed": true
   },
   "outputs": [],
   "source": [
    "data=list(r)"
   ]
  },
  {
   "cell_type": "code",
   "execution_count": 13,
   "metadata": {
    "collapsed": false
   },
   "outputs": [
    {
     "data": {
      "text/plain": [
       "132309"
      ]
     },
     "execution_count": 13,
     "metadata": {},
     "output_type": "execute_result"
    }
   ],
   "source": [
    "len(data)"
   ]
  },
  {
   "cell_type": "code",
   "execution_count": 14,
   "metadata": {
    "collapsed": false,
    "scrolled": false
   },
   "outputs": [
    {
     "data": {
      "text/plain": [
       "['#image_id',\n",
       " 'unixtime',\n",
       " 'rawtime',\n",
       " 'title',\n",
       " 'total_votes',\n",
       " 'reddit_id',\n",
       " 'number_of_upvotes',\n",
       " 'subreddit',\n",
       " 'number_of_downvotes',\n",
       " 'localtime',\n",
       " 'score',\n",
       " 'number_of_comments',\n",
       " 'username']"
      ]
     },
     "execution_count": 14,
     "metadata": {},
     "output_type": "execute_result"
    }
   ],
   "source": [
    "data.pop(0)"
   ]
  },
  {
   "cell_type": "code",
   "execution_count": 15,
   "metadata": {
    "collapsed": false
   },
   "outputs": [
    {
     "data": {
      "text/plain": [
       "[['0',\n",
       "  '1333172439',\n",
       "  '2012-03-31T12:40:39.590113-07:00',\n",
       "  \"And here's a downvote.\",\n",
       "  '63470',\n",
       "  'rmqjs',\n",
       "  '32657',\n",
       "  'funny',\n",
       "  '30813',\n",
       "  '1333197639',\n",
       "  '1844',\n",
       "  '622',\n",
       "  'Animates_Everything'],\n",
       " ['0',\n",
       "  '1333178161',\n",
       "  '2012-03-31T14:16:01.093638-07:00',\n",
       "  'Expectation',\n",
       "  '35',\n",
       "  'rmun4',\n",
       "  '29',\n",
       "  'GifSound',\n",
       "  '6',\n",
       "  '1333203361',\n",
       "  '23',\n",
       "  '3',\n",
       "  'Gangsta_Raper'],\n",
       " ['0',\n",
       "  '1333199913',\n",
       "  '2012-03-31T20:18:33.192906-07:00',\n",
       "  'Downvote',\n",
       "  '41',\n",
       "  'rna86',\n",
       "  '32',\n",
       "  'GifSound',\n",
       "  '9',\n",
       "  '1333225113',\n",
       "  '23',\n",
       "  '0',\n",
       "  'Gangsta_Raper']]"
      ]
     },
     "execution_count": 15,
     "metadata": {},
     "output_type": "execute_result"
    }
   ],
   "source": [
    "data[0:3]"
   ]
  },
  {
   "cell_type": "code",
   "execution_count": 27,
   "metadata": {
    "collapsed": false
   },
   "outputs": [
    {
     "data": {
      "text/plain": [
       "16736"
      ]
     },
     "execution_count": 27,
     "metadata": {},
     "output_type": "execute_result"
    }
   ],
   "source": [
    "images=[x[0] for x in data]\n",
    "len(set(images))"
   ]
  },
  {
   "cell_type": "code",
   "execution_count": 28,
   "metadata": {
    "collapsed": false
   },
   "outputs": [
    {
     "name": "stdout",
     "output_type": "stream",
     "text": [
      "['0', '1333172439', '2012-03-31T12:40:39.590113-07:00', \"And here's a downvote.\", '63470', 'rmqjs', '32657', 'funny', '30813', '1333197639', '1844', '622', 'Animates_Everything']\n"
     ]
    }
   ],
   "source": [
    "print data[0]"
   ]
  },
  {
   "cell_type": "markdown",
   "metadata": {},
   "source": [
    "Unique number of images analysed=16736"
   ]
  },
  {
   "cell_type": "code",
   "execution_count": 29,
   "metadata": {
    "collapsed": true
   },
   "outputs": [],
   "source": [
    "import matplotlib.pyplot as plt"
   ]
  },
  {
   "cell_type": "code",
   "execution_count": 30,
   "metadata": {
    "collapsed": false
   },
   "outputs": [
    {
     "data": {
      "text/plain": [
       "['20089', '']"
      ]
     },
     "execution_count": 30,
     "metadata": {},
     "output_type": "execute_result"
    }
   ],
   "source": [
    "data.pop(53033)"
   ]
  },
  {
   "cell_type": "code",
   "execution_count": 31,
   "metadata": {
    "collapsed": false
   },
   "outputs": [
    {
     "data": {
      "image/png": "[encoded data removed]",
      "text/plain": [
       "<matplotlib.figure.Figure at 0x7f666a1c9bd0>"
      ]
     },
     "metadata": {},
     "output_type": "display_data"
    }
   ],
   "source": [
    "upvotes=[int(x[6]) for x in data]\n",
    "downvotes=[int(x[8]) for x in data]\n",
    "plt.hist(upvotes,log=True,bins=50,color='b')\n",
    "plt.hist(downvotes,log=True,bins=50,color='r')\n",
    "plt.title(\"Distribution of upvotes/downvotes\")\n",
    "plt.xlabel(\"Value\")\n",
    "plt.ylabel(\"Frequency\")\n",
    "plt.show()"
   ]
  },
  {
   "cell_type": "code",
   "execution_count": 32,
   "metadata": {
    "collapsed": false
   },
   "outputs": [
    {
     "name": "stdout",
     "output_type": "stream",
     "text": [
      "['2713', '1349205792', '2012-10-02T19:23:12+00:00', 'Airline screwed up, a friend just posted this on Facebook.', '177103', '10tya8', '90396', 'funny', '86707', '1349205792', '3689', '3488', 'lepry']\n"
     ]
    }
   ],
   "source": [
    "for i in range(len(data)):\n",
    "    if int(data[i][6])>80000:\n",
    "        print data[i]"
   ]
  },
  {
   "cell_type": "code",
   "execution_count": 33,
   "metadata": {
    "collapsed": false
   },
   "outputs": [
    {
     "name": "stdout",
     "output_type": "stream",
     "text": [
      "['2713', '1349205792', '2012-10-02T19:23:12+00:00', 'Airline screwed up, a friend just posted this on Facebook.', '177103', '10tya8', '90396', 'funny', '86707', '1349205792', '3689', '3488', 'lepry']\n"
     ]
    }
   ],
   "source": [
    "for i in range(len(data)):\n",
    "    if int(data[i][8])>80000:\n",
    "        print data[i]"
   ]
  },
  {
   "cell_type": "code",
   "execution_count": 34,
   "metadata": {
    "collapsed": true
   },
   "outputs": [],
   "source": [
    "score=[upvotes[i]-downvotes[i] for i in xrange(len(upvotes))]"
   ]
  },
  {
   "cell_type": "code",
   "execution_count": 35,
   "metadata": {
    "collapsed": false
   },
   "outputs": [
    {
     "data": {
      "image/png": "[encoded data removed]",
      "text/plain": [
       "<matplotlib.figure.Figure at 0x7f666a1c5dd0>"
      ]
     },
     "metadata": {},
     "output_type": "display_data"
    }
   ],
   "source": [
    "plt.hist(score,log=True,bins=50)\n",
    "plt.title(\"Score distribution\")\n",
    "plt.xlabel(\"Value\")\n",
    "plt.ylabel(\"Frequency\")\n",
    "plt.show()"
   ]
  },
  {
   "cell_type": "code",
   "execution_count": 83,
   "metadata": {
    "collapsed": false
   },
   "outputs": [
    {
     "name": "stdout",
     "output_type": "stream",
     "text": [
      "['15566', '1327490824', '2012-01-25T18:27:04-07:00', 'So my little cousin posted on FB that he was bored and gave everyone his new phone number... (pic)', '114451', 'owx3v', '63392', 'funny', '51059', '1327516024', '12333', '1612', 'frackyou']\n",
      "['20414', '1333422529', '2012-04-03T10:08:49-07:00', 'My friend calls him &quot;Mr Ridiculously Photogenic Guy&quot;', '92874', 'rrew0', '52391', 'pics', '40483', '1333447729', '11908', '2681', 'TheKoG']\n",
      "['22478', '1343466356', '2012-07-28T16:05:56-07:00', 'The Bus Knight', '114964', 'xbfwb', '67767', 'funny', '47197', '1343491556', '20570', '1463', 'Robert_Houdin']\n",
      "['6952', '1311262850', '2011-07-21T22:40:50-07:00', 'This is called humanity.', '62718', 'iwkkx', '36490', 'pics', '26228', '1311288050', '10262', '1514', 'freestylepopcorn']\n"
     ]
    }
   ],
   "source": [
    "for i in range(len(popular)):\n",
    "    if score[i]>10000:\n",
    "        print data[i]"
   ]
  },
  {
   "cell_type": "code",
   "execution_count": 84,
   "metadata": {
    "collapsed": false
   },
   "outputs": [
    {
     "name": "stdout",
     "output_type": "stream",
     "text": [
      "['1066', '1352725707', '2012-11-12T13:08:27+00:00', 'Picture of draining sink that looks like an eye [x-post from r/mildlyinteresting]', '282', '13277r', '80', 'pics', '202', '1352725707', '-122', '13', 'choc_is_back']\n",
      "['12745', '1351687185', '2012-10-31T12:39:45+00:00', \"Disney, you may have purchased Star Wars, but in a profound way, the mythos belongs to all of us. We're putting our trust in you, so please, make us proud. As a gesture of good faith, I have made this image to commemorate the occasion.\", '870', '12e8u4', '303', 'movies', '567', '1351687185', '-264', '79', '']\n",
      "['24407', '1359064672', '2013-01-24T21:57:52+00:00', \"I actually hope this is a repost so I don't have to give Facebook credit.\", '290', '177qzm', '89', 'funny', '201', '1359064672', '-112', '13', 'mtxrcr']\n"
     ]
    }
   ],
   "source": [
    "for i in range(len(popular)):\n",
    "    if score[i]<-100:\n",
    "        print data[i]"
   ]
  },
  {
   "cell_type": "code",
   "execution_count": 38,
   "metadata": {
    "collapsed": true
   },
   "outputs": [],
   "source": [
    "d={}\n",
    "for x in data:\n",
    "    if x[0] in d:\n",
    "        d[x[0]]+=1\n",
    "    else:\n",
    "        d[x[0]]=1"
   ]
  },
  {
   "cell_type": "code",
   "execution_count": 39,
   "metadata": {
    "collapsed": false
   },
   "outputs": [
    {
     "data": {
      "text/plain": [
       "'6037'"
      ]
     },
     "execution_count": 39,
     "metadata": {},
     "output_type": "execute_result"
    }
   ],
   "source": [
    "import operator\n",
    "max(d.iteritems(), key=operator.itemgetter(1))[0]"
   ]
  },
  {
   "cell_type": "code",
   "execution_count": 40,
   "metadata": {
    "collapsed": false
   },
   "outputs": [
    {
     "data": {
      "text/plain": [
       "166"
      ]
     },
     "execution_count": 40,
     "metadata": {},
     "output_type": "execute_result"
    }
   ],
   "source": [
    "d['6037']"
   ]
  },
  {
   "cell_type": "code",
   "execution_count": 41,
   "metadata": {
    "collapsed": true
   },
   "outputs": [],
   "source": [
    "resub=[]\n",
    "for k in d.keys():\n",
    "    resub.append(d[k])"
   ]
  },
  {
   "cell_type": "markdown",
   "metadata": {},
   "source": [
    "Image resubmitted maximum times=6037,166 times"
   ]
  },
  {
   "cell_type": "code",
   "execution_count": 42,
   "metadata": {
    "collapsed": false
   },
   "outputs": [
    {
     "data": {
      "image/png": "[encoded data removed]",
      "text/plain": [
       "<matplotlib.figure.Figure at 0x7f666a1c5d50>"
      ]
     },
     "metadata": {},
     "output_type": "display_data"
    }
   ],
   "source": [
    "plt.hist(resub,log=True,bins=50,color='g')\n",
    "plt.title(\"Resubmission distribution\")\n",
    "plt.xlabel(\"Value\")\n",
    "plt.ylabel(\"Frequency\")\n",
    "plt.show()"
   ]
  },
  {
   "cell_type": "code",
   "execution_count": 43,
   "metadata": {
    "collapsed": false
   },
   "outputs": [
    {
     "data": {
      "text/plain": [
       "63338"
      ]
     },
     "execution_count": 43,
     "metadata": {},
     "output_type": "execute_result"
    }
   ],
   "source": [
    "users=[x[12] for x in data]\n",
    "len(set(users))"
   ]
  },
  {
   "cell_type": "markdown",
   "metadata": {},
   "source": [
    "No. of unique users=63338"
   ]
  },
  {
   "cell_type": "code",
   "execution_count": 44,
   "metadata": {
    "collapsed": true
   },
   "outputs": [],
   "source": [
    "u={}\n",
    "for x in data:\n",
    "    if x[12] in u:\n",
    "        u[x[12]]+=1\n",
    "    else:\n",
    "        u[x[12]]=1"
   ]
  },
  {
   "cell_type": "code",
   "execution_count": 45,
   "metadata": {
    "collapsed": false
   },
   "outputs": [
    {
     "data": {
      "text/plain": [
       "''"
      ]
     },
     "execution_count": 45,
     "metadata": {},
     "output_type": "execute_result"
    }
   ],
   "source": [
    "max(u.iteritems(), key=operator.itemgetter(1))[0]"
   ]
  },
  {
   "cell_type": "code",
   "execution_count": 46,
   "metadata": {
    "collapsed": false
   },
   "outputs": [
    {
     "data": {
      "text/plain": [
       "20259"
      ]
     },
     "execution_count": 46,
     "metadata": {},
     "output_type": "execute_result"
    }
   ],
   "source": [
    "u['']"
   ]
  },
  {
   "cell_type": "code",
   "execution_count": 47,
   "metadata": {
    "collapsed": true
   },
   "outputs": [],
   "source": [
    "del u['']"
   ]
  },
  {
   "cell_type": "code",
   "execution_count": 48,
   "metadata": {
    "collapsed": false
   },
   "outputs": [
    {
     "data": {
      "text/plain": [
       "'Gangsta_Raper'"
      ]
     },
     "execution_count": 48,
     "metadata": {},
     "output_type": "execute_result"
    }
   ],
   "source": [
    "max(u.iteritems(), key=operator.itemgetter(1))[0]"
   ]
  },
  {
   "cell_type": "code",
   "execution_count": 49,
   "metadata": {
    "collapsed": false
   },
   "outputs": [
    {
     "data": {
      "text/plain": [
       "5608"
      ]
     },
     "execution_count": 49,
     "metadata": {},
     "output_type": "execute_result"
    }
   ],
   "source": [
    "u['Gangsta_Raper']"
   ]
  },
  {
   "cell_type": "markdown",
   "metadata": {},
   "source": [
    "'Gangsta_Raper' posted 5608 times"
   ]
  },
  {
   "cell_type": "code",
   "execution_count": 50,
   "metadata": {
    "collapsed": true
   },
   "outputs": [],
   "source": [
    "user_posts=[]\n",
    "for k in u.keys():\n",
    "    user_posts.append(u[k])"
   ]
  },
  {
   "cell_type": "code",
   "execution_count": 51,
   "metadata": {
    "collapsed": false
   },
   "outputs": [
    {
     "data": {
      "image/png": "[encoded data removed]",
      "text/plain": [
       "<matplotlib.figure.Figure at 0x7f6669e05f10>"
      ]
     },
     "metadata": {},
     "output_type": "display_data"
    }
   ],
   "source": [
    "plt.hist(user_posts,log=True,bins=100,color='y')\n",
    "plt.title(\"User posting distribution\")\n",
    "plt.xlabel(\"Value\")\n",
    "plt.ylabel(\"Frequency\")\n",
    "plt.show()"
   ]
  },
  {
   "cell_type": "code",
   "execution_count": 53,
   "metadata": {
    "collapsed": false,
    "scrolled": true
   },
   "outputs": [
    {
     "data": {
      "image/png": "[encoded data removed]",
      "text/plain": [
       "<matplotlib.figure.Figure at 0x7f6668279090>"
      ]
     },
     "metadata": {},
     "output_type": "display_data"
    }
   ],
   "source": [
    "comments=[int(x[11]) for x in data]\n",
    "plt.hist(comments,log=True,bins=50,color='r')\n",
    "plt.title(\"Comments distribution\")\n",
    "plt.xlabel(\"Value\")\n",
    "plt.ylabel(\"Frequency\")\n",
    "plt.show()"
   ]
  },
  {
   "cell_type": "code",
   "execution_count": 82,
   "metadata": {
    "collapsed": false
   },
   "outputs": [
    {
     "name": "stdout",
     "output_type": "stream",
     "text": [
      "['11682', '1316149015', '2011-09-16T11:56:55-07:00', 'Your superhero name is going to suck...', '7508', 'khxit', '4159', 'reddit.com', '3349', '1316174215', '810', '8357', 'spez']\n"
     ]
    }
   ],
   "source": [
    "for i in range(len(popular)):\n",
    "    if comments[i]>8000:\n",
    "        print data[i]"
   ]
  },
  {
   "cell_type": "markdown",
   "metadata": {},
   "source": [
    "Subreddit distribution"
   ]
  },
  {
   "cell_type": "code",
   "execution_count": 92,
   "metadata": {
    "collapsed": true
   },
   "outputs": [],
   "source": [
    "subreddit={}\n",
    "for x in data:\n",
    "    if x[7] in subreddit:\n",
    "        subreddit[x[7]]+=1\n",
    "    else:\n",
    "        subreddit[x[7]]=0"
   ]
  },
  {
   "cell_type": "code",
   "execution_count": 99,
   "metadata": {
    "collapsed": false
   },
   "outputs": [
    {
     "data": {
      "image/png": "[encoded data removed]",
      "text/plain": [
       "<matplotlib.figure.Figure at 0x10c514f90>"
      ]
     },
     "metadata": {},
     "output_type": "display_data"
    }
   ],
   "source": [
    "sreddit=[subreddit[x] for x in subreddit.keys()]\n",
    "plt.hist(sreddit,log=True,bins=40,color='b')\n",
    "plt.title(\"Subreddit distribution\")\n",
    "plt.xlabel(\"Value\")\n",
    "plt.ylabel(\"Frequency\")\n",
    "plt.show()"
   ]
  },
  {
   "cell_type": "code",
   "execution_count": 106,
   "metadata": {
    "collapsed": false
   },
   "outputs": [
    {
     "name": "stdout",
     "output_type": "stream",
     "text": [
      "photoshopbattles 143\n",
      "pics 24711\n",
      "gaming 3008\n",
      "WTF 12192\n",
      "AdviceAnimals 998\n",
      "space 108\n",
      "pokemon 105\n",
      "gif 684\n",
      "reddit.com 827\n",
      "aww 5920\n",
      "HIFW 105\n",
      "fffffffuuuuuuuuuuuu 472\n",
      "trees 527\n",
      "reactiongifs 962\n",
      "funny 55280\n",
      "GifSound 5607\n",
      "woahdude 175\n",
      "gifs 12537\n",
      "4chan 121\n",
      "atheism 3365\n"
     ]
    }
   ],
   "source": [
    "for x in subreddit.keys():\n",
    "    if subreddit[x]>100:\n",
    "        print x,subreddit[x]"
   ]
  },
  {
   "cell_type": "markdown",
   "metadata": {},
   "source": [
    "#feature analysis#"
   ]
  },
  {
   "cell_type": "code",
   "execution_count": 97,
   "metadata": {
    "collapsed": true
   },
   "outputs": [],
   "source": [
    "import hashlib"
   ]
  },
  {
   "cell_type": "code",
   "execution_count": 100,
   "metadata": {
    "collapsed": false
   },
   "outputs": [
    {
     "name": "stdout",
     "output_type": "stream",
     "text": [
      "1499544145693939105\n",
      "-1495230934637649110\n"
     ]
    }
   ],
   "source": [
    "a=\"funny\"\n",
    "b=\"top\"\n",
    "c=\"science\"\n",
    "print hash(a)\n",
    "print hash(b)"
   ]
  },
  {
   "cell_type": "code",
   "execution_count": 162,
   "metadata": {
    "collapsed": true
   },
   "outputs": [],
   "source": [
    "def feature(datum):\n",
    "    feat=[]\n",
    "    feat.append(long(datum[0]))\n",
    "    feat.append(long(datum[1]))\n",
    "    feat.append(len(datum[3]))\n",
    "    feat.append(hash(datum[3]))\n",
    "    #feat.append(datum[5])\n",
    "    feat.append(hash(datum[7]))\n",
    "    #feat.append(datum[9])\n",
    "    feat.append(len(datum[12]))\n",
    "    feat.append(1)\n",
    "    return feat"
   ]
  },
  {
   "cell_type": "code",
   "execution_count": 163,
   "metadata": {
    "collapsed": false
   },
   "outputs": [],
   "source": [
    "dataY=score\n",
    "dataX=[feature(d) for d in data]"
   ]
  },
  {
   "cell_type": "code",
   "execution_count": 164,
   "metadata": {
    "collapsed": false
   },
   "outputs": [],
   "source": [
    "import math\n",
    "trainX=dataX[0:int(len(dataX)*0.8)]\n",
    "validX=dataX[int(len(dataX)*0.8)+1:int(len(dataX)*0.9)]\n",
    "testX=dataX[int(len(dataX)*0.9)+1:len(dataX)]\n",
    "\n",
    "trainY=dataY[0:int(len(dataY)*0.8)]\n",
    "validY=dataY[int(len(dataY)*0.8)+1:int(len(dataY)*0.9)]\n",
    "testY=dataY[int(len(dataY)*0.9)+1:len(dataY)]\n",
    "\n"
   ]
  },
  {
   "cell_type": "code",
   "execution_count": 165,
   "metadata": {
    "collapsed": false
   },
   "outputs": [
    {
     "name": "stdout",
     "output_type": "stream",
     "text": [
      "132307\n",
      "132307\n",
      "13230\n",
      "105845\n"
     ]
    }
   ],
   "source": [
    "print len(dataX)\n",
    "print len(dataY)\n",
    "print len(test)\n",
    "print len(train)"
   ]
  },
  {
   "cell_type": "code",
   "execution_count": 166,
   "metadata": {
    "collapsed": false
   },
   "outputs": [
    {
     "data": {
      "text/plain": [
       "[0L, 1333172439L, 22, -535039097019551388, 1499544145693939105, 19, 1]"
      ]
     },
     "execution_count": 166,
     "metadata": {},
     "output_type": "execute_result"
    }
   ],
   "source": [
    "dataX[0]"
   ]
  },
  {
   "cell_type": "markdown",
   "metadata": {},
   "source": [
    "#Simple linear regression for initial testing#"
   ]
  },
  {
   "cell_type": "code",
   "execution_count": 167,
   "metadata": {
    "collapsed": false
   },
   "outputs": [
    {
     "data": {
      "text/plain": [
       "LinearRegression(copy_X=True, fit_intercept=True, normalize=False)"
      ]
     },
     "execution_count": 167,
     "metadata": {},
     "output_type": "execute_result"
    }
   ],
   "source": [
    "from sklearn import linear_model\n",
    "regr = linear_model.LinearRegression()\n",
    "regr.fit(trainX, trainY)"
   ]
  },
  {
   "cell_type": "code",
   "execution_count": 168,
   "metadata": {
    "collapsed": false
   },
   "outputs": [
    {
     "data": {
      "text/plain": [
       "0.012028027776617489"
      ]
     },
     "execution_count": 168,
     "metadata": {},
     "output_type": "execute_result"
    }
   ],
   "source": [
    "regr.score(testX,testY)"
   ]
  },
  {
   "cell_type": "code",
   "execution_count": null,
   "metadata": {
    "collapsed": true
   },
   "outputs": [],
   "source": []
  },
  {
   "cell_type": "markdown",
   "metadata": {},
   "source": [
    "#PCA#"
   ]
  },
  {
   "cell_type": "code",
   "execution_count": 169,
   "metadata": {
    "collapsed": false
   },
   "outputs": [],
   "source": [
    "from sklearn.decomposition import PCA\n",
    "pca = PCA(n_components=3)\n",
    "pca.fit(trainX)\n",
    "trainX_pca=pca.transform(trainX)\n",
    "testX_pca=pca.transform(testX)"
   ]
  },
  {
   "cell_type": "code",
   "execution_count": 170,
   "metadata": {
    "collapsed": false
   },
   "outputs": [
    {
     "name": "stdout",
     "output_type": "stream",
     "text": [
      "[  7.35417500e-01   2.64582500e-01   4.31660821e-24]\n"
     ]
    }
   ],
   "source": [
    "print(pca.explained_variance_ratio_) "
   ]
  },
  {
   "cell_type": "code",
   "execution_count": 171,
   "metadata": {
    "collapsed": false
   },
   "outputs": [
    {
     "data": {
      "text/plain": [
       "0.0091022957166806417"
      ]
     },
     "execution_count": 171,
     "metadata": {},
     "output_type": "execute_result"
    }
   ],
   "source": [
    "regr.fit(trainX_pca, trainY)\n",
    "regr.score(testX_pca,testY)"
   ]
  },
  {
   "cell_type": "code",
   "execution_count": 172,
   "metadata": {
    "collapsed": false
   },
   "outputs": [
    {
     "data": {
      "text/plain": [
       "array([[  1.04652370e-17,  -1.03805853e-14,   1.08603766e-16,\n",
       "          9.99989763e-01,   4.52483476e-03,   1.26343681e-21,\n",
       "          0.00000000e+00],\n",
       "       [ -9.20709512e-17,   4.98046049e-13,   6.31662939e-17,\n",
       "          4.52483476e-03,  -9.99989763e-01,   7.27223262e-20,\n",
       "          0.00000000e+00],\n",
       "       [  5.63544102e-05,  -9.99999998e-01,  -3.39886591e-05,\n",
       "         -8.16013923e-15,  -4.98379116e-13,   5.20091369e-09,\n",
       "          0.00000000e+00]])"
      ]
     },
     "execution_count": 172,
     "metadata": {},
     "output_type": "execute_result"
    }
   ],
   "source": [
    "pca.components_"
   ]
  },
  {
   "cell_type": "code",
   "execution_count": null,
   "metadata": {
    "collapsed": true
   },
   "outputs": [],
   "source": [
    "def feature(datum):\n",
    "    feat=[]\n",
    "    feat.append(long(datum[0]))\n",
    "    feat.append(long(datum[1]))\n",
    "    feat.append(len(datum[3]))\n",
    "    feat.append(hash(datum[3]))\n",
    "    #feat.append(datum[5])\n",
    "    feat.append(hash(datum[7]))\n",
    "    #feat.append(datum[9])\n",
    "    feat.append(len(datum[12]))\n",
    "    feat.append(1)\n",
    "    return feat"
   ]
  }
 ],
 "metadata": {
  "kernelspec": {
   "display_name": "Python 2",
   "language": "python",
   "name": "python2"
  },
  "language_info": {
   "codemirror_mode": {
    "name": "ipython",
    "version": 2
   },
   "file_extension": ".py",
   "mimetype": "text/x-python",
   "name": "python",
   "nbconvert_exporter": "python",
   "pygments_lexer": "ipython2",
   "version": "2.7.6"
  }
 },
 "nbformat": 4,
 "nbformat_minor": 0
}
