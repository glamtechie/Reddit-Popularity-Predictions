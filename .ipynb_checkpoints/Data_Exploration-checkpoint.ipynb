{
 "cells": [
  {
   "cell_type": "code",
   "execution_count": 57,
   "metadata": {
    "collapsed": false,
    "scrolled": true
   },
   "outputs": [
    {
     "name": "stdout",
     "output_type": "stream",
     "text": [
      "Populating the interactive namespace from numpy and matplotlib\n"
     ]
    }
   ],
   "source": [
    "%pylab inline"
   ]
  },
  {
   "cell_type": "code",
   "execution_count": 58,
   "metadata": {
    "collapsed": false
   },
   "outputs": [
    {
     "name": "stdout",
     "output_type": "stream",
     "text": [
      "\u001b[34mData\u001b[m\u001b[m                   Data_Exploration.ipynb README.md              features.txt\r\n"
     ]
    }
   ],
   "source": [
    "!ls"
   ]
  },
  {
   "cell_type": "code",
   "execution_count": 59,
   "metadata": {
    "collapsed": false
   },
   "outputs": [],
   "source": [
    "import csv\n",
    "fi=open('Data/redditSubmissions.csv')\n",
    "r=csv.reader(fi)\n"
   ]
  },
  {
   "cell_type": "code",
   "execution_count": 60,
   "metadata": {
    "collapsed": true
   },
   "outputs": [],
   "source": [
    "data=list(r)"
   ]
  },
  {
   "cell_type": "code",
   "execution_count": 61,
   "metadata": {
    "collapsed": false
   },
   "outputs": [
    {
     "data": {
      "text/plain": [
       "132309"
      ]
     },
     "execution_count": 61,
     "metadata": {},
     "output_type": "execute_result"
    }
   ],
   "source": [
    "len(data)"
   ]
  },
  {
   "cell_type": "code",
   "execution_count": 62,
   "metadata": {
    "collapsed": false,
    "scrolled": false
   },
   "outputs": [
    {
     "data": {
      "text/plain": [
       "['#image_id',\n",
       " 'unixtime',\n",
       " 'rawtime',\n",
       " 'title',\n",
       " 'total_votes',\n",
       " 'reddit_id',\n",
       " 'number_of_upvotes',\n",
       " 'subreddit',\n",
       " 'number_of_downvotes',\n",
       " 'localtime',\n",
       " 'score',\n",
       " 'number_of_comments',\n",
       " 'username']"
      ]
     },
     "execution_count": 62,
     "metadata": {},
     "output_type": "execute_result"
    }
   ],
   "source": [
    "data.pop(0)"
   ]
  },
  {
   "cell_type": "code",
   "execution_count": 63,
   "metadata": {
    "collapsed": false
   },
   "outputs": [
    {
     "data": {
      "text/plain": [
       "[['0',\n",
       "  '1333172439',\n",
       "  '2012-03-31T12:40:39.590113-07:00',\n",
       "  \"And here's a downvote.\",\n",
       "  '63470',\n",
       "  'rmqjs',\n",
       "  '32657',\n",
       "  'funny',\n",
       "  '30813',\n",
       "  '1333197639',\n",
       "  '1844',\n",
       "  '622',\n",
       "  'Animates_Everything'],\n",
       " ['0',\n",
       "  '1333178161',\n",
       "  '2012-03-31T14:16:01.093638-07:00',\n",
       "  'Expectation',\n",
       "  '35',\n",
       "  'rmun4',\n",
       "  '29',\n",
       "  'GifSound',\n",
       "  '6',\n",
       "  '1333203361',\n",
       "  '23',\n",
       "  '3',\n",
       "  'Gangsta_Raper'],\n",
       " ['0',\n",
       "  '1333199913',\n",
       "  '2012-03-31T20:18:33.192906-07:00',\n",
       "  'Downvote',\n",
       "  '41',\n",
       "  'rna86',\n",
       "  '32',\n",
       "  'GifSound',\n",
       "  '9',\n",
       "  '1333225113',\n",
       "  '23',\n",
       "  '0',\n",
       "  'Gangsta_Raper']]"
      ]
     },
     "execution_count": 63,
     "metadata": {},
     "output_type": "execute_result"
    }
   ],
   "source": [
    "data[0:3]"
   ]
  },
  {
   "cell_type": "code",
   "execution_count": 64,
   "metadata": {
    "collapsed": false
   },
   "outputs": [
    {
     "data": {
      "text/plain": [
       "16736"
      ]
     },
     "execution_count": 64,
     "metadata": {},
     "output_type": "execute_result"
    }
   ],
   "source": [
    "images=[x[0] for x in data]\n",
    "len(set(images))"
   ]
  },
  {
   "cell_type": "code",
   "execution_count": 65,
   "metadata": {
    "collapsed": false
   },
   "outputs": [
    {
     "name": "stdout",
     "output_type": "stream",
     "text": [
      "['0', '1333172439', '2012-03-31T12:40:39.590113-07:00', \"And here's a downvote.\", '63470', 'rmqjs', '32657', 'funny', '30813', '1333197639', '1844', '622', 'Animates_Everything']\n"
     ]
    }
   ],
   "source": [
    "print data[0]"
   ]
  },
  {
   "cell_type": "markdown",
   "metadata": {},
   "source": [
    "Unique number of images analysed=16736"
   ]
  },
  {
   "cell_type": "code",
   "execution_count": 66,
   "metadata": {
    "collapsed": true
   },
   "outputs": [],
   "source": [
    "import matplotlib.pyplot as plt"
   ]
  },
  {
   "cell_type": "code",
   "execution_count": 67,
   "metadata": {
    "collapsed": false
   },
   "outputs": [
    {
     "data": {
      "text/plain": [
       "['20089', '']"
      ]
     },
     "execution_count": 67,
     "metadata": {},
     "output_type": "execute_result"
    }
   ],
   "source": [
    "data.pop(53033)"
   ]
  },
  {
   "cell_type": "code",
   "execution_count": 68,
   "metadata": {
    "collapsed": false
   },
   "outputs": [
    {
     "data": {
      "image/png": "[encoded data removed]",
      "text/plain": [
       "<matplotlib.figure.Figure at 0x1054a9290>"
      ]
     },
     "metadata": {},
     "output_type": "display_data"
    }
   ],
   "source": [
    "upvotes=[int(x[6]) for x in data]\n",
    "downvotes=[int(x[8]) for x in data]\n",
    "plt.hist(upvotes,log=True,bins=50,color='b')\n",
    "plt.hist(downvotes,log=True,bins=50,color='r')\n",
    "plt.title(\"Distribution of upvotes/downvotes\")\n",
    "plt.xlabel(\"Value\")\n",
    "plt.ylabel(\"Frequency\")\n",
    "plt.show()"
   ]
  },
  {
   "cell_type": "code",
   "execution_count": 69,
   "metadata": {
    "collapsed": false
   },
   "outputs": [
    {
     "name": "stdout",
     "output_type": "stream",
     "text": [
      "['2713', '1349205792', '2012-10-02T19:23:12+00:00', 'Airline screwed up, a friend just posted this on Facebook.', '177103', '10tya8', '90396', 'funny', '86707', '1349205792', '3689', '3488', 'lepry']\n"
     ]
    }
   ],
   "source": [
    "for i in range(len(data)):\n",
    "    if int(data[i][6])>80000:\n",
    "        print data[i]"
   ]
  },
  {
   "cell_type": "code",
   "execution_count": 70,
   "metadata": {
    "collapsed": false
   },
   "outputs": [
    {
     "name": "stdout",
     "output_type": "stream",
     "text": [
      "['2713', '1349205792', '2012-10-02T19:23:12+00:00', 'Airline screwed up, a friend just posted this on Facebook.', '177103', '10tya8', '90396', 'funny', '86707', '1349205792', '3689', '3488', 'lepry']\n"
     ]
    }
   ],
   "source": [
    "for i in range(len(data)):\n",
    "    if int(data[i][8])>80000:\n",
    "        print data[i]"
   ]
  },
  {
   "cell_type": "code",
   "execution_count": 71,
   "metadata": {
    "collapsed": true
   },
   "outputs": [],
   "source": [
    "score=[upvotes[i]-downvotes[i] for i in xrange(len(upvotes))]"
   ]
  },
  {
   "cell_type": "code",
   "execution_count": 72,
   "metadata": {
    "collapsed": false
   },
   "outputs": [
    {
     "data": {
      "image/png": "[encoded data removed]",
      "text/plain": [
       "<matplotlib.figure.Figure at 0x1054a1ad0>"
      ]
     },
     "metadata": {},
     "output_type": "display_data"
    }
   ],
   "source": [
    "plt.hist(score,log=True,bins=50)\n",
    "plt.title(\"Score distribution\")\n",
    "plt.xlabel(\"Value\")\n",
    "plt.ylabel(\"Frequency\")\n",
    "plt.show()"
   ]
  },
  {
   "cell_type": "code",
   "execution_count": 73,
   "metadata": {
    "collapsed": false
   },
   "outputs": [
    {
     "name": "stdout",
     "output_type": "stream",
     "text": [
      "['15566', '1327490824', '2012-01-25T18:27:04-07:00', 'So my little cousin posted on FB that he was bored and gave everyone his new phone number... (pic)', '114451', 'owx3v', '63392', 'funny', '51059', '1327516024', '12333', '1612', 'frackyou']\n",
      "['20414', '1333422529', '2012-04-03T10:08:49-07:00', 'My friend calls him &quot;Mr Ridiculously Photogenic Guy&quot;', '92874', 'rrew0', '52391', 'pics', '40483', '1333447729', '11908', '2681', 'TheKoG']\n",
      "['22478', '1343466356', '2012-07-28T16:05:56-07:00', 'The Bus Knight', '114964', 'xbfwb', '67767', 'funny', '47197', '1343491556', '20570', '1463', 'Robert_Houdin']\n",
      "['6952', '1311262850', '2011-07-21T22:40:50-07:00', 'This is called humanity.', '62718', 'iwkkx', '36490', 'pics', '26228', '1311288050', '10262', '1514', 'freestylepopcorn']\n"
     ]
    }
   ],
   "source": [
    "for i in range(len(score)):\n",
    "    if score[i]>10000:\n",
    "        print data[i]"
   ]
  },
  {
   "cell_type": "code",
   "execution_count": 74,
   "metadata": {
    "collapsed": false
   },
   "outputs": [
    {
     "name": "stdout",
     "output_type": "stream",
     "text": [
      "['1066', '1352725707', '2012-11-12T13:08:27+00:00', 'Picture of draining sink that looks like an eye [x-post from r/mildlyinteresting]', '282', '13277r', '80', 'pics', '202', '1352725707', '-122', '13', 'choc_is_back']\n",
      "['12745', '1351687185', '2012-10-31T12:39:45+00:00', \"Disney, you may have purchased Star Wars, but in a profound way, the mythos belongs to all of us. We're putting our trust in you, so please, make us proud. As a gesture of good faith, I have made this image to commemorate the occasion.\", '870', '12e8u4', '303', 'movies', '567', '1351687185', '-264', '79', '']\n",
      "['24407', '1359064672', '2013-01-24T21:57:52+00:00', \"I actually hope this is a repost so I don't have to give Facebook credit.\", '290', '177qzm', '89', 'funny', '201', '1359064672', '-112', '13', 'mtxrcr']\n"
     ]
    }
   ],
   "source": [
    "for i in range(len(score)):\n",
    "    if score[i]<-100:\n",
    "        print data[i]"
   ]
  },
  {
   "cell_type": "code",
   "execution_count": 75,
   "metadata": {
    "collapsed": true
   },
   "outputs": [],
   "source": [
    "d={}\n",
    "for x in data:\n",
    "    if x[0] in d:\n",
    "        d[x[0]]+=1\n",
    "    else:\n",
    "        d[x[0]]=1"
   ]
  },
  {
   "cell_type": "code",
   "execution_count": 76,
   "metadata": {
    "collapsed": false
   },
   "outputs": [
    {
     "data": {
      "text/plain": [
       "'6037'"
      ]
     },
     "execution_count": 76,
     "metadata": {},
     "output_type": "execute_result"
    }
   ],
   "source": [
    "import operator\n",
    "max(d.iteritems(), key=operator.itemgetter(1))[0]"
   ]
  },
  {
   "cell_type": "code",
   "execution_count": 77,
   "metadata": {
    "collapsed": false
   },
   "outputs": [
    {
     "data": {
      "text/plain": [
       "166"
      ]
     },
     "execution_count": 77,
     "metadata": {},
     "output_type": "execute_result"
    }
   ],
   "source": [
    "d['6037']"
   ]
  },
  {
   "cell_type": "code",
   "execution_count": 78,
   "metadata": {
    "collapsed": true
   },
   "outputs": [],
   "source": [
    "resub=[]\n",
    "for k in d.keys():\n",
    "    resub.append(d[k])"
   ]
  },
  {
   "cell_type": "markdown",
   "metadata": {},
   "source": [
    "Image resubmitted maximum times=6037,166 times"
   ]
  },
  {
   "cell_type": "code",
   "execution_count": 79,
   "metadata": {
    "collapsed": false
   },
   "outputs": [
    {
     "data": {
      "image/png": "[encoded data removed]",
      "text/plain": [
       "<matplotlib.figure.Figure at 0x1054a1c10>"
      ]
     },
     "metadata": {},
     "output_type": "display_data"
    }
   ],
   "source": [
    "plt.hist(resub,log=True,bins=50,color='g')\n",
    "plt.title(\"Resubmission distribution\")\n",
    "plt.xlabel(\"Value\")\n",
    "plt.ylabel(\"Frequency\")\n",
    "plt.show()"
   ]
  },
  {
   "cell_type": "code",
   "execution_count": 80,
   "metadata": {
    "collapsed": false
   },
   "outputs": [
    {
     "data": {
      "text/plain": [
       "63338"
      ]
     },
     "execution_count": 80,
     "metadata": {},
     "output_type": "execute_result"
    }
   ],
   "source": [
    "users=[x[12] for x in data]\n",
    "len(set(users))"
   ]
  },
  {
   "cell_type": "markdown",
   "metadata": {},
   "source": [
    "No. of unique users=63338"
   ]
  },
  {
   "cell_type": "code",
   "execution_count": 81,
   "metadata": {
    "collapsed": true
   },
   "outputs": [],
   "source": [
    "u={}\n",
    "for x in data:\n",
    "    if x[12] in u:\n",
    "        u[x[12]]+=1\n",
    "    else:\n",
    "        u[x[12]]=1"
   ]
  },
  {
   "cell_type": "code",
   "execution_count": 82,
   "metadata": {
    "collapsed": false
   },
   "outputs": [
    {
     "data": {
      "text/plain": [
       "''"
      ]
     },
     "execution_count": 82,
     "metadata": {},
     "output_type": "execute_result"
    }
   ],
   "source": [
    "max(u.iteritems(), key=operator.itemgetter(1))[0]"
   ]
  },
  {
   "cell_type": "code",
   "execution_count": 83,
   "metadata": {
    "collapsed": false
   },
   "outputs": [
    {
     "data": {
      "text/plain": [
       "20259"
      ]
     },
     "execution_count": 83,
     "metadata": {},
     "output_type": "execute_result"
    }
   ],
   "source": [
    "u['']"
   ]
  },
  {
   "cell_type": "code",
   "execution_count": 84,
   "metadata": {
    "collapsed": true
   },
   "outputs": [],
   "source": [
    "del u['']"
   ]
  },
  {
   "cell_type": "code",
   "execution_count": 85,
   "metadata": {
    "collapsed": false
   },
   "outputs": [
    {
     "data": {
      "text/plain": [
       "'Gangsta_Raper'"
      ]
     },
     "execution_count": 85,
     "metadata": {},
     "output_type": "execute_result"
    }
   ],
   "source": [
    "max(u.iteritems(), key=operator.itemgetter(1))[0]"
   ]
  },
  {
   "cell_type": "code",
   "execution_count": 86,
   "metadata": {
    "collapsed": false
   },
   "outputs": [
    {
     "data": {
      "text/plain": [
       "5608"
      ]
     },
     "execution_count": 86,
     "metadata": {},
     "output_type": "execute_result"
    }
   ],
   "source": [
    "u['Gangsta_Raper']"
   ]
  },
  {
   "cell_type": "markdown",
   "metadata": {},
   "source": [
    "'Gangsta_Raper' posted 5608 times"
   ]
  },
  {
   "cell_type": "code",
   "execution_count": 87,
   "metadata": {
    "collapsed": true
   },
   "outputs": [],
   "source": [
    "user_posts=[]\n",
    "for k in u.keys():\n",
    "    user_posts.append(u[k])"
   ]
  },
  {
   "cell_type": "code",
   "execution_count": 88,
   "metadata": {
    "collapsed": false
   },
   "outputs": [
    {
     "data": {
      "image/png": "[encoded data removed]",
      "text/plain": [
       "<matplotlib.figure.Figure at 0x1065e3c10>"
      ]
     },
     "metadata": {},
     "output_type": "display_data"
    }
   ],
   "source": [
    "plt.hist(user_posts,log=True,bins=100,color='y')\n",
    "plt.title(\"User posting distribution\")\n",
    "plt.xlabel(\"Value\")\n",
    "plt.ylabel(\"Frequency\")\n",
    "plt.show()"
   ]
  },
  {
   "cell_type": "code",
   "execution_count": 89,
   "metadata": {
    "collapsed": false,
    "scrolled": true
   },
   "outputs": [
    {
     "data": {
      "image/png": "[encoded data removed]",
      "text/plain": [
       "<matplotlib.figure.Figure at 0x11efaf450>"
      ]
     },
     "metadata": {},
     "output_type": "display_data"
    }
   ],
   "source": [
    "comments=[int(x[11]) for x in data]\n",
    "plt.hist(comments,log=True,bins=50,color='r')\n",
    "plt.title(\"Comments distribution\")\n",
    "plt.xlabel(\"Value\")\n",
    "plt.ylabel(\"Frequency\")\n",
    "plt.show()"
   ]
  },
  {
   "cell_type": "code",
   "execution_count": 90,
   "metadata": {
    "collapsed": false
   },
   "outputs": [
    {
     "name": "stdout",
     "output_type": "stream",
     "text": [
      "['11682', '1316149015', '2011-09-16T11:56:55-07:00', 'Your superhero name is going to suck...', '7508', 'khxit', '4159', 'reddit.com', '3349', '1316174215', '810', '8357', 'spez']\n"
     ]
    }
   ],
   "source": [
    "for i in range(len(score)):\n",
    "    if comments[i]>8000:\n",
    "        print data[i]"
   ]
  },
  {
   "cell_type": "markdown",
   "metadata": {},
   "source": [
    "Subreddit distribution"
   ]
  },
  {
   "cell_type": "code",
   "execution_count": 91,
   "metadata": {
    "collapsed": true
   },
   "outputs": [],
   "source": [
    "subreddit={}\n",
    "for x in data:\n",
    "    if x[7] in subreddit:\n",
    "        subreddit[x[7]]+=1\n",
    "    else:\n",
    "        subreddit[x[7]]=0"
   ]
  },
  {
   "cell_type": "code",
   "execution_count": 92,
   "metadata": {
    "collapsed": false
   },
   "outputs": [
    {
     "data": {
      "image/png": "[encoded data removed]",
      "text/plain": [
       "<matplotlib.figure.Figure at 0x10b5b9bd0>"
      ]
     },
     "metadata": {},
     "output_type": "display_data"
    }
   ],
   "source": [
    "sreddit=[subreddit[x] for x in subreddit.keys()]\n",
    "plt.hist(sreddit,log=True,bins=40,color='b')\n",
    "plt.title(\"Subreddit distribution\")\n",
    "plt.xlabel(\"Value\")\n",
    "plt.ylabel(\"Frequency\")\n",
    "plt.show()"
   ]
  },
  {
   "cell_type": "code",
   "execution_count": 93,
   "metadata": {
    "collapsed": false
   },
   "outputs": [],
   "source": [
    "sub_reddit=[]\n",
    "s_count=0\n",
    "ignore=[]\n",
    "i_count=0\n",
    "for x in subreddit.keys():\n",
    "    if subreddit[x]>20:\n",
    "        sub_reddit.append(x)\n",
    "        s_count+=subreddit[x]\n",
    "    else:\n",
    "        ignore.append(x)\n",
    "        i_count+=subreddit[x]"
   ]
  },
  {
   "cell_type": "code",
   "execution_count": 94,
   "metadata": {
    "collapsed": false
   },
   "outputs": [
    {
     "data": {
      "text/plain": [
       "(57, 129387, 810, 2053)"
      ]
     },
     "execution_count": 94,
     "metadata": {},
     "output_type": "execute_result"
    }
   ],
   "source": [
    "len(sub_reddit),s_count,len(ignore),i_count"
   ]
  },
  {
   "cell_type": "code",
   "execution_count": null,
   "metadata": {
    "collapsed": true
   },
   "outputs": [],
   "source": []
  },
  {
   "cell_type": "markdown",
   "metadata": {},
   "source": [
    "# Prediction task- Predict which subreddit the post will be posted to "
   ]
  },
  {
   "cell_type": "markdown",
   "metadata": {},
   "source": [
    "# feature analysis #"
   ]
  },
  {
   "cell_type": "code",
   "execution_count": 40,
   "metadata": {
    "collapsed": false
   },
   "outputs": [],
   "source": [
    "import hashlib\n",
    "import datetime\n",
    "import re\n",
    "import string\n",
    "import pandas as pd"
   ]
  },
  {
   "cell_type": "code",
   "execution_count": 41,
   "metadata": {
    "collapsed": true
   },
   "outputs": [],
   "source": [
    "def feature(datum):\n",
    "    t=datum[2]\n",
    "    tFormatted=datetime.datetime(int(t[0:4]),int(t[5:7]),int(t[8:10]),\n",
    "                                     int(t[11:13]),int(t[14:16]),int(t[17:19]))\n",
    "    title=datum[3]\n",
    "    punctuations=re.findall(r\"[.,!?;]\",title)\n",
    "    words=title.translate(string.maketrans(\"\",\"\"), string.punctuation).split(' ')  \n",
    "    sentc=1\n",
    "    wordc=len(words)\n",
    "    charc= sum(len(w) for w in words)\n",
    "    ari=int(4.71 * charc / wordc + 0.5 * wordc / sentc - 21.43)\n",
    "    ariBucket=int(ari/3)\n",
    "    feat=[]\n",
    "    #feat.append(long(datum[0]))\n",
    "    feat.append(long(datum[1])) #unixtime\n",
    "    feat.append(tFormatted.date().weekday()) #day ofthe week\n",
    "    feat.append(tFormatted.hour) #hour of the day in local time\n",
    "    feat.append(len(punctuations)*1.0/len(words)) #punctuation to word ratio\n",
    "    feat.append(ari) #automatic readability index of title\n",
    "    feat.append(ariBucket) #bucketed ari\n",
    "    feat.append(len(datum[3]))\n",
    "    feat.append(hash(datum[3]))#hashed title -> replace with sentiment analysis\n",
    "    #feat.append(datum[5])\n",
    "    #feat.append(hash(datum[7]))#subreddit hashed\n",
    "    #feat.append(datum[9])\n",
    "    feat.append(len(datum[12]))#comment length\n",
    "    feat.append(1)\n",
    "    return feat"
   ]
  },
  {
   "cell_type": "code",
   "execution_count": 42,
   "metadata": {
    "collapsed": false
   },
   "outputs": [],
   "source": [
    "dataY=score\n",
    "dataXF=[feature(d) for d in data]"
   ]
  },
  {
   "cell_type": "markdown",
   "metadata": {},
   "source": [
    "#Standardizing the data"
   ]
  },
  {
   "cell_type": "code",
   "execution_count": 43,
   "metadata": {
    "collapsed": false
   },
   "outputs": [],
   "source": [
    "dataXDF=pd.DataFrame(dataXF)\n",
    "dataXDF=dataXDF.apply(lambda x: (x - np.min(x)) / (np.max(x) - np.min(x)))\n",
    "dataXDF[10]=1\n",
    "dataXDF=dataXDF.replace([np.inf, -np.inf], np.nan)\n",
    "dataXDF2=dataXDF.fillna(method=\"backfill\")\n",
    "dataX=dataXDF2.values.tolist()"
   ]
  },
  {
   "cell_type": "code",
   "execution_count": 44,
   "metadata": {
    "collapsed": true
   },
   "outputs": [],
   "source": [
    "import math\n",
    "trainX=dataX[0:int(len(dataX)*0.8)]\n",
    "validX=dataX[int(len(dataX)*0.8)+1:int(len(dataX)*0.9)]\n",
    "testX=dataX[int(len(dataX)*0.9)+1:len(dataX)]\n",
    "\n",
    "trainY=dataY[0:int(len(dataY)*0.8)]\n",
    "validY=dataY[int(len(dataY)*0.8)+1:int(len(dataY)*0.9)]\n",
    "testY=dataY[int(len(dataY)*0.9)+1:len(dataY)]\n",
    "\n",
    "idx = np.arange(len(trainX))\n",
    "np.random.seed(13)\n",
    "np.random.shuffle(idx)\n",
    "\n",
    "trainX_std=[]\n",
    "for i in xrange(len(trainX)):\n",
    "    trainX_std.append(trainX[idx[i]])\n",
    "trainY_std=[]\n",
    "for i in xrange(len(trainY)):\n",
    "    trainY_std.append(trainY[idx[i]])\n",
    "    \n",
    "trainX=trainX_std\n",
    "trainY=trainY_std"
   ]
  },
  {
   "cell_type": "code",
   "execution_count": 45,
   "metadata": {
    "collapsed": false,
    "scrolled": true
   },
   "outputs": [
    {
     "ename": "SyntaxError",
     "evalue": "EOF while scanning triple-quoted string literal (<ipython-input-45-a6cc1cc60382>, line 3)",
     "output_type": "error",
     "traceback": [
      "\u001b[0;36m  File \u001b[0;32m\"<ipython-input-45-a6cc1cc60382>\"\u001b[0;36m, line \u001b[0;32m3\u001b[0m\n\u001b[0;31m    testXDF=pd.DataFrame(testX)\u001b[0m\n\u001b[0m                               \n^\u001b[0m\n\u001b[0;31mSyntaxError\u001b[0m\u001b[0;31m:\u001b[0m EOF while scanning triple-quoted string literal\n"
     ]
    }
   ],
   "source": [
    "'''trainXDF=pd.DataFrame(trainX)\n",
    "validXDF=pd.DataFrame(validX)\n",
    "testXDF=pd.DataFrame(testX)"
   ]
  },
  {
   "cell_type": "code",
   "execution_count": 46,
   "metadata": {
    "collapsed": false,
    "scrolled": true
   },
   "outputs": [
    {
     "ename": "SyntaxError",
     "evalue": "EOF while scanning triple-quoted string literal (<ipython-input-46-b201dc5e2228>, line 1)",
     "output_type": "error",
     "traceback": [
      "\u001b[0;36m  File \u001b[0;32m\"<ipython-input-46-b201dc5e2228>\"\u001b[0;36m, line \u001b[0;32m1\u001b[0m\n\u001b[0;31m    '''testXDF.head()\u001b[0m\n\u001b[0m                     ^\u001b[0m\n\u001b[0;31mSyntaxError\u001b[0m\u001b[0;31m:\u001b[0m EOF while scanning triple-quoted string literal\n"
     ]
    }
   ],
   "source": [
    "'''testXDF.head()"
   ]
  },
  {
   "cell_type": "code",
   "execution_count": 137,
   "metadata": {
    "collapsed": false
   },
   "outputs": [],
   "source": [
    "'''trainXDF=trainXDF.apply(lambda x: (x - np.min(x)) / (np.max(x) - np.min(x)))\n",
    "trainXDF[10]=1\n",
    "validXDF=validXDF.apply(lambda x: (x - np.min(x)) / (np.max(x) - np.min(x)))\n",
    "validXDF[10]=1\n",
    "testXDF=testXDF.apply(lambda x: (x - np.min(x)) / (np.max(x) - np.min(x)))\n",
    "testXDF[10]=1\n",
    "trainXDF=trainXDF.replace([np.inf, -np.inf], np.nan)\n",
    "validXDF=validXDF.replace([np.inf, -np.inf], np.nan)\n",
    "testXDF=testXDF.replace([np.inf, -np.inf], np.nan)"
   ]
  },
  {
   "cell_type": "code",
   "execution_count": 138,
   "metadata": {
    "collapsed": false
   },
   "outputs": [],
   "source": [
    "'''trainXDF2=trainXDF.fillna(method=\"backfill\")\n",
    "validXDF2=validXDF.fillna(method=\"backfill\")\n",
    "testXDF2=testXDF.fillna(method=\"backfill\")"
   ]
  },
  {
   "cell_type": "code",
   "execution_count": 139,
   "metadata": {
    "collapsed": false,
    "scrolled": true
   },
   "outputs": [
    {
     "data": {
      "text/plain": [
       "pandas.core.frame.DataFrame"
      ]
     },
     "execution_count": 139,
     "metadata": {},
     "output_type": "execute_result"
    }
   ],
   "source": [
    "'''type(trainXDF2)"
   ]
  },
  {
   "cell_type": "code",
   "execution_count": 140,
   "metadata": {
    "collapsed": false
   },
   "outputs": [],
   "source": [
    "'''trainX=trainXDF2.values.tolist()\n",
    "validX=validXDF2.values.tolist()\n",
    "testX=testXDF2.values.tolist()"
   ]
  },
  {
   "cell_type": "code",
   "execution_count": 47,
   "metadata": {
    "collapsed": false
   },
   "outputs": [
    {
     "name": "stdout",
     "output_type": "stream",
     "text": [
      "132307\n",
      "132307\n",
      "13230\n",
      "105845\n"
     ]
    }
   ],
   "source": [
    "print len(dataX)\n",
    "print len(dataY)\n",
    "print len(testX)\n",
    "print len(trainX)"
   ]
  },
  {
   "cell_type": "code",
   "execution_count": 48,
   "metadata": {
    "collapsed": false
   },
   "outputs": [
    {
     "data": {
      "text/plain": [
       "[0.958428646291711,\n",
       " 1.0,\n",
       " 0.0,\n",
       " 0.07142857142857142,\n",
       " 0.03333333333333333,\n",
       " 0.03571428571428571,\n",
       " 0.01282051282051282,\n",
       " 32942.73847621152,\n",
       " 196.05251212970342,\n",
       " 0.0,\n",
       " 1.0]"
      ]
     },
     "execution_count": 48,
     "metadata": {},
     "output_type": "execute_result"
    }
   ],
   "source": [
    "trainX[0]"
   ]
  },
  {
   "cell_type": "markdown",
   "metadata": {},
   "source": [
    "#Simple linear regression for initial testing#"
   ]
  },
  {
   "cell_type": "code",
   "execution_count": 49,
   "metadata": {
    "collapsed": false
   },
   "outputs": [
    {
     "data": {
      "text/plain": [
       "LinearRegression(copy_X=True, fit_intercept=True, n_jobs=1, normalize=False)"
      ]
     },
     "execution_count": 49,
     "metadata": {},
     "output_type": "execute_result"
    }
   ],
   "source": [
    "from sklearn import linear_model\n",
    "regr = linear_model.LinearRegression()\n",
    "regr.fit(trainX, trainY)"
   ]
  },
  {
   "cell_type": "code",
   "execution_count": 50,
   "metadata": {
    "collapsed": false
   },
   "outputs": [
    {
     "data": {
      "text/plain": [
       "0.020471860124335883"
      ]
     },
     "execution_count": 50,
     "metadata": {},
     "output_type": "execute_result"
    }
   ],
   "source": [
    "regr.score(testX,testY)"
   ]
  },
  {
   "cell_type": "code",
   "execution_count": null,
   "metadata": {
    "collapsed": true
   },
   "outputs": [],
   "source": []
  },
  {
   "cell_type": "markdown",
   "metadata": {},
   "source": [
    "#PCA#"
   ]
  },
  {
   "cell_type": "code",
   "execution_count": 51,
   "metadata": {
    "collapsed": false
   },
   "outputs": [],
   "source": [
    "from sklearn.decomposition import PCA\n",
    "pca = PCA(n_components=6)\n",
    "pca.fit(trainX)\n",
    "trainX_pca=pca.transform(trainX)\n",
    "testX_pca=pca.transform(testX)"
   ]
  },
  {
   "cell_type": "code",
   "execution_count": 52,
   "metadata": {
    "collapsed": false
   },
   "outputs": [
    {
     "name": "stdout",
     "output_type": "stream",
     "text": [
      "[  9.99995926e-01   4.07368762e-06   2.86051516e-11   2.15424652e-11\n",
      "   1.54976644e-11   2.17552206e-12]\n"
     ]
    }
   ],
   "source": [
    "print(pca.explained_variance_ratio_) "
   ]
  },
  {
   "cell_type": "code",
   "execution_count": 53,
   "metadata": {
    "collapsed": false
   },
   "outputs": [
    {
     "data": {
      "text/plain": [
       "0.019715048872389174"
      ]
     },
     "execution_count": 53,
     "metadata": {},
     "output_type": "execute_result"
    }
   ],
   "source": [
    "regr.fit(trainX_pca, trainY)\n",
    "regr.score(testX_pca,testY)"
   ]
  },
  {
   "cell_type": "code",
   "execution_count": 54,
   "metadata": {
    "collapsed": false
   },
   "outputs": [
    {
     "data": {
      "text/plain": [
       "array([[ -4.68622296e-09,   1.69617954e-08,   3.29359942e-08,\n",
       "          1.20710667e-09,  -5.08293068e-10,  -7.37257022e-10,\n",
       "          4.67918646e-09,   1.00000000e+00,  -3.47539698e-06,\n",
       "          1.15263631e-08,   0.00000000e+00],\n",
       "       [  3.28884914e-07,  -4.09762248e-05,  -2.57670460e-05,\n",
       "         -2.41187812e-06,  -2.99977448e-06,  -3.01414261e-06,\n",
       "          1.19023573e-05,   3.47540032e-06,   9.99999985e-01,\n",
       "         -1.64830310e-04,   0.00000000e+00],\n",
       "       [  7.40917118e-03,  -9.99237097e-01,  -3.61895630e-02,\n",
       "         -7.37513264e-05,   4.73955018e-04,   4.59980031e-04,\n",
       "          5.60956399e-03,   1.81284430e-08,  -4.38142046e-05,\n",
       "         -1.13460220e-02,   0.00000000e+00],\n",
       "       [  8.07078750e-03,   3.63385209e-02,  -9.99273977e-01,\n",
       "         -1.91247017e-04,   7.62365275e-05,   4.32651697e-05,\n",
       "         -7.24167585e-04,   3.23414668e-08,  -2.55856804e-05,\n",
       "         -8.08236992e-03,   0.00000000e+00],\n",
       "       [  3.12915936e-03,   1.11004910e-02,   8.51208703e-03,\n",
       "          4.61248617e-04,   4.86218058e-04,   4.83718499e-04,\n",
       "          5.66719446e-03,   1.04738810e-08,  -1.64200938e-04,\n",
       "         -9.99880845e-01,   0.00000000e+00],\n",
       "       [  9.77671343e-01,   8.09265764e-03,   8.00721702e-03,\n",
       "         -1.24085791e-02,   1.05264017e-02,   1.05420107e-02,\n",
       "          2.08887083e-01,   3.17523896e-09,  -1.51017788e-06,\n",
       "          4.40610306e-03,   0.00000000e+00]])"
      ]
     },
     "execution_count": 54,
     "metadata": {},
     "output_type": "execute_result"
    }
   ],
   "source": [
    "pca.components_"
   ]
  },
  {
   "cell_type": "markdown",
   "metadata": {},
   "source": [
    "#Random Forest Regressor"
   ]
  },
  {
   "cell_type": "code",
   "execution_count": 55,
   "metadata": {
    "collapsed": true
   },
   "outputs": [],
   "source": [
    "from sklearn.ensemble.forest import RandomForestRegressor\n",
    "from sklearn.datasets import load_boston\n",
    "from sklearn.ensemble import RandomForestRegressor\n",
    "from sklearn.pipeline import Pipeline\n",
    "from sklearn.preprocessing import Imputer\n",
    "from sklearn.cross_validation import cross_val_score"
   ]
  },
  {
   "cell_type": "code",
   "execution_count": 56,
   "metadata": {
    "collapsed": false
   },
   "outputs": [
    {
     "name": "stdout",
     "output_type": "stream",
     "text": [
      "Score with the entire dataset = 0.06\n"
     ]
    }
   ],
   "source": [
    "estimator = RandomForestRegressor(random_state=0, n_estimators=100)\n",
    "score = cross_val_score(estimator, dataX, dataY).mean()\n",
    "print(\"Score with the entire dataset = %.2f\" % score)"
   ]
  },
  {
   "cell_type": "code",
   "execution_count": null,
   "metadata": {
    "collapsed": true
   },
   "outputs": [],
   "source": []
  }
 ],
 "metadata": {
  "kernelspec": {
   "display_name": "Python 2",
   "language": "python",
   "name": "python2"
  },
  "language_info": {
   "codemirror_mode": {
    "name": "ipython",
    "version": 2
   },
   "file_extension": ".py",
   "mimetype": "text/x-python",
   "name": "python",
   "nbconvert_exporter": "python",
   "pygments_lexer": "ipython2",
   "version": "2.7.10"
  }
 },
 "nbformat": 4,
 "nbformat_minor": 0
}
