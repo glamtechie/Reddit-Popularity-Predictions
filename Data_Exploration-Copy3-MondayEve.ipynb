{
 "cells": [
  {
   "cell_type": "code",
   "execution_count": 1,
   "metadata": {
    "collapsed": false,
    "scrolled": true
   },
   "outputs": [
    {
     "name": "stdout",
     "output_type": "stream",
     "text": [
      "Populating the interactive namespace from numpy and matplotlib\n"
     ]
    }
   ],
   "source": [
    "%pylab inline"
   ]
  },
  {
   "cell_type": "code",
   "execution_count": 2,
   "metadata": {
    "collapsed": false
   },
   "outputs": [
    {
     "name": "stdout",
     "output_type": "stream",
     "text": [
      "Data\t\t\t      Data_Exploration-Copy2.ipynb  Data_Exploration.ipynb  README.md\r\n",
      "Data_Exploration-Copy1.ipynb  Data_Exploration_copy3.ipynb  features.txt\r\n"
     ]
    }
   ],
   "source": [
    "!ls"
   ]
  },
  {
   "cell_type": "code",
   "execution_count": 3,
   "metadata": {
    "collapsed": false
   },
   "outputs": [],
   "source": [
    "import csv\n",
    "fi=open('Data/redditSubmissions.csv')\n",
    "r=csv.reader(fi)\n"
   ]
  },
  {
   "cell_type": "code",
   "execution_count": 4,
   "metadata": {
    "collapsed": true
   },
   "outputs": [],
   "source": [
    "data=list(r)"
   ]
  },
  {
   "cell_type": "code",
   "execution_count": 5,
   "metadata": {
    "collapsed": false
   },
   "outputs": [
    {
     "data": {
      "text/plain": [
       "132309"
      ]
     },
     "execution_count": 5,
     "metadata": {},
     "output_type": "execute_result"
    }
   ],
   "source": [
    "len(data)"
   ]
  },
  {
   "cell_type": "code",
   "execution_count": 6,
   "metadata": {
    "collapsed": false,
    "scrolled": false
   },
   "outputs": [
    {
     "data": {
      "text/plain": [
       "['#image_id',\n",
       " 'unixtime',\n",
       " 'rawtime',\n",
       " 'title',\n",
       " 'total_votes',\n",
       " 'reddit_id',\n",
       " 'number_of_upvotes',\n",
       " 'subreddit',\n",
       " 'number_of_downvotes',\n",
       " 'localtime',\n",
       " 'score',\n",
       " 'number_of_comments',\n",
       " 'username']"
      ]
     },
     "execution_count": 6,
     "metadata": {},
     "output_type": "execute_result"
    }
   ],
   "source": [
    "data.pop(0)"
   ]
  },
  {
   "cell_type": "code",
   "execution_count": 7,
   "metadata": {
    "collapsed": false
   },
   "outputs": [
    {
     "data": {
      "text/plain": [
       "[['0',\n",
       "  '1333172439',\n",
       "  '2012-03-31T12:40:39.590113-07:00',\n",
       "  \"And here's a downvote.\",\n",
       "  '63470',\n",
       "  'rmqjs',\n",
       "  '32657',\n",
       "  'funny',\n",
       "  '30813',\n",
       "  '1333197639',\n",
       "  '1844',\n",
       "  '622',\n",
       "  'Animates_Everything'],\n",
       " ['0',\n",
       "  '1333178161',\n",
       "  '2012-03-31T14:16:01.093638-07:00',\n",
       "  'Expectation',\n",
       "  '35',\n",
       "  'rmun4',\n",
       "  '29',\n",
       "  'GifSound',\n",
       "  '6',\n",
       "  '1333203361',\n",
       "  '23',\n",
       "  '3',\n",
       "  'Gangsta_Raper'],\n",
       " ['0',\n",
       "  '1333199913',\n",
       "  '2012-03-31T20:18:33.192906-07:00',\n",
       "  'Downvote',\n",
       "  '41',\n",
       "  'rna86',\n",
       "  '32',\n",
       "  'GifSound',\n",
       "  '9',\n",
       "  '1333225113',\n",
       "  '23',\n",
       "  '0',\n",
       "  'Gangsta_Raper']]"
      ]
     },
     "execution_count": 7,
     "metadata": {},
     "output_type": "execute_result"
    }
   ],
   "source": [
    "data[0:3]"
   ]
  },
  {
   "cell_type": "code",
   "execution_count": 8,
   "metadata": {
    "collapsed": false
   },
   "outputs": [
    {
     "data": {
      "text/plain": [
       "16736"
      ]
     },
     "execution_count": 8,
     "metadata": {},
     "output_type": "execute_result"
    }
   ],
   "source": [
    "images=[x[0] for x in data]\n",
    "len(set(images))"
   ]
  },
  {
   "cell_type": "code",
   "execution_count": 9,
   "metadata": {
    "collapsed": false
   },
   "outputs": [
    {
     "name": "stdout",
     "output_type": "stream",
     "text": [
      "['0', '1333172439', '2012-03-31T12:40:39.590113-07:00', \"And here's a downvote.\", '63470', 'rmqjs', '32657', 'funny', '30813', '1333197639', '1844', '622', 'Animates_Everything']\n"
     ]
    }
   ],
   "source": [
    "print data[0]"
   ]
  },
  {
   "cell_type": "markdown",
   "metadata": {},
   "source": [
    "Unique number of images analysed=16736"
   ]
  },
  {
   "cell_type": "code",
   "execution_count": 10,
   "metadata": {
    "collapsed": true
   },
   "outputs": [],
   "source": [
    "import matplotlib.pyplot as plt"
   ]
  },
  {
   "cell_type": "code",
   "execution_count": 11,
   "metadata": {
    "collapsed": false
   },
   "outputs": [
    {
     "data": {
      "text/plain": [
       "['20089', '']"
      ]
     },
     "execution_count": 11,
     "metadata": {},
     "output_type": "execute_result"
    }
   ],
   "source": [
    "data.pop(53033)"
   ]
  },
  {
   "cell_type": "code",
   "execution_count": null,
   "metadata": {
    "collapsed": true
   },
   "outputs": [],
   "source": []
  },
  {
   "cell_type": "code",
   "execution_count": 12,
   "metadata": {
    "collapsed": false,
    "scrolled": true
   },
   "outputs": [
    {
     "data": {
      "image/png": "[encoded data removed]",
      "text/plain": [
       "<matplotlib.figure.Figure at 0x7fea0b9ee750>"
      ]
     },
     "metadata": {},
     "output_type": "display_data"
    }
   ],
   "source": [
    "upvotes=[int(x[6]) for x in data]\n",
    "downvotes=[int(x[8]) for x in data]\n",
    "plt.hist(upvotes,log=True,bins=50,color='b')\n",
    "plt.hist(downvotes,log=True,bins=50,color='r')\n",
    "plt.title(\"Distribution of upvotes/downvotes\")\n",
    "plt.xlabel(\"Value\")\n",
    "plt.ylabel(\"Frequency\")\n",
    "plt.show()"
   ]
  },
  {
   "cell_type": "code",
   "execution_count": 13,
   "metadata": {
    "collapsed": false
   },
   "outputs": [
    {
     "name": "stdout",
     "output_type": "stream",
     "text": [
      "['2713', '1349205792', '2012-10-02T19:23:12+00:00', 'Airline screwed up, a friend just posted this on Facebook.', '177103', '10tya8', '90396', 'funny', '86707', '1349205792', '3689', '3488', 'lepry']\n"
     ]
    }
   ],
   "source": [
    "for i in range(len(data)):\n",
    "    if int(data[i][6])>80000:\n",
    "        print data[i]"
   ]
  },
  {
   "cell_type": "code",
   "execution_count": 14,
   "metadata": {
    "collapsed": false
   },
   "outputs": [
    {
     "name": "stdout",
     "output_type": "stream",
     "text": [
      "['2713', '1349205792', '2012-10-02T19:23:12+00:00', 'Airline screwed up, a friend just posted this on Facebook.', '177103', '10tya8', '90396', 'funny', '86707', '1349205792', '3689', '3488', 'lepry']\n"
     ]
    }
   ],
   "source": [
    "for i in range(len(data)):\n",
    "    if int(data[i][8])>80000:\n",
    "        print data[i]"
   ]
  },
  {
   "cell_type": "code",
   "execution_count": 15,
   "metadata": {
    "collapsed": true
   },
   "outputs": [],
   "source": [
    "score=[upvotes[i]-downvotes[i] for i in xrange(len(upvotes))]"
   ]
  },
  {
   "cell_type": "code",
   "execution_count": 16,
   "metadata": {
    "collapsed": false
   },
   "outputs": [
    {
     "data": {
      "image/png": "[encoded data removed]",
      "text/plain": [
       "<matplotlib.figure.Figure at 0x7fea0b9def10>"
      ]
     },
     "metadata": {},
     "output_type": "display_data"
    }
   ],
   "source": [
    "plt.hist(score,log=True,bins=50)\n",
    "plt.title(\"Score distribution\")\n",
    "plt.xlabel(\"Value\")\n",
    "plt.ylabel(\"Frequency\")\n",
    "plt.show()"
   ]
  },
  {
   "cell_type": "code",
   "execution_count": 17,
   "metadata": {
    "collapsed": false
   },
   "outputs": [
    {
     "name": "stdout",
     "output_type": "stream",
     "text": [
      "['15566', '1327490824', '2012-01-25T18:27:04-07:00', 'So my little cousin posted on FB that he was bored and gave everyone his new phone number... (pic)', '114451', 'owx3v', '63392', 'funny', '51059', '1327516024', '12333', '1612', 'frackyou']\n",
      "['20414', '1333422529', '2012-04-03T10:08:49-07:00', 'My friend calls him &quot;Mr Ridiculously Photogenic Guy&quot;', '92874', 'rrew0', '52391', 'pics', '40483', '1333447729', '11908', '2681', 'TheKoG']\n",
      "['22478', '1343466356', '2012-07-28T16:05:56-07:00', 'The Bus Knight', '114964', 'xbfwb', '67767', 'funny', '47197', '1343491556', '20570', '1463', 'Robert_Houdin']\n",
      "['6952', '1311262850', '2011-07-21T22:40:50-07:00', 'This is called humanity.', '62718', 'iwkkx', '36490', 'pics', '26228', '1311288050', '10262', '1514', 'freestylepopcorn']\n"
     ]
    }
   ],
   "source": [
    "for i in range(len(score)):\n",
    "    if score[i]>10000:\n",
    "        print data[i]"
   ]
  },
  {
   "cell_type": "code",
   "execution_count": 18,
   "metadata": {
    "collapsed": false
   },
   "outputs": [
    {
     "name": "stdout",
     "output_type": "stream",
     "text": [
      "['1066', '1352725707', '2012-11-12T13:08:27+00:00', 'Picture of draining sink that looks like an eye [x-post from r/mildlyinteresting]', '282', '13277r', '80', 'pics', '202', '1352725707', '-122', '13', 'choc_is_back']\n",
      "['12745', '1351687185', '2012-10-31T12:39:45+00:00', \"Disney, you may have purchased Star Wars, but in a profound way, the mythos belongs to all of us. We're putting our trust in you, so please, make us proud. As a gesture of good faith, I have made this image to commemorate the occasion.\", '870', '12e8u4', '303', 'movies', '567', '1351687185', '-264', '79', '']\n",
      "['24407', '1359064672', '2013-01-24T21:57:52+00:00', \"I actually hope this is a repost so I don't have to give Facebook credit.\", '290', '177qzm', '89', 'funny', '201', '1359064672', '-112', '13', 'mtxrcr']\n"
     ]
    }
   ],
   "source": [
    "for i in range(len(score)):\n",
    "    if score[i]<-100:\n",
    "        print data[i]"
   ]
  },
  {
   "cell_type": "code",
   "execution_count": 19,
   "metadata": {
    "collapsed": true
   },
   "outputs": [],
   "source": [
    "d={}\n",
    "for x in data:\n",
    "    if x[0] in d:\n",
    "        d[x[0]]+=1\n",
    "    else:\n",
    "        d[x[0]]=1"
   ]
  },
  {
   "cell_type": "code",
   "execution_count": 20,
   "metadata": {
    "collapsed": false
   },
   "outputs": [
    {
     "data": {
      "text/plain": [
       "'6037'"
      ]
     },
     "execution_count": 20,
     "metadata": {},
     "output_type": "execute_result"
    }
   ],
   "source": [
    "import operator\n",
    "max(d.iteritems(), key=operator.itemgetter(1))[0]"
   ]
  },
  {
   "cell_type": "code",
   "execution_count": 21,
   "metadata": {
    "collapsed": false
   },
   "outputs": [
    {
     "data": {
      "text/plain": [
       "166"
      ]
     },
     "execution_count": 21,
     "metadata": {},
     "output_type": "execute_result"
    }
   ],
   "source": [
    "d['6037']"
   ]
  },
  {
   "cell_type": "code",
   "execution_count": 22,
   "metadata": {
    "collapsed": true
   },
   "outputs": [],
   "source": [
    "resub=[]\n",
    "for k in d.keys():\n",
    "    resub.append(d[k])"
   ]
  },
  {
   "cell_type": "markdown",
   "metadata": {},
   "source": [
    "Image resubmitted maximum times=6037,166 times"
   ]
  },
  {
   "cell_type": "code",
   "execution_count": 23,
   "metadata": {
    "collapsed": false
   },
   "outputs": [
    {
     "data": {
      "image/png": "[encoded data removed]",
      "text/plain": [
       "<matplotlib.figure.Figure at 0x7fea091a55d0>"
      ]
     },
     "metadata": {},
     "output_type": "display_data"
    }
   ],
   "source": [
    "plt.hist(resub,log=True,bins=50,color='g')\n",
    "plt.title(\"Resubmission distribution\")\n",
    "plt.xlabel(\"Value\")\n",
    "plt.ylabel(\"Frequency\")\n",
    "plt.show()"
   ]
  },
  {
   "cell_type": "code",
   "execution_count": 24,
   "metadata": {
    "collapsed": false
   },
   "outputs": [
    {
     "data": {
      "text/plain": [
       "63338"
      ]
     },
     "execution_count": 24,
     "metadata": {},
     "output_type": "execute_result"
    }
   ],
   "source": [
    "users=[x[12] for x in data]\n",
    "len(set(users))"
   ]
  },
  {
   "cell_type": "markdown",
   "metadata": {},
   "source": [
    "No. of unique users=63338"
   ]
  },
  {
   "cell_type": "code",
   "execution_count": 25,
   "metadata": {
    "collapsed": true
   },
   "outputs": [],
   "source": [
    "u={}\n",
    "for x in data:\n",
    "    if x[12] in u:\n",
    "        u[x[12]]+=1\n",
    "    else:\n",
    "        u[x[12]]=1"
   ]
  },
  {
   "cell_type": "code",
   "execution_count": 26,
   "metadata": {
    "collapsed": false
   },
   "outputs": [
    {
     "data": {
      "text/plain": [
       "''"
      ]
     },
     "execution_count": 26,
     "metadata": {},
     "output_type": "execute_result"
    }
   ],
   "source": [
    "max(u.iteritems(), key=operator.itemgetter(1))[0]"
   ]
  },
  {
   "cell_type": "code",
   "execution_count": 27,
   "metadata": {
    "collapsed": false
   },
   "outputs": [
    {
     "data": {
      "text/plain": [
       "20259"
      ]
     },
     "execution_count": 27,
     "metadata": {},
     "output_type": "execute_result"
    }
   ],
   "source": [
    "u['']"
   ]
  },
  {
   "cell_type": "code",
   "execution_count": 28,
   "metadata": {
    "collapsed": true
   },
   "outputs": [],
   "source": [
    "del u['']"
   ]
  },
  {
   "cell_type": "code",
   "execution_count": 29,
   "metadata": {
    "collapsed": false
   },
   "outputs": [
    {
     "data": {
      "text/plain": [
       "'Gangsta_Raper'"
      ]
     },
     "execution_count": 29,
     "metadata": {},
     "output_type": "execute_result"
    }
   ],
   "source": [
    "max(u.iteritems(), key=operator.itemgetter(1))[0]"
   ]
  },
  {
   "cell_type": "code",
   "execution_count": 30,
   "metadata": {
    "collapsed": false
   },
   "outputs": [
    {
     "data": {
      "text/plain": [
       "5608"
      ]
     },
     "execution_count": 30,
     "metadata": {},
     "output_type": "execute_result"
    }
   ],
   "source": [
    "u['Gangsta_Raper']"
   ]
  },
  {
   "cell_type": "markdown",
   "metadata": {},
   "source": [
    "'Gangsta_Raper' posted 5608 times"
   ]
  },
  {
   "cell_type": "code",
   "execution_count": 31,
   "metadata": {
    "collapsed": true
   },
   "outputs": [],
   "source": [
    "user_posts=[]\n",
    "for k in u.keys():\n",
    "    user_posts.append(u[k])"
   ]
  },
  {
   "cell_type": "code",
   "execution_count": 32,
   "metadata": {
    "collapsed": false
   },
   "outputs": [
    {
     "data": {
      "image/png": "[encoded data removed]",
      "text/plain": [
       "<matplotlib.figure.Figure at 0x7fea08eec750>"
      ]
     },
     "metadata": {},
     "output_type": "display_data"
    }
   ],
   "source": [
    "plt.hist(user_posts,log=True,bins=100,color='y')\n",
    "plt.title(\"User posting distribution\")\n",
    "plt.xlabel(\"Value\")\n",
    "plt.ylabel(\"Frequency\")\n",
    "plt.show()"
   ]
  },
  {
   "cell_type": "code",
   "execution_count": 33,
   "metadata": {
    "collapsed": false,
    "scrolled": true
   },
   "outputs": [
    {
     "data": {
      "image/png": "[encoded data removed]",
      "text/plain": [
       "<matplotlib.figure.Figure at 0x7fea08f59f50>"
      ]
     },
     "metadata": {},
     "output_type": "display_data"
    }
   ],
   "source": [
    "comments=[int(x[11]) for x in data]\n",
    "plt.hist(comments,log=True,bins=50,color='r')\n",
    "plt.title(\"Comments distribution\")\n",
    "plt.xlabel(\"Value\")\n",
    "plt.ylabel(\"Frequency\")\n",
    "plt.show()"
   ]
  },
  {
   "cell_type": "code",
   "execution_count": 34,
   "metadata": {
    "collapsed": false
   },
   "outputs": [
    {
     "name": "stdout",
     "output_type": "stream",
     "text": [
      "['11682', '1316149015', '2011-09-16T11:56:55-07:00', 'Your superhero name is going to suck...', '7508', 'khxit', '4159', 'reddit.com', '3349', '1316174215', '810', '8357', 'spez']\n"
     ]
    }
   ],
   "source": [
    "for i in range(len(score)):\n",
    "    if comments[i]>8000:\n",
    "        print data[i]"
   ]
  },
  {
   "cell_type": "markdown",
   "metadata": {},
   "source": [
    "Subreddit distribution"
   ]
  },
  {
   "cell_type": "code",
   "execution_count": 35,
   "metadata": {
    "collapsed": false
   },
   "outputs": [],
   "source": [
    "subreddit={}\n",
    "for x in data:\n",
    "    if x[7] in subreddit:\n",
    "        subreddit[x[7]]+=1\n",
    "    else:\n",
    "        subreddit[x[7]]=1"
   ]
  },
  {
   "cell_type": "code",
   "execution_count": 36,
   "metadata": {
    "collapsed": false
   },
   "outputs": [
    {
     "data": {
      "image/png": "[encoded data removed]",
      "text/plain": [
       "<matplotlib.figure.Figure at 0x7fea0b6ce050>"
      ]
     },
     "metadata": {},
     "output_type": "display_data"
    }
   ],
   "source": [
    "sreddit=[subreddit[x] for x in subreddit.keys()]\n",
    "plt.hist(sreddit,log=True,bins=40,color='b')\n",
    "plt.title(\"Subreddit distribution\")\n",
    "plt.xlabel(\"Value\")\n",
    "plt.ylabel(\"Frequency\")\n",
    "plt.show()"
   ]
  },
  {
   "cell_type": "code",
   "execution_count": 37,
   "metadata": {
    "collapsed": false
   },
   "outputs": [],
   "source": [
    "sub_reddit=[]\n",
    "s_count=0\n",
    "ignore=[]\n",
    "i_count=0\n",
    "for x in subreddit.keys():\n",
    "    if subreddit[x]>20:\n",
    "        sub_reddit.append(x)\n",
    "        s_count+=subreddit[x]\n",
    "    else:\n",
    "        ignore.append(x)\n",
    "        i_count+=subreddit[x]"
   ]
  },
  {
   "cell_type": "code",
   "execution_count": 38,
   "metadata": {
    "collapsed": false
   },
   "outputs": [
    {
     "data": {
      "text/plain": [
       "(63, 129570, 804, 2737)"
      ]
     },
     "execution_count": 38,
     "metadata": {},
     "output_type": "execute_result"
    }
   ],
   "source": [
    "len(sub_reddit),s_count,len(ignore),i_count"
   ]
  },
  {
   "cell_type": "code",
   "execution_count": 39,
   "metadata": {
    "collapsed": false
   },
   "outputs": [],
   "source": [
    "# Assigning a label for each subreddit.\n",
    "sub_reddit_label = dict(zip(sub_reddit, range(len(sub_reddit))))\n"
   ]
  },
  {
   "cell_type": "code",
   "execution_count": 40,
   "metadata": {
    "collapsed": false
   },
   "outputs": [
    {
     "data": {
      "text/plain": [
       "{'4chan': 53,\n",
       " 'AdviceAnimals': 13,\n",
       " 'EarthPorn': 41,\n",
       " 'GifSound': 45,\n",
       " 'HIFW': 27,\n",
       " 'HistoryPorn': 1,\n",
       " 'Images': 9,\n",
       " 'KarmaConspiracy': 47,\n",
       " 'LadyBoners': 18,\n",
       " 'LeagueOfMemes': 54,\n",
       " 'Minecraft': 25,\n",
       " 'Music': 40,\n",
       " 'NigelThornberry': 37,\n",
       " 'PerfectTiming': 22,\n",
       " 'Punny': 12,\n",
       " 'SpideyMeme': 10,\n",
       " 'TheStopGirl': 38,\n",
       " 'WTF': 11,\n",
       " 'adventuretime': 26,\n",
       " 'arresteddevelopment': 30,\n",
       " 'atheism': 62,\n",
       " 'aww': 24,\n",
       " 'awwwtf': 46,\n",
       " 'batman': 58,\n",
       " 'bicycling': 61,\n",
       " 'breakingbad': 34,\n",
       " 'cats': 57,\n",
       " 'comics': 59,\n",
       " 'creepy': 3,\n",
       " 'doctorwho': 42,\n",
       " 'facepalm': 36,\n",
       " 'fffffffuuuuuuuuuuuu': 28,\n",
       " 'firstworldanarchists': 33,\n",
       " 'funny': 44,\n",
       " 'futurama': 48,\n",
       " 'gameofthrones': 55,\n",
       " 'gaming': 7,\n",
       " 'geek': 32,\n",
       " 'gif': 20,\n",
       " 'gifs': 52,\n",
       " 'harrypotter': 29,\n",
       " 'mildlyinteresting': 15,\n",
       " 'movies': 5,\n",
       " 'offbeat': 43,\n",
       " 'onetruegod': 21,\n",
       " 'photoshopbattles': 2,\n",
       " 'pics': 4,\n",
       " 'pokemon': 19,\n",
       " 'pooplikethis': 60,\n",
       " 'reactiongifs': 39,\n",
       " 'reddit.com': 23,\n",
       " 'sandy': 16,\n",
       " 'space': 17,\n",
       " 'spaceporn': 6,\n",
       " 'thewalkingdead': 51,\n",
       " 'toosoon': 50,\n",
       " 'trees': 31,\n",
       " 'upvotegifs': 0,\n",
       " 'vertical': 35,\n",
       " 'wallpaper': 8,\n",
       " 'wallpapers': 14,\n",
       " 'wheredidthesodago': 56,\n",
       " 'woahdude': 49}"
      ]
     },
     "execution_count": 40,
     "metadata": {},
     "output_type": "execute_result"
    }
   ],
   "source": [
    "sub_reddit_label"
   ]
  },
  {
   "cell_type": "code",
   "execution_count": 41,
   "metadata": {
    "collapsed": false
   },
   "outputs": [
    {
     "data": {
      "text/plain": [
       "[('funny', 55281),\n",
       " ('pics', 24712),\n",
       " ('gifs', 12538),\n",
       " ('WTF', 12193),\n",
       " ('aww', 5921),\n",
       " ('GifSound', 5608),\n",
       " ('atheism', 3366),\n",
       " ('gaming', 3009),\n",
       " ('AdviceAnimals', 999),\n",
       " ('reactiongifs', 963),\n",
       " ('reddit.com', 828),\n",
       " ('gif', 685),\n",
       " ('trees', 528),\n",
       " ('fffffffuuuuuuuuuuuu', 473),\n",
       " ('woahdude', 176),\n",
       " ('photoshopbattles', 144),\n",
       " ('4chan', 122),\n",
       " ('space', 109),\n",
       " ('pokemon', 106),\n",
       " ('HIFW', 106),\n",
       " ('movies', 95),\n",
       " ('wallpapers', 88),\n",
       " ('geek', 85),\n",
       " ('offbeat', 82),\n",
       " ('mildlyinteresting', 79),\n",
       " ('PerfectTiming', 75),\n",
       " ('breakingbad', 70),\n",
       " ('firstworldanarchists', 69),\n",
       " ('KarmaConspiracy', 68),\n",
       " ('LeagueOfMemes', 65),\n",
       " ('creepy', 52),\n",
       " ('TheStopGirl', 49),\n",
       " ('wallpaper', 46),\n",
       " ('EarthPorn', 43),\n",
       " ('batman', 40),\n",
       " ('HistoryPorn', 35),\n",
       " ('pooplikethis', 34),\n",
       " ('cats', 33),\n",
       " ('upvotegifs', 30),\n",
       " ('Music', 30),\n",
       " ('Images', 29),\n",
       " ('LadyBoners', 29),\n",
       " ('arresteddevelopment', 26),\n",
       " ('vertical', 26),\n",
       " ('facepalm', 26),\n",
       " ('awwwtf', 25),\n",
       " ('NigelThornberry', 24),\n",
       " ('onetruegod', 23),\n",
       " ('doctorwho', 23),\n",
       " ('wheredidthesodago', 23),\n",
       " ('comics', 23),\n",
       " ('spaceporn', 22),\n",
       " ('Punny', 22),\n",
       " ('Minecraft', 22),\n",
       " ('toosoon', 22),\n",
       " ('thewalkingdead', 22),\n",
       " ('gameofthrones', 22),\n",
       " ('SpideyMeme', 21),\n",
       " ('sandy', 21),\n",
       " ('adventuretime', 21),\n",
       " ('harrypotter', 21),\n",
       " ('futurama', 21),\n",
       " ('bicycling', 21),\n",
       " ('hcfactions', 20),\n",
       " ('HIMYM', 20),\n",
       " ('nostalgia', 20),\n",
       " ('tall', 19),\n",
       " ('MilitaryPorn', 19),\n",
       " ('lol', 19),\n",
       " ('politics', 19),\n",
       " ('LifeProTips', 18),\n",
       " ('canada', 18),\n",
       " ('OldSchoolCool', 18),\n",
       " ('mylittlepony', 18),\n",
       " ('zombies', 18),\n",
       " ('todayilearned', 17),\n",
       " ('sports', 17),\n",
       " ('Frisson', 17),\n",
       " ('TwoXChromosomes', 17),\n",
       " ('conspiracy', 17),\n",
       " ('see', 17),\n",
       " ('musicgifstation', 17),\n",
       " ('gaymers', 17),\n",
       " ('FreeKarma', 16),\n",
       " ('gentlemanboners', 16),\n",
       " ('leagueoflegends', 16),\n",
       " ('RoomPorn', 16),\n",
       " ('TheLastAirbender', 16),\n",
       " ('AnimalPorn', 16),\n",
       " ('motorcycles', 16),\n",
       " ('illusionporn', 16),\n",
       " ('Cinemagraphs', 16),\n",
       " ('MURICA', 15),\n",
       " ('StarWars', 15),\n",
       " ('EmmaWatson', 15),\n",
       " ('diablo3', 14),\n",
       " ('tf2', 14),\n",
       " ('lolcats', 14),\n",
       " ('proper', 14),\n",
       " ('FifthWorldPics', 14),\n",
       " ('zelda', 14),\n",
       " ('iphone', 13),\n",
       " ('childfree', 13),\n",
       " ('Braveryjerk', 13),\n",
       " ('TheSimpsons', 13),\n",
       " ('skyrim', 13),\n",
       " ('cringe', 13),\n",
       " ('drunk', 13),\n",
       " ('southpark', 13),\n",
       " ('unitedkingdom', 13),\n",
       " ('TrollXChromosomes', 13),\n",
       " ('Iam14andthisisfunny', 12),\n",
       " ('Steam', 12),\n",
       " ('Naruto', 12),\n",
       " ('lgbt', 12),\n",
       " ('QuotesPorn', 12),\n",
       " ('depression', 12),\n",
       " ('standupshots', 12),\n",
       " ('misc', 12),\n",
       " ('hockey', 12),\n",
       " ('Celebs', 11),\n",
       " ('Pareidolia', 11),\n",
       " ('MensRights', 11),\n",
       " ('nfl', 11),\n",
       " ('shittyreactiongifs', 11),\n",
       " ('AbandonedPorn', 11),\n",
       " ('lotr', 11),\n",
       " ('GetMotivated', 11),\n",
       " ('RedditThroughHistory', 11),\n",
       " ('chemicalreactiongifs', 11),\n",
       " ('SquaredCircle', 11),\n",
       " ('baseball', 10),\n",
       " ('science', 10),\n",
       " ('katyperry', 10),\n",
       " ('community', 10),\n",
       " ('DestructionPorn', 10),\n",
       " ('furry', 10),\n",
       " ('australia', 10),\n",
       " ('classic4chan', 10),\n",
       " ('ForeverAlone', 10),\n",
       " ('PandR', 9),\n",
       " ('apple', 9),\n",
       " ('gaybros', 9),\n",
       " ('startrek', 9),\n",
       " ('alternativeart', 9),\n",
       " ('teenagers', 9),\n",
       " ('MetalMemes', 9),\n",
       " ('JusticePorn', 9),\n",
       " ('MapPorn', 9),\n",
       " ('fitnesscirclejerk', 9),\n",
       " ('CoffeeWithJesus', 9),\n",
       " ('homestuck', 9),\n",
       " ('SkyPorn', 9),\n",
       " ('NoFap', 9),\n",
       " ('Eve', 9),\n",
       " ('Libertarian', 8),\n",
       " ('history', 8),\n",
       " ('Rainmeter', 8),\n",
       " ('Offensive_Wallpapers', 8),\n",
       " ('FoodPorn', 8),\n",
       " ('workaholics', 8),\n",
       " ('ifiwonthelottery', 8),\n",
       " ('eCards', 8),\n",
       " ('mfw', 8),\n",
       " ('creepy_gif', 8),\n",
       " ('AdPorn', 8),\n",
       " ('guns', 7),\n",
       " ('TopGear', 7),\n",
       " ('awesome', 7),\n",
       " ('CFB', 7),\n",
       " ('halo', 7),\n",
       " ('seinfeld', 7),\n",
       " ('AdrenalinePorn', 7),\n",
       " ('DunderMifflin', 7),\n",
       " ('howtonotgiveafuck', 7),\n",
       " ('nba', 7),\n",
       " ('Futurology', 7),\n",
       " ('roosterteeth', 7),\n",
       " ('starcraft', 7),\n",
       " ('ExpectationVsReality', 7),\n",
       " ('Slender_Man', 7),\n",
       " ('mildlyinfuriating', 7),\n",
       " ('sloths', 6),\n",
       " ('tardcat', 6),\n",
       " ('chicago', 6),\n",
       " ('ExposurePorn', 6),\n",
       " ('Dexter', 6),\n",
       " ('ggggg', 6),\n",
       " ('brokengifs', 6),\n",
       " ('shazbot', 6),\n",
       " ('vancouver', 6),\n",
       " ('scifi', 6),\n",
       " ('Buddhism', 6),\n",
       " ('newzealand', 6),\n",
       " ('skateboarding', 6),\n",
       " ('wow', 6),\n",
       " ('magicTCG', 6),\n",
       " ('itookapicture', 6),\n",
       " ('ireland', 6),\n",
       " ('minerapocalypse', 6),\n",
       " ('DotA2', 6),\n",
       " ('evedreddit', 6),\n",
       " ('cringepics', 6),\n",
       " ('LaughYouUpvote', 6),\n",
       " ('spongebob', 6),\n",
       " ('hiphopheads', 6),\n",
       " ('introvert', 6),\n",
       " ('rage', 6),\n",
       " ('AnimalsWithoutNecks', 6),\n",
       " ('PrettyGirls', 6),\n",
       " ('cakeday', 5),\n",
       " ('Bacon', 5),\n",
       " ('POLITIC', 5),\n",
       " ('forwardsfromgrandma', 5),\n",
       " ('cripplingalcoholism', 5),\n",
       " ('techsupportgore', 5),\n",
       " ('youtubecomments', 5),\n",
       " ('RedditLaqueristas', 5),\n",
       " ('nyc', 5),\n",
       " ('dogpictures', 5),\n",
       " ('MachinePorn', 5),\n",
       " ('MLPLounge', 5),\n",
       " ('islam', 5),\n",
       " ('battlefield3', 5),\n",
       " ('nhl', 5),\n",
       " ('worldpolitics', 5),\n",
       " ('waterporn', 5),\n",
       " ('Rabbits', 5),\n",
       " ('nature', 5),\n",
       " ('MakeupAddiction', 5),\n",
       " ('catpictures', 5),\n",
       " ('Art', 5),\n",
       " ('PropagandaPosters', 5),\n",
       " ('Awww', 5),\n",
       " ('circlejerk', 5),\n",
       " ('Bad_Cop_No_Donut', 5),\n",
       " ('comicbooks', 5),\n",
       " ('NotaMethAddict', 4),\n",
       " ('Scrubs', 4),\n",
       " ('magicskyfairy', 4),\n",
       " ('mw3', 4),\n",
       " ('Astronomy', 4),\n",
       " ('AnythingGoesPics', 4),\n",
       " ('disney', 4),\n",
       " ('ainbow', 4),\n",
       " ('Drugs', 4),\n",
       " ('whalebait', 4),\n",
       " ('PoliticalHumor', 4),\n",
       " ('MMA', 4),\n",
       " ('CityPorn', 4),\n",
       " ('soccer', 4),\n",
       " ('Borderlands', 4),\n",
       " ('NobodyCaresApostolate', 4),\n",
       " ('longboarding', 4),\n",
       " ('KerbalSpaceProgram', 4),\n",
       " ('formula1', 4),\n",
       " ('occupywallstreet', 4),\n",
       " ('PhotoEdited', 4),\n",
       " ('corgi', 4),\n",
       " ('cosplay', 4),\n",
       " ('keto', 4),\n",
       " ('familyguy', 4),\n",
       " ('natureporn', 4),\n",
       " ('rit', 4),\n",
       " ('IASIP', 4),\n",
       " ('technology', 4),\n",
       " ('HumanPorn', 4),\n",
       " ('TalesFromRetail', 4),\n",
       " ('Fallout', 4),\n",
       " ('Owls', 4),\n",
       " ('humor', 4),\n",
       " ('lifehacks', 4),\n",
       " ('OkCupid', 4),\n",
       " ('calvinandhobbes', 4),\n",
       " ('grumpycats', 4),\n",
       " ('happy', 4),\n",
       " ('synchronizedswimWTF', 3),\n",
       " ('ThanksObama', 3),\n",
       " ('mlb', 3),\n",
       " ('YouShouldKnow', 3),\n",
       " ('Military', 3),\n",
       " ('randomsexinessgifs', 3),\n",
       " ('Cyberpunk', 3),\n",
       " ('Seattle', 3),\n",
       " ('Anarcho_Capitalism', 3),\n",
       " ('birdpics', 3),\n",
       " ('fantasyfootball', 3),\n",
       " ('Anticonsumption', 3),\n",
       " ('worldnews', 3),\n",
       " ('tattoos', 3),\n",
       " ('sanfrancisco', 3),\n",
       " ('HalfLife', 3),\n",
       " ('Firearms', 3),\n",
       " ('trailerparkboys', 3),\n",
       " ('GrandTheftAutoV', 3),\n",
       " ('birdswitharms', 3),\n",
       " ('popping', 3),\n",
       " ('firstworldproblems', 3),\n",
       " ('CampingandHiking', 3),\n",
       " ('Pizza', 3),\n",
       " ('anime', 3),\n",
       " ('AdviceAtheists', 3),\n",
       " ('london', 3),\n",
       " ('antibaw', 3),\n",
       " ('minimalism', 3),\n",
       " ('books', 3),\n",
       " ('LearnUselessTalents', 3),\n",
       " ('memes', 3),\n",
       " ('BotanicalPorn', 3),\n",
       " ('philosophy', 3),\n",
       " ('cars', 3),\n",
       " ('dayz', 3),\n",
       " ('EmmaStone', 3),\n",
       " ('TheFacebookDelusion', 3),\n",
       " ('toronto', 3),\n",
       " ('Chargers', 3),\n",
       " ('bisexual', 3),\n",
       " ('Parenting', 3),\n",
       " ('Graffiti', 3),\n",
       " ('Borderlands2', 3),\n",
       " ('runescape', 3),\n",
       " ('shittybattlestations', 3),\n",
       " ('bitchimabus', 3),\n",
       " ('steampunk', 3),\n",
       " ('ems', 3),\n",
       " ('nope', 3),\n",
       " ('Sherlock', 3),\n",
       " ('videos', 3),\n",
       " ('WorldofTanks', 3),\n",
       " ('sandiego', 3),\n",
       " ('DIY', 3),\n",
       " ('Design', 3),\n",
       " ('Anarchism', 3),\n",
       " ('Portland', 3),\n",
       " ('whoselineisitanyway', 3),\n",
       " ('FirePorn', 3),\n",
       " ('biology', 3),\n",
       " ('shittyaskscience', 3),\n",
       " ('battlestations', 3),\n",
       " ('mylittleandysonic1', 3),\n",
       " ('gamegrumps', 3),\n",
       " ('civ', 3),\n",
       " ('FearMe', 3),\n",
       " ('analogygifs', 3),\n",
       " ('cosplaygirls', 3),\n",
       " ('terriblefacebookmemes', 3),\n",
       " ('happygirls', 3),\n",
       " ('cincinnati', 2),\n",
       " ('Supernatural', 2),\n",
       " ('dwarffortress', 2),\n",
       " ('ArianaGrande', 2),\n",
       " ('horror', 2),\n",
       " ('UpliftingNews', 2),\n",
       " ('Stargate', 2),\n",
       " ('CrappyDesign', 2),\n",
       " ('charactercrossovers', 2),\n",
       " ('LongDistance', 2),\n",
       " ('mindcrack', 2),\n",
       " ('Gaben', 2),\n",
       " ('That70sshow', 2),\n",
       " ('Metal', 2),\n",
       " ('thingstomakeyoudrool', 2),\n",
       " ('pickle', 2),\n",
       " ('vinyl', 2),\n",
       " ('detroitlions', 2),\n",
       " ('india', 2),\n",
       " ('ImaginaryMonsters', 2),\n",
       " ('CallOfDuty', 2),\n",
       " ('CyanideandHappiness', 2),\n",
       " ('halloween', 2),\n",
       " ('beatles', 2),\n",
       " ('futureporn', 2),\n",
       " ('Sexy', 2),\n",
       " ('hardbodies', 2),\n",
       " ('travel', 2),\n",
       " ('bigbangtheory', 2),\n",
       " ('Frat', 2),\n",
       " ('pantheism', 2),\n",
       " ('Jazz', 2),\n",
       " ('TrollingAnimals', 2),\n",
       " ('actuallesbians', 2),\n",
       " ('dataisbeautiful', 2),\n",
       " ('oliviawilde', 2),\n",
       " ('facebookwins', 2),\n",
       " ('beards', 2),\n",
       " ('evolution', 2),\n",
       " (': funny', 2),\n",
       " ('Demotivational', 2),\n",
       " ('ArchitecturePorn', 2),\n",
       " ('uCinci', 2),\n",
       " ('SiriAmA', 2),\n",
       " ('SNSD', 2),\n",
       " ('psychology', 2),\n",
       " ('malefashionadvice', 2),\n",
       " ('lego', 2),\n",
       " ('LawSchool', 2),\n",
       " ('seduction', 2),\n",
       " ('PenmanshipPorn', 2),\n",
       " ('eyes', 2),\n",
       " ('pittsburgh', 2),\n",
       " ('ModerationLog', 2),\n",
       " ('Justrolledintotheshop', 2),\n",
       " ('sweden', 2),\n",
       " ('explainedbygif', 2),\n",
       " ('VolleyballGirls', 2),\n",
       " ('PS3', 2),\n",
       " ('im14andthisisfunny', 2),\n",
       " ('germany', 2),\n",
       " ('ShittyLifeProTips', 2),\n",
       " ('Moviesinthemaking', 2),\n",
       " ('HorseMask', 2),\n",
       " ('boardgames', 2),\n",
       " ('MadeMeSmile', 2),\n",
       " ('dbz', 2),\n",
       " ('stalker', 2),\n",
       " ('screenshots', 2),\n",
       " ('Barca', 2),\n",
       " ('babiesbeingmauled', 2),\n",
       " ('obama', 2),\n",
       " ('shutupandtakemymoney', 2),\n",
       " ('Otters', 2),\n",
       " ('progressive', 2),\n",
       " ('rpg', 2),\n",
       " ('sex', 2),\n",
       " ('olympics', 2),\n",
       " ('MonsterHunter', 2),\n",
       " ('steelers', 2),\n",
       " ('linguistics', 2),\n",
       " ('gentlemanimals', 2),\n",
       " ('LV426', 2),\n",
       " ('Im14andthisisWTF', 2),\n",
       " ('Portal', 2),\n",
       " ('web_design', 2),\n",
       " ('aviation', 2),\n",
       " ('google', 2),\n",
       " ('Torchlight', 2),\n",
       " ('Winnipeg', 2),\n",
       " ('motorcitykitties', 2),\n",
       " ('StonerProTips', 2),\n",
       " ('CaptchaArt', 2),\n",
       " ('exmormon', 2),\n",
       " ('Hungergames', 2),\n",
       " ('scaredshitless', 2),\n",
       " ('MoviePosterPorn', 2),\n",
       " ('gratefuldead', 2),\n",
       " ('TimAndEric', 2),\n",
       " ('Fantasy', 2),\n",
       " ('Terraria', 2),\n",
       " ('Conservative', 2),\n",
       " ('DenverBroncos', 2),\n",
       " ('Modern_Family', 2),\n",
       " ('lost', 2),\n",
       " ('ArcherFX', 2),\n",
       " ('AlbumArtPorn', 2),\n",
       " ('regularshow', 2),\n",
       " ('SFGiants', 2),\n",
       " ('blackpeoplegifs', 2),\n",
       " ('SubredditDrama', 2),\n",
       " ('ronpaul', 2),\n",
       " ('led_zeppelin', 2),\n",
       " ('Dallas', 2),\n",
       " ('subaru', 2),\n",
       " ('TreesSuckingAtThings', 2),\n",
       " ('philadelphia', 2),\n",
       " ('Standup', 2),\n",
       " ('TrueBlood', 2),\n",
       " ('bindingofisaac', 2),\n",
       " ('xbox360', 2),\n",
       " ('SRSAnime', 2),\n",
       " ('nottheonion', 2),\n",
       " ('Alex', 2),\n",
       " ('MacroPorn', 2),\n",
       " ('MilaKunis', 2),\n",
       " ('ArmedBirds', 1),\n",
       " ('Hunting', 1),\n",
       " ('washu', 1),\n",
       " ('BuyItForLife', 1),\n",
       " ('UNITINU', 1),\n",
       " ('spiders', 1),\n",
       " ('BestofF7U12', 1),\n",
       " ('swoleacceptance', 1),\n",
       " ('repostbuster', 1),\n",
       " ('teaching', 1),\n",
       " ('Atlanta', 1),\n",
       " ('noisygifs', 1),\n",
       " ('Jeep', 1),\n",
       " ('uofm', 1),\n",
       " ('30ROCK', 1),\n",
       " ('fucksimon', 1),\n",
       " ('musicpics', 1),\n",
       " ('bleach', 1),\n",
       " ('GeekPorn', 1),\n",
       " ('beermoney', 1),\n",
       " ('Patriots', 1),\n",
       " ('polyamory', 1),\n",
       " ('Paleo', 1),\n",
       " ('WWE', 1),\n",
       " ('Denver', 1),\n",
       " ('ps3bf3', 1),\n",
       " ('PandaBoners', 1),\n",
       " ('Norway', 1),\n",
       " ('cigars', 1),\n",
       " ('skeptic', 1),\n",
       " ('knifeparty', 1),\n",
       " ('aaaaaatheismmmmmmmmmm', 1),\n",
       " ('ClassicBabes', 1),\n",
       " ('MichiganWolverines', 1),\n",
       " ('test', 1),\n",
       " ('GoodValue', 1),\n",
       " ('Ohio', 1),\n",
       " ('survivor', 1),\n",
       " ('initiald', 1),\n",
       " ('vegetarian', 1),\n",
       " ('cutest thing to come out of a Pokeball. (x-post from r/funny)', 1),\n",
       " ('ShittyPhotoshop', 1),\n",
       " ('montreal', 1),\n",
       " ('GangnamStyle', 1),\n",
       " ('TrueReddit', 1),\n",
       " ('AgriculturePorn', 1),\n",
       " ('treecomics', 1),\n",
       " ('KingOfTheHill', 1),\n",
       " ('VillagePorn', 1),\n",
       " ('FinalFantasy', 1),\n",
       " ('cocaine', 1),\n",
       " ('graphic_design', 1),\n",
       " ('gonzo', 1),\n",
       " ('wordplay', 1),\n",
       " ('SRSFunny', 1),\n",
       " ('BSG', 1),\n",
       " ('TheHobbit', 1),\n",
       " ('sushi', 1),\n",
       " ('worldbuilding', 1),\n",
       " ('photoshawwp', 1),\n",
       " ('asoiaf', 1),\n",
       " ('FanTheories', 1),\n",
       " (\"I'm a carpenter's hand, and have to help the electricians from time to time.\",\n",
       "  1),\n",
       " ('EDC', 1),\n",
       " ('Entrepreneur', 1),\n",
       " ('Workproblems', 1),\n",
       " ('natalieportman', 1),\n",
       " ('t:42000', 1),\n",
       " ('blackgirls', 1),\n",
       " ('MichelleJenneke', 1),\n",
       " ('PatrickStar', 1),\n",
       " ('Love it !', 1),\n",
       " ('polandball', 1),\n",
       " ('BenFoldsFive', 1),\n",
       " ('twincitiessocial', 1),\n",
       " ('Shitty_Watercolour', 1),\n",
       " ('geology', 1),\n",
       " ('nihilism', 1),\n",
       " ('skyrimmods', 1),\n",
       " ('911truth', 1),\n",
       " ('AsianGIFS', 1),\n",
       " ('de', 1),\n",
       " ('Hammocks', 1),\n",
       " ('trypophobia', 1),\n",
       " ('PowerMetal', 1),\n",
       " ('Wolverine - Gangnam Style', 1),\n",
       " ('Male vs Females', 1),\n",
       " ('glasgow', 1),\n",
       " ('babiesinsuits', 1),\n",
       " ('truestchristian', 1),\n",
       " ('Smite', 1),\n",
       " ('GlobalOffensive', 1),\n",
       " ('cableporn', 1),\n",
       " ('starlets', 1),\n",
       " ('whitesox', 1),\n",
       " ('cute', 1),\n",
       " ('canberra', 1),\n",
       " ('malehairadvice', 1),\n",
       " ('Blind !?', 1),\n",
       " ('japan', 1),\n",
       " ('BabyBumps', 1),\n",
       " ('interesting', 1),\n",
       " ('MinecraftInspiration', 1),\n",
       " ('texas', 1),\n",
       " ('AlienBlue', 1),\n",
       " ('Miami', 1),\n",
       " ('wtfart', 1),\n",
       " ('AnythingGoesNews', 1),\n",
       " ('martialarts', 1),\n",
       " ('creepypasta', 1),\n",
       " ('Watches', 1),\n",
       " ('codbo', 1),\n",
       " ('rightinthechildhood', 1),\n",
       " ('Destiny', 1),\n",
       " ('CreepShots', 1),\n",
       " ('DoctorWhumour', 1),\n",
       " ('foxes', 1),\n",
       " ('zoidberg', 1),\n",
       " ('shittyfoodporn', 1),\n",
       " ('math', 1),\n",
       " ('ragecomics', 1),\n",
       " ('banana', 1),\n",
       " ('pug', 1),\n",
       " ('txstate', 1),\n",
       " ('MercWithAMouth', 1),\n",
       " ('iforgottologout', 1),\n",
       " ('GamePhysics', 1),\n",
       " ('keyboards', 1),\n",
       " ('Morrowind', 1),\n",
       " ('captchacomics', 1),\n",
       " ('Money', 1),\n",
       " ('programming', 1),\n",
       " ('movember', 1),\n",
       " ('snowboarding', 1),\n",
       " ('CurrencyFaces', 1),\n",
       " ('Dachshund', 1),\n",
       " ('knots', 1),\n",
       " ('PostCollapse', 1),\n",
       " ('Sonsofanarchy', 1),\n",
       " ('notfunny', 1),\n",
       " ('box head', 1),\n",
       " ('MinecraftCirclejerk', 1),\n",
       " ('ToasterRights', 1),\n",
       " ('DesignPorn', 1),\n",
       " ('Laina', 1),\n",
       " ('TheInterweb', 1),\n",
       " ('twinpeaks', 1),\n",
       " ('tea', 1),\n",
       " ('Disneyland', 1),\n",
       " ('picsource', 1),\n",
       " ('Unnecessary', 1),\n",
       " ('trippy', 1),\n",
       " ('Gengar', 1),\n",
       " ('Fun', 1),\n",
       " ('Toilet', 1),\n",
       " ('SRSWomen', 1),\n",
       " ('Apple', 1),\n",
       " ('sto', 1),\n",
       " ('Historybeingmade', 1),\n",
       " ('gaygeek', 1),\n",
       " ('Engineer', 1),\n",
       " ('GoliathWorld', 1),\n",
       " ('UWMadison', 1),\n",
       " ('Gamingcirclejerk', 1),\n",
       " ('bleachshirts', 1),\n",
       " ('Feminism', 1),\n",
       " ('bookporn', 1),\n",
       " ('deathnote', 1),\n",
       " ('Somethingstoopid', 1),\n",
       " ('trance', 1),\n",
       " ('StarcraftCirclejerk', 1),\n",
       " ('InfectedBacon', 1),\n",
       " ('DrugStashes', 1),\n",
       " ('animation', 1),\n",
       " ('hookah', 1),\n",
       " ('vmware', 1),\n",
       " ('A_Monocle_For_Sauron', 1),\n",
       " ('lockpicking', 1),\n",
       " ('The Bird = 9Gag', 1),\n",
       " ('faceswap', 1),\n",
       " ('D', 1),\n",
       " ('skylanders', 1),\n",
       " ('FineLadies', 1),\n",
       " ('AskEngineers', 1),\n",
       " ('evolutionReddit', 1),\n",
       " ('newjersey', 1),\n",
       " ('metareddit', 1),\n",
       " ('GTS', 1),\n",
       " ('secretsanta', 1),\n",
       " ('TrueTrueTF2', 1),\n",
       " ('microsoft', 1),\n",
       " ('IDAP', 1),\n",
       " ('golf', 1),\n",
       " ('Psychonaut', 1),\n",
       " ('mspaint', 1),\n",
       " ('GirlsWatchingSports', 1),\n",
       " ('Ska', 1),\n",
       " ('Chuck Norris Edition', 1),\n",
       " ('upvote', 1),\n",
       " ('NAE', 1),\n",
       " ('wicked_edge', 1),\n",
       " ('sadcomics', 1),\n",
       " ('piano', 1),\n",
       " ('DetroitRedWings', 1),\n",
       " ('ipad', 1),\n",
       " ('lostgeneration', 1),\n",
       " ('Fitness', 1),\n",
       " ('PrettyGirlsUglyFaces', 1),\n",
       " ('masseffect', 1),\n",
       " ('webdev', 1),\n",
       " ('Metallica', 1),\n",
       " ('vexillology', 1),\n",
       " ('hardstyle', 1),\n",
       " ('Monstercat', 1),\n",
       " ('architecture', 1),\n",
       " ('hardshipmates', 1),\n",
       " ('neckbeardrights', 1),\n",
       " ('311', 1),\n",
       " ('cocktails', 1),\n",
       " ('datass', 1),\n",
       " ('Android', 1),\n",
       " ('HeroesofNewerth', 1),\n",
       " ('StencilTemplates', 1),\n",
       " ('residentevil', 1),\n",
       " ('mspaintbattles', 1),\n",
       " ('colbertreport', 1),\n",
       " ('wikipedia', 1),\n",
       " ('AinsleyHarriott', 1),\n",
       " ('PocketWhales', 1),\n",
       " ('pcmasterrace', 1),\n",
       " ('mildyinteresting', 1),\n",
       " ('europe', 1),\n",
       " ('Black Cops', 1),\n",
       " ('StandUpComedy', 1),\n",
       " ('datfeel', 1),\n",
       " ('NASCAR', 1),\n",
       " ('DOTA', 1),\n",
       " ('owlsarefuckingscary', 1),\n",
       " ('Priceless', 1),\n",
       " ('clonehigh', 1),\n",
       " ('redpandas', 1),\n",
       " ('RedditDayOf', 1),\n",
       " ('catlovers', 1),\n",
       " ('Choose Wisely', 1),\n",
       " ('ukpolitics', 1),\n",
       " ('GunPorn', 1),\n",
       " ('Pictures', 1),\n",
       " ('running', 1),\n",
       " ('ucf', 1),\n",
       " ('poi', 1),\n",
       " ('news', 1),\n",
       " ('wrongnumber', 1),\n",
       " ('xkcd', 1),\n",
       " ('nongolfers', 1),\n",
       " ('pinkfloyd', 1),\n",
       " ('socialism', 1),\n",
       " ('hug life', 1),\n",
       " ('Gunners', 1),\n",
       " ('mathematics', 1),\n",
       " ('dogs', 1),\n",
       " ('boston', 1),\n",
       " ('orioles', 1),\n",
       " ('canucks', 1),\n",
       " ('LadyGaga', 1),\n",
       " ('gay', 1),\n",
       " ('Aquariums', 1),\n",
       " ('somethingimade', 1),\n",
       " ('Pokeents', 1),\n",
       " ('dirndls', 1),\n",
       " ('ravens', 1),\n",
       " ('Scotch', 1),\n",
       " ('RapeSquadKillas', 1),\n",
       " ('Over 9000', 1),\n",
       " ('darksouls', 1),\n",
       " ('Bioshock', 1),\n",
       " ('College', 1),\n",
       " ('C25K', 1),\n",
       " ('redwall', 1),\n",
       " ('hardware', 1),\n",
       " ('TreeForts', 1),\n",
       " ('deadpool', 1),\n",
       " ('London, Paris, NYC and Helsinki', 1),\n",
       " ('GetOutOfBed', 1),\n",
       " ('FilmFaces', 1),\n",
       " ('photoshop', 1),\n",
       " ('TreesSuckingOnThings', 1),\n",
       " ('daddit', 1),\n",
       " ('Quebec', 1),\n",
       " ('wallpaperdump', 1),\n",
       " ('knitting', 1),\n",
       " ('notinteresting', 1),\n",
       " ('Cow', 1),\n",
       " ('AlisonBrie', 1),\n",
       " ('elianscript', 1),\n",
       " ('FixedGearBicycle', 1),\n",
       " ('linux_gaming', 1),\n",
       " ('GotEm_Coach', 1),\n",
       " ('MTB', 1),\n",
       " ('climbing', 1),\n",
       " ('shslowbrass', 1),\n",
       " ('RUGC_India', 1),\n",
       " ('Bling Bling', 1),\n",
       " ('classicrage', 1),\n",
       " ('Gifclips', 1),\n",
       " ('drawing', 1),\n",
       " ('FancyFollicles', 1),\n",
       " ('whatsthisbug', 1),\n",
       " ('brisbane', 1),\n",
       " ('OFWGKTA', 1),\n",
       " ('postrock', 1),\n",
       " ('Pets', 1),\n",
       " ('repost', 1),\n",
       " ('BeardPorn', 1),\n",
       " ('UIUC', 1),\n",
       " ('Boss', 1),\n",
       " ('preteen_bitches', 1),\n",
       " ('thesims', 1),\n",
       " ('violentacrez', 1),\n",
       " ('Avengers', 1),\n",
       " ('LiverpoolFC', 1),\n",
       " ('DeepSpaceNine', 1),\n",
       " ('pocketsand', 1),\n",
       " ('ProWrestlingGIFs', 1),\n",
       " ('MemesIRL', 1),\n",
       " ('forever_a_steve', 1),\n",
       " ('MildlyHaunting', 1),\n",
       " ('bodyweightfitness', 1),\n",
       " ('chicagobulls', 1),\n",
       " ('EyeCandy', 1),\n",
       " ('2006Scape', 1),\n",
       " ('9gag', 1),\n",
       " ('Paranormal', 1),\n",
       " ('EnterShikari', 1),\n",
       " ('FunnyAnimals', 1),\n",
       " ('saiga', 1),\n",
       " ('2XLite', 1),\n",
       " ('freebies', 1),\n",
       " ('radiohead', 1),\n",
       " ('explainlikeimjive', 1),\n",
       " ('ParksandRecreation', 1),\n",
       " ('northernireland', 1),\n",
       " ('deaf', 1),\n",
       " ('AMA', 1),\n",
       " ('ragefaces', 1),\n",
       " ('OSU', 1),\n",
       " ('surfing', 1),\n",
       " ('Gandalf', 1),\n",
       " ('Frugal', 1),\n",
       " ('drums', 1),\n",
       " ('MvC3', 1),\n",
       " ('Swan suit', 1),\n",
       " ('Games', 1),\n",
       " ('INTP', 1),\n",
       " ('Games_From_9GAG', 1),\n",
       " ('downtimebananas', 1),\n",
       " ('momonga', 1),\n",
       " ('bjj', 1),\n",
       " ('intj', 1),\n",
       " ('Level Thin Mints', 1),\n",
       " ('france', 1),\n",
       " ('highschool', 1),\n",
       " ('MechanicalKeyboards', 1),\n",
       " ('rct', 1),\n",
       " ('FWEPP', 1),\n",
       " ('Animals', 1),\n",
       " ('Modern technology at its pinnacle', 1),\n",
       " ('Metalcore', 1),\n",
       " ('Swan suit.', 1),\n",
       " ('anonymous', 1),\n",
       " ('ProgrammerHumor', 1),\n",
       " ('Marvel', 1),\n",
       " ('NCSU', 1),\n",
       " ('arma', 1),\n",
       " ('ragetoons', 1),\n",
       " ('InfrastructurePorn', 1),\n",
       " ('engineering', 1),\n",
       " ('WIFF', 1),\n",
       " ('Heavymind', 1),\n",
       " ('tf2memes', 1),\n",
       " ('TheRealZachAnner', 1),\n",
       " ('weareallfriendshere', 1),\n",
       " ('fallingpics', 1),\n",
       " ('pokemonwtf', 1),\n",
       " ('moosedongs', 1),\n",
       " ('SuicideWatch', 1),\n",
       " ('Coffee', 1),\n",
       " ('soccergaming', 1),\n",
       " ('chuck', 1),\n",
       " ('GirlGamers', 1),\n",
       " ('atheist', 1),\n",
       " ('entertainment', 1),\n",
       " ('nasa', 1),\n",
       " ('Filmmakers', 1),\n",
       " ('Michigan', 1)]"
      ]
     },
     "execution_count": 41,
     "metadata": {},
     "output_type": "execute_result"
    }
   ],
   "source": [
    "sorted(subreddit.iteritems(), key=operator.itemgetter(1),reverse=True)"
   ]
  },
  {
   "cell_type": "markdown",
   "metadata": {},
   "source": [
    "# Prediction task- Predict which subreddit the post will be posted to "
   ]
  },
  {
   "cell_type": "markdown",
   "metadata": {},
   "source": [
    "# feature analysis #"
   ]
  },
  {
   "cell_type": "code",
   "execution_count": 42,
   "metadata": {
    "collapsed": false
   },
   "outputs": [],
   "source": [
    "import hashlib\n",
    "import datetime\n",
    "import re\n",
    "import string\n",
    "import pandas as pd\n",
    "import time\n",
    "from collections import Counter"
   ]
  },
  {
   "cell_type": "code",
   "execution_count": 43,
   "metadata": {
    "collapsed": true
   },
   "outputs": [],
   "source": [
    "def get_upvote_vector(upvotes):\n",
    "    vec=[0]*11\n",
    "    if upvotes<10:\n",
    "        return vec\n",
    "    elif upvotes<100:\n",
    "        vec[0]=1\n",
    "    elif upvotes<500:\n",
    "        vec[9]=1\n",
    "    elif upvotes<1000:\n",
    "        vec[1]=1\n",
    "    elif upvotes<5000:\n",
    "        vec[10]=1\n",
    "    elif upvotes<10000:\n",
    "        vec[2]=1\n",
    "    elif upvotes<20000:\n",
    "        vec[3]=1\n",
    "    elif upvotes<30000:\n",
    "        vec[4]=1\n",
    "    elif upvotes<40000:\n",
    "        vec[5]=1\n",
    "    elif upvotes<50000:\n",
    "        vec[6]=1\n",
    "    elif upvotes<60000:\n",
    "        vec[7]=1\n",
    "    else:\n",
    "        vec[8]=1\n",
    "    return vec"
   ]
  },
  {
   "cell_type": "code",
   "execution_count": 44,
   "metadata": {
    "collapsed": true
   },
   "outputs": [],
   "source": [
    "def get_comments_vector(comments):\n",
    "    vec=[0]*6\n",
    "    if comments<10:\n",
    "        return vec\n",
    "    elif comments<100:\n",
    "        vec[0]=1\n",
    "    elif comments<500:\n",
    "        vec[1]=1\n",
    "    elif comments<1000:\n",
    "        vec[2]=1\n",
    "    elif comments<2000:\n",
    "        vec[3]=1\n",
    "    elif comments<3000:\n",
    "        vec[4]=1\n",
    "    elif comments>3000:\n",
    "        vec[5]=1\n",
    "    return vec"
   ]
  },
  {
   "cell_type": "code",
   "execution_count": 45,
   "metadata": {
    "collapsed": true
   },
   "outputs": [],
   "source": [
    "def feature(datum):\n",
    "    t=datum[2]\n",
    "    tFormatted=datetime.datetime(int(t[0:4]),int(t[5:7]),int(t[8:10]),\n",
    "                                     int(t[11:13]),int(t[14:16]),int(t[17:19]))\n",
    "    title=datum[3]\n",
    "    #punctuations=re.findall('!\"#$%&\\'()*+,-./:;<=>?@[\\\\]^_`{|}~',title) #r\"[.,!?;]\"\n",
    "    counts = Counter(title)\n",
    "    punctuations={k:v for k, v in counts.iteritems() if k in string.punctuation}\n",
    "    words=title.translate(string.maketrans(\"\",\"\"), string.punctuation).split(' ')  \n",
    "    sentc=1\n",
    "    wordc=len(words)\n",
    "    charc= sum(len(w) for w in words)\n",
    "    ari=int(4.71 * charc / wordc + 0.5 * wordc / sentc - 21.43)\n",
    "    ariBucket=int(ari/3)\n",
    "    feat=[]\n",
    "    feat.append(1)\n",
    "    #feat.append(long(datum[0]))\n",
    "    feat.append(int(time.time())-int(datum[1])) #unixtime\n",
    "    weekday=[0]*7\n",
    "    #feat.append(tFormatted.date().weekday()) #day ofthe week\n",
    "    weekday[tFormatted.date().weekday()-1]=1\n",
    "    #feat.extend(weekday)\n",
    "    hours=[0]*24\n",
    "    hours[tFormatted.hour-1]=1\n",
    "    feat.extend(hours)\n",
    "    #feat.append(tFormatted.hour) #hour of the day in local time\n",
    "    #feat.append(len(punctuations)*1.0/len(words)) #punctuation to word ratio\n",
    "    feat.append(ari) #automatic readability index of title\n",
    "    feat.append(ariBucket) #bucketed ari\n",
    "    feat.append(len(datum[3]))\n",
    "    #feat.append(hash(datum[3]))#hashed title -> replace with sentiment analysis\n",
    "    #feat.append(datum[5])\n",
    "    #feat.append(hash(datum[7]))#subreddit hashed\n",
    "    #feat.append(datum[9])\n",
    "    \n",
    "    #feat.append(len(datum[12]))#username length\n",
    "    feat.append(int(datum[10])) #Score\n",
    "    #feat.extend(get_upvote_vector(int(datum[6]))) #upvotes\n",
    "    feat.append(int(datum[6])) #upvotes\n",
    "    #feat.append(int(datum[8])) #downvotes\n",
    "    #feat.extend(get_upvote_vector(int(datum[8]))) #downvotes\n",
    "    #feat.extend(get_comments_vector(int(datum[11]))) #comments\n",
    "    feat.append(int(datum[11])) #Number of comments\n",
    "    return feat"
   ]
  },
  {
   "cell_type": "code",
   "execution_count": 46,
   "metadata": {
    "collapsed": true
   },
   "outputs": [],
   "source": [
    "# Assign a label to each subreddit. If it is one of the niche subreddits, then we assign it the last label.\n",
    "def generate_label(datum):\n",
    "    feat = 0\n",
    "    datum_subreddit = datum[7]\n",
    "    if datum_subreddit in sub_reddit_label:\n",
    "        feat = sub_reddit_label[datum_subreddit]\n",
    "    else:\n",
    "        feat = len(sub_reddit_label)\n",
    "    return feat"
   ]
  },
  {
   "cell_type": "markdown",
   "metadata": {},
   "source": [
    "#Score vs time"
   ]
  },
  {
   "cell_type": "code",
   "execution_count": 100,
   "metadata": {
    "collapsed": true
   },
   "outputs": [],
   "source": [
    "import pandas as pd\n",
    "dataDF=pd.DataFrame(data)"
   ]
  },
  {
   "cell_type": "code",
   "execution_count": 96,
   "metadata": {
    "collapsed": false
   },
   "outputs": [],
   "source": [
    "def timeFormat(t):\n",
    "    tFormatted=datetime.datetime(int(t[0:4]),int(t[5:7]),int(t[8:10]),\n",
    "                                     int(t[11:13]),int(t[14:16]),int(t[17:19]))\n",
    "    return int(tFormatted.hour)"
   ]
  },
  {
   "cell_type": "code",
   "execution_count": 89,
   "metadata": {
    "collapsed": false
   },
   "outputs": [
    {
     "data": {
      "text/plain": [
       "int"
      ]
     },
     "execution_count": 89,
     "metadata": {},
     "output_type": "execute_result"
    }
   ],
   "source": [
    "type(timeFormat(data[0][2]))"
   ]
  },
  {
   "cell_type": "code",
   "execution_count": 101,
   "metadata": {
    "collapsed": false
   },
   "outputs": [],
   "source": [
    "dataDF[2]=dataDF[2].apply(timeFormat).convert_objects(convert_numeric=True)"
   ]
  },
  {
   "cell_type": "code",
   "execution_count": 118,
   "metadata": {
    "collapsed": false
   },
   "outputs": [],
   "source": [
    "dataDF[11]=dataDF[11].convert_objects(convert_numeric=True)"
   ]
  },
  {
   "cell_type": "code",
   "execution_count": 109,
   "metadata": {
    "collapsed": false
   },
   "outputs": [
    {
     "data": {
      "text/html": [
       "<div style=\"max-height:1000px;max-width:1500px;overflow:auto;\">\n",
       "<table border=\"1\" class=\"dataframe\">\n",
       "  <thead>\n",
       "    <tr style=\"text-align: right;\">\n",
       "      <th></th>\n",
       "      <th>0</th>\n",
       "      <th>1</th>\n",
       "      <th>2</th>\n",
       "      <th>3</th>\n",
       "      <th>4</th>\n",
       "      <th>5</th>\n",
       "      <th>6</th>\n",
       "      <th>7</th>\n",
       "      <th>8</th>\n",
       "      <th>9</th>\n",
       "      <th>10</th>\n",
       "      <th>11</th>\n",
       "      <th>12</th>\n",
       "      <th>13</th>\n",
       "      <th>14</th>\n",
       "      <th>15</th>\n",
       "    </tr>\n",
       "  </thead>\n",
       "  <tbody>\n",
       "    <tr>\n",
       "      <th>0</th>\n",
       "      <td> 0</td>\n",
       "      <td> 1333172439</td>\n",
       "      <td> 12</td>\n",
       "      <td>          And here's a downvote.</td>\n",
       "      <td> 63470</td>\n",
       "      <td> rmqjs</td>\n",
       "      <td> 32657</td>\n",
       "      <td>    funny</td>\n",
       "      <td> 30813</td>\n",
       "      <td> 1333197639</td>\n",
       "      <td> 1844</td>\n",
       "      <td> 622</td>\n",
       "      <td> Animates_Everything</td>\n",
       "      <td> None</td>\n",
       "      <td> None</td>\n",
       "      <td> None</td>\n",
       "    </tr>\n",
       "    <tr>\n",
       "      <th>1</th>\n",
       "      <td> 0</td>\n",
       "      <td> 1333178161</td>\n",
       "      <td> 14</td>\n",
       "      <td>                     Expectation</td>\n",
       "      <td>    35</td>\n",
       "      <td> rmun4</td>\n",
       "      <td>    29</td>\n",
       "      <td> GifSound</td>\n",
       "      <td>     6</td>\n",
       "      <td> 1333203361</td>\n",
       "      <td>   23</td>\n",
       "      <td>   3</td>\n",
       "      <td>       Gangsta_Raper</td>\n",
       "      <td> None</td>\n",
       "      <td> None</td>\n",
       "      <td> None</td>\n",
       "    </tr>\n",
       "    <tr>\n",
       "      <th>2</th>\n",
       "      <td> 0</td>\n",
       "      <td> 1333199913</td>\n",
       "      <td> 20</td>\n",
       "      <td>                        Downvote</td>\n",
       "      <td>    41</td>\n",
       "      <td> rna86</td>\n",
       "      <td>    32</td>\n",
       "      <td> GifSound</td>\n",
       "      <td>     9</td>\n",
       "      <td> 1333225113</td>\n",
       "      <td>   23</td>\n",
       "      <td>   0</td>\n",
       "      <td>       Gangsta_Raper</td>\n",
       "      <td> None</td>\n",
       "      <td> None</td>\n",
       "      <td> None</td>\n",
       "    </tr>\n",
       "    <tr>\n",
       "      <th>3</th>\n",
       "      <td> 0</td>\n",
       "      <td> 1333252330</td>\n",
       "      <td> 10</td>\n",
       "      <td> Every time I downvote something</td>\n",
       "      <td>    10</td>\n",
       "      <td> ro7e4</td>\n",
       "      <td>     6</td>\n",
       "      <td> GifSound</td>\n",
       "      <td>     4</td>\n",
       "      <td> 1333277530</td>\n",
       "      <td>    2</td>\n",
       "      <td>   0</td>\n",
       "      <td>       Gangsta_Raper</td>\n",
       "      <td> None</td>\n",
       "      <td> None</td>\n",
       "      <td> None</td>\n",
       "    </tr>\n",
       "    <tr>\n",
       "      <th>4</th>\n",
       "      <td> 0</td>\n",
       "      <td> 1333272954</td>\n",
       "      <td> 16</td>\n",
       "      <td>  Downvote &amp;quot;Dies Irae&amp;quot;</td>\n",
       "      <td>    65</td>\n",
       "      <td> rooof</td>\n",
       "      <td>    57</td>\n",
       "      <td> GifSound</td>\n",
       "      <td>     8</td>\n",
       "      <td> 1333298154</td>\n",
       "      <td>   49</td>\n",
       "      <td>   0</td>\n",
       "      <td>       Gangsta_Raper</td>\n",
       "      <td> None</td>\n",
       "      <td> None</td>\n",
       "      <td> None</td>\n",
       "    </tr>\n",
       "  </tbody>\n",
       "</table>\n",
       "</div>"
      ],
      "text/plain": [
       "  0           1   2                                3      4      5      6   \\\n",
       "0  0  1333172439  12           And here's a downvote.  63470  rmqjs  32657   \n",
       "1  0  1333178161  14                      Expectation     35  rmun4     29   \n",
       "2  0  1333199913  20                         Downvote     41  rna86     32   \n",
       "3  0  1333252330  10  Every time I downvote something     10  ro7e4      6   \n",
       "4  0  1333272954  16   Downvote &quot;Dies Irae&quot;     65  rooof     57   \n",
       "\n",
       "         7      8           9     10   11                   12    13    14  \\\n",
       "0     funny  30813  1333197639  1844  622  Animates_Everything  None  None   \n",
       "1  GifSound      6  1333203361    23    3        Gangsta_Raper  None  None   \n",
       "2  GifSound      9  1333225113    23    0        Gangsta_Raper  None  None   \n",
       "3  GifSound      4  1333277530     2    0        Gangsta_Raper  None  None   \n",
       "4  GifSound      8  1333298154    49    0        Gangsta_Raper  None  None   \n",
       "\n",
       "     15  \n",
       "0  None  \n",
       "1  None  \n",
       "2  None  \n",
       "3  None  \n",
       "4  None  "
      ]
     },
     "execution_count": 109,
     "metadata": {},
     "output_type": "execute_result"
    }
   ],
   "source": [
    "dataDF.head()"
   ]
  },
  {
   "cell_type": "code",
   "execution_count": 122,
   "metadata": {
    "collapsed": false,
    "scrolled": true
   },
   "outputs": [
    {
     "data": {
      "text/plain": [
       "<matplotlib.axes._subplots.AxesSubplot at 0x7fe9fc5a37d0>"
      ]
     },
     "execution_count": 122,
     "metadata": {},
     "output_type": "execute_result"
    },
    {
     "data": {
      "image/png": "[encoded data removed]",
      "text/plain": [
       "<matplotlib.figure.Figure at 0x7fe9fc58f210>"
      ]
     },
     "metadata": {},
     "output_type": "display_data"
    }
   ],
   "source": [
    "dataDF.plot(x=2,y=11,kind='scatter')"
   ]
  },
  {
   "cell_type": "markdown",
   "metadata": {},
   "source": [
    "#Acquiring data"
   ]
  },
  {
   "cell_type": "code",
   "execution_count": 47,
   "metadata": {
    "collapsed": true
   },
   "outputs": [],
   "source": [
    "#dataY=score\n",
    "dataY=[generate_label(d) for d in data]\n",
    "#dataXF=[d for d in data]"
   ]
  },
  {
   "cell_type": "code",
   "execution_count": 48,
   "metadata": {
    "collapsed": true
   },
   "outputs": [],
   "source": [
    "from sklearn.cross_validation import train_test_split\n",
    "train_X,test_X,trainY,testY=train_test_split(data, dataY, test_size=0.15)"
   ]
  },
  {
   "cell_type": "code",
   "execution_count": 49,
   "metadata": {
    "collapsed": false
   },
   "outputs": [],
   "source": [
    "#removing noise\n",
    "image_dict={}\n",
    "training_data=[]\n",
    "train_y=[]\n",
    "for x in train_X:\n",
    "    if x[7] in sub_reddit_label:\n",
    "        training_data.append(x)\n",
    "        train_y.append(generate_label(x))\n",
    "    else:\n",
    "        continue\n",
    "    if x[0] in image_dict:\n",
    "        image_dict[x[0]].append(x[7])\n",
    "    else:\n",
    "        image_dict[x[0]]=[x[7]]"
   ]
  },
  {
   "cell_type": "code",
   "execution_count": 50,
   "metadata": {
    "collapsed": false,
    "scrolled": true
   },
   "outputs": [
    {
     "data": {
      "text/plain": [
       "(110143, 112460)"
      ]
     },
     "execution_count": 50,
     "metadata": {},
     "output_type": "execute_result"
    }
   ],
   "source": [
    "len(training_data),len(train_X)"
   ]
  },
  {
   "cell_type": "code",
   "execution_count": 51,
   "metadata": {
    "collapsed": false
   },
   "outputs": [
    {
     "data": {
      "text/plain": [
       "52"
      ]
     },
     "execution_count": 51,
     "metadata": {},
     "output_type": "execute_result"
    }
   ],
   "source": [
    "sub_reddit_label[training_data[0][7]]"
   ]
  },
  {
   "cell_type": "code",
   "execution_count": 52,
   "metadata": {
    "collapsed": false
   },
   "outputs": [
    {
     "name": "stdout",
     "output_type": "stream",
     "text": [
      "110143\n",
      "75883 75883\n"
     ]
    }
   ],
   "source": [
    "#remove rows at random from train to prevent skewness\n",
    "import random\n",
    "import copy\n",
    "i=0\n",
    "#training_data2=copy.deepcopy(training_data)\n",
    "#train_y2=copy.deepcopy(train_y)\n",
    "print len(train_y)\n",
    "for x in training_data:\n",
    "    if train_y[i] in set([44,4,11,52,24,62,7]):\n",
    "        c=random.random()\n",
    "        if(c>=0.5):\n",
    "            training_data.pop(i)\n",
    "            train_y.pop(i)\n",
    "            i-=1\n",
    "    i+=1\n",
    "            \n",
    "print len(training_data),len(train_y)"
   ]
  },
  {
   "cell_type": "code",
   "execution_count": 53,
   "metadata": {
    "collapsed": true
   },
   "outputs": [],
   "source": [
    "#processing text\n",
    "#step 1: put posts in a dictionary by subreddit\n",
    "groups=[]\n",
    "for x in training_data:\n",
    "    if sub_reddit_label[x[7]] in groups:\n",
    "        image_dict[sub_reddit_label[x[7]]].append(x)\n",
    "    else:\n",
    "        image_dict[sub_reddit_label[x[7]]]=[x]"
   ]
  },
  {
   "cell_type": "code",
   "execution_count": 164,
   "metadata": {
    "collapsed": true
   },
   "outputs": [],
   "source": [
    "#step 2: "
   ]
  },
  {
   "cell_type": "code",
   "execution_count": 54,
   "metadata": {
    "collapsed": false
   },
   "outputs": [],
   "source": [
    "trainX=[feature(d) for d in training_data]\n",
    "testX=[feature(d) for d in test_X]"
   ]
  },
  {
   "cell_type": "code",
   "execution_count": 128,
   "metadata": {
    "collapsed": true
   },
   "outputs": [
    {
     "ename": "SyntaxError",
     "evalue": "EOL while scanning string literal (<ipython-input-128-d820312466e4>, line 22)",
     "output_type": "error",
     "traceback": [
      "\u001b[1;36m  File \u001b[1;32m\"<ipython-input-128-d820312466e4>\"\u001b[1;36m, line \u001b[1;32m22\u001b[0m\n\u001b[1;33m    ''''\u001b[0m\n\u001b[1;37m        \n^\u001b[0m\n\u001b[1;31mSyntaxError\u001b[0m\u001b[1;31m:\u001b[0m EOL while scanning string literal\n"
     ]
    }
   ],
   "source": [
    "#getting user vector\n",
    "''''\n",
    "user_dict={}\n",
    "for x in training_data:\n",
    "    if x[12] in user_dict:\n",
    "        user_dict[x[12]].append(x[7])\n",
    "    else:\n",
    "        user_dict[x[12]]=[x[7]]\n",
    "        \n",
    "for i in xrange(len(trainX)):\n",
    "    vec=[0]*(len(sub_reddit_label)+1)\n",
    "    if training_data[i][12] in user_dict:\n",
    "        for k in user_dict[training_data[i][12]]:\n",
    "            if k in sub_reddit_label:\n",
    "                vec[sub_reddit_label[k]]+=1\n",
    "            else:\n",
    "                vec[len(sub_reddit_label)]+=1\n",
    "        f=[float(v)/len(user_dict[training_data[i][12]]) for v in vec]\n",
    "        trainX[i].extend(f)\n",
    "    else:\n",
    "        trainX[i].extend(vec)\n",
    "''''"
   ]
  },
  {
   "cell_type": "code",
   "execution_count": null,
   "metadata": {
    "collapsed": true
   },
   "outputs": [],
   "source": [
    "''''\n",
    "for i in xrange(len(testX)):\n",
    "    vec=[0]*(len(sub_reddit_label)+1)\n",
    "    if test_X[i][12] in user_dict:\n",
    "        for k in user_dict[test_X[i][12]]:\n",
    "            if k in sub_reddit_label:\n",
    "                vec[sub_reddit_label[k]]+=1\n",
    "            else:\n",
    "                vec[len(sub_reddit_label)]+=1\n",
    "        f=[float(v)/len(user_dict[test_X[i][12]]) for v in vec]\n",
    "        testX[i].extend(f)\n",
    "    else:\n",
    "        testX[i].extend(map(float,vec))\n",
    "''''"
   ]
  },
  {
   "cell_type": "code",
   "execution_count": 55,
   "metadata": {
    "collapsed": false
   },
   "outputs": [],
   "source": [
    "#getting resubmission vector\n",
    "\n",
    "for i in xrange(len(trainX)):\n",
    "    vec=[0]*(len(sub_reddit_label))\n",
    "    if training_data[i][0] in image_dict:\n",
    "        for k in image_dict[training_data[i][0]]:\n",
    "            if k in sub_reddit_label:\n",
    "                vec[sub_reddit_label[k]]+=1\n",
    "            else:\n",
    "                vec[len(sub_reddit_label)]+=1\n",
    "        f=[float(v)/len(image_dict[training_data[i][0]]) for v in vec]\n",
    "        trainX[i].extend(f)\n",
    "        trainX[i].append(len(image_dict[training_data[i][0]])) #no. of times resubmitted\n",
    "    else:\n",
    "        trainX[i].extend(vec)\n",
    "        trainX[i].append(0) #no. of times resubmitted"
   ]
  },
  {
   "cell_type": "code",
   "execution_count": 56,
   "metadata": {
    "collapsed": false
   },
   "outputs": [],
   "source": [
    "for i in xrange(len(testX)):\n",
    "    vec=[0]*(len(sub_reddit_label))\n",
    "    if test_X[i][0] in image_dict:\n",
    "        for k in image_dict[test_X[i][0]]:\n",
    "            if k in sub_reddit_label:\n",
    "                vec[sub_reddit_label[k]]+=1\n",
    "            else:\n",
    "                vec[len(sub_reddit_label)]+=1\n",
    "        f=[float(v)/len(image_dict[test_X[i][0]]) for v in vec]\n",
    "        testX[i].extend(f)\n",
    "        testX[i].append(len(image_dict[test_X[i][0]]))\n",
    "    else:\n",
    "        testX[i].extend(map(float,vec))\n",
    "        testX[i].append(0)"
   ]
  },
  {
   "cell_type": "markdown",
   "metadata": {},
   "source": [
    "#Standardization of Data"
   ]
  },
  {
   "cell_type": "code",
   "execution_count": 151,
   "metadata": {
    "collapsed": false
   },
   "outputs": [],
   "source": [
    "'''from sklearn.preprocessing import StandardScaler\n",
    "from sklearn.preprocessing import scale\n",
    "trainX2=trainX\n",
    "testX2=testX\n",
    "trainX=StandardScaler().fit_transform(trainX)\n",
    "testX=StandardScaler().fit_transform(testX)\n",
    "'''"
   ]
  },
  {
   "cell_type": "code",
   "execution_count": null,
   "metadata": {
    "collapsed": false
   },
   "outputs": [],
   "source": [
    "'''dataXDF=pd.DataFrame(dataXF)\n",
    "dataXDF=dataXDF.apply(lambda x: (x - np.min(x)) / (np.max(x) - np.min(x)))\n",
    "dataXDF[9]=1\n",
    "dataXDF=dataXDF.replace([np.inf, -np.inf], np.nan)\n",
    "dataXDF2=dataXDF.fillna(method=\"backfill\")\n",
    "dataX=dataXDF2.values.tolist()"
   ]
  },
  {
   "cell_type": "code",
   "execution_count": null,
   "metadata": {
    "collapsed": true
   },
   "outputs": [],
   "source": [
    "'''import math\n",
    "trainX=dataX[0:int(len(dataX)*0.8)]\n",
    "validX=dataX[int(len(dataX)*0.8)+1:int(len(dataX)*0.9)]\n",
    "testX=dataX[int(len(dataX)*0.9)+1:len(dataX)]\n",
    "\n",
    "trainY=dataY[0:int(len(dataY)*0.8)]\n",
    "validY=dataY[int(len(dataY)*0.8)+1:int(len(dataY)*0.9)]\n",
    "testY=dataY[int(len(dataY)*0.9)+1:len(dataY)]\n",
    "\n",
    "idx = np.arange(len(trainX))\n",
    "np.random.seed(13)\n",
    "np.random.shuffle(idx)\n",
    "\n",
    "trainX_std=[]\n",
    "for i in xrange(len(trainX)):\n",
    "    trainX_std.append(trainX[idx[i]])\n",
    "trainY_std=[]\n",
    "for i in xrange(len(trainY)):\n",
    "    trainY_std.append(trainY[idx[i]])\n",
    "    \n",
    "trainX=trainX_std\n",
    "trainY=trainY_std"
   ]
  },
  {
   "cell_type": "code",
   "execution_count": null,
   "metadata": {
    "collapsed": false,
    "scrolled": true
   },
   "outputs": [],
   "source": [
    "'''trainXDF=pd.DataFrame(trainX)\n",
    "validXDF=pd.DataFrame(validX)\n",
    "testXDF=pd.DataFrame(testX)"
   ]
  },
  {
   "cell_type": "code",
   "execution_count": null,
   "metadata": {
    "collapsed": false,
    "scrolled": true
   },
   "outputs": [],
   "source": [
    "'''testXDF.head()"
   ]
  },
  {
   "cell_type": "code",
   "execution_count": null,
   "metadata": {
    "collapsed": false
   },
   "outputs": [],
   "source": [
    "'''trainXDF=trainXDF.apply(lambda x: (x - np.min(x)) / (np.max(x) - np.min(x)))\n",
    "trainXDF[10]=1\n",
    "validXDF=validXDF.apply(lambda x: (x - np.min(x)) / (np.max(x) - np.min(x)))\n",
    "validXDF[10]=1\n",
    "testXDF=testXDF.apply(lambda x: (x - np.min(x)) / (np.max(x) - np.min(x)))\n",
    "testXDF[10]=1\n",
    "trainXDF=trainXDF.replace([np.inf, -np.inf], np.nan)\n",
    "validXDF=validXDF.replace([np.inf, -np.inf], np.nan)\n",
    "testXDF=testXDF.replace([np.inf, -np.inf], np.nan)"
   ]
  },
  {
   "cell_type": "code",
   "execution_count": null,
   "metadata": {
    "collapsed": false
   },
   "outputs": [],
   "source": [
    "'''trainXDF2=trainXDF.fillna(method=\"backfill\")\n",
    "validXDF2=validXDF.fillna(method=\"backfill\")\n",
    "testXDF2=testXDF.fillna(method=\"backfill\")"
   ]
  },
  {
   "cell_type": "code",
   "execution_count": null,
   "metadata": {
    "collapsed": false,
    "scrolled": true
   },
   "outputs": [],
   "source": [
    "'''type(trainXDF2)"
   ]
  },
  {
   "cell_type": "code",
   "execution_count": null,
   "metadata": {
    "collapsed": false
   },
   "outputs": [],
   "source": [
    "'''trainX=trainXDF2.values.tolist()\n",
    "validX=validXDF2.values.tolist()\n",
    "testX=testXDF2.values.tolist()"
   ]
  },
  {
   "cell_type": "code",
   "execution_count": null,
   "metadata": {
    "collapsed": false
   },
   "outputs": [],
   "source": [
    "'''print len(dataX)\n",
    "print len(dataY)\n",
    "print len(testX)\n",
    "print len(testY)\n",
    "print len(trainX)\n",
    "print len(trainY)"
   ]
  },
  {
   "cell_type": "markdown",
   "metadata": {},
   "source": [
    "## Trying Simple classification"
   ]
  },
  {
   "cell_type": "code",
   "execution_count": null,
   "metadata": {
    "collapsed": false
   },
   "outputs": [],
   "source": [
    "from sklearn import svm, metrics\n",
    "classifier = svm.SVC()\n",
    "classifier.fit(trainX, trainY)\n"
   ]
  },
  {
   "cell_type": "code",
   "execution_count": null,
   "metadata": {
    "collapsed": false
   },
   "outputs": [],
   "source": [
    "classifier.score(testX,testY)"
   ]
  },
  {
   "cell_type": "code",
   "execution_count": null,
   "metadata": {
    "collapsed": false
   },
   "outputs": [],
   "source": [
    "predictions = classifier.predict(testX)"
   ]
  },
  {
   "cell_type": "code",
   "execution_count": null,
   "metadata": {
    "collapsed": false
   },
   "outputs": [],
   "source": [
    "print(\"Classification report for classifier %s:\\n%s\\n\"\n",
    "      % (classifier, metrics.classification_report(testY, predictions)))\n",
    "# print(\"Confusion matrix:\\n%s\" % metrics.confusion_matrix(testY, predictions))"
   ]
  },
  {
   "cell_type": "markdown",
   "metadata": {},
   "source": [
    "## Classification with a different value of gamma"
   ]
  },
  {
   "cell_type": "code",
   "execution_count": null,
   "metadata": {
    "collapsed": false
   },
   "outputs": [],
   "source": [
    "classifier = svm.SVC(gamma=0.001)\n",
    "classifier.fit(trainX, trainY)"
   ]
  },
  {
   "cell_type": "code",
   "execution_count": null,
   "metadata": {
    "collapsed": false
   },
   "outputs": [],
   "source": [
    "classifier.score(testX,testY)"
   ]
  },
  {
   "cell_type": "code",
   "execution_count": null,
   "metadata": {
    "collapsed": true
   },
   "outputs": [],
   "source": [
    "predictions = classifier.predict(testX)"
   ]
  },
  {
   "cell_type": "code",
   "execution_count": null,
   "metadata": {
    "collapsed": false
   },
   "outputs": [],
   "source": [
    "print(\"Classification report for classifier %s:\\n%s\\n\"\n",
    "      % (classifier, metrics.classification_report(testY, predictions)))\n",
    "# print(\"Confusion matrix:\\n%s\" % metrics.confusion_matrix(testY, predictions))"
   ]
  },
  {
   "cell_type": "code",
   "execution_count": null,
   "metadata": {
    "collapsed": false
   },
   "outputs": [],
   "source": [
    "classifier.decision_function(trainX)[0]"
   ]
  },
  {
   "cell_type": "markdown",
   "metadata": {},
   "source": [
    "## OneVsRest Classifier"
   ]
  },
  {
   "cell_type": "code",
   "execution_count": null,
   "metadata": {
    "collapsed": false
   },
   "outputs": [],
   "source": [
    "from sklearn.multiclass import OneVsRestClassifier\n",
    "classif = OneVsRestClassifier(svm.SVC(kernel='linear'))\n",
    "classif.fit(trainX, trainY)"
   ]
  },
  {
   "cell_type": "code",
   "execution_count": null,
   "metadata": {
    "collapsed": false
   },
   "outputs": [],
   "source": [
    "classif.score(testX,testY)"
   ]
  },
  {
   "cell_type": "markdown",
   "metadata": {},
   "source": [
    "## Slight modification with a different kernel"
   ]
  },
  {
   "cell_type": "code",
   "execution_count": null,
   "metadata": {
    "collapsed": false
   },
   "outputs": [],
   "source": [
    "classif = OneVsRestClassifier(svm.SVC())\n",
    "classif.fit(trainX, trainY)"
   ]
  },
  {
   "cell_type": "code",
   "execution_count": null,
   "metadata": {
    "collapsed": false
   },
   "outputs": [],
   "source": [
    "classif.score(testX,testY)"
   ]
  },
  {
   "cell_type": "code",
   "execution_count": null,
   "metadata": {
    "collapsed": true
   },
   "outputs": [],
   "source": [
    "predictions = classif.predict(testX)"
   ]
  },
  {
   "cell_type": "code",
   "execution_count": null,
   "metadata": {
    "collapsed": false
   },
   "outputs": [],
   "source": [
    "predictions[0:10]"
   ]
  },
  {
   "cell_type": "markdown",
   "metadata": {},
   "source": [
    "## Multi Class Logistic Regression"
   ]
  },
  {
   "cell_type": "code",
   "execution_count": 77,
   "metadata": {
    "collapsed": false
   },
   "outputs": [],
   "source": [
    "from sklearn import linear_model\n",
    "logistic = linear_model.LogisticRegression()\n"
   ]
  },
  {
   "cell_type": "code",
   "execution_count": 78,
   "metadata": {
    "collapsed": false
   },
   "outputs": [
    {
     "data": {
      "text/plain": [
       "LogisticRegression(C=1.0, class_weight=None, dual=False, fit_intercept=True,\n",
       "          intercept_scaling=1, max_iter=100, multi_class='ovr',\n",
       "          penalty='l2', random_state=None, solver='liblinear', tol=0.0001,\n",
       "          verbose=0)"
      ]
     },
     "execution_count": 78,
     "metadata": {},
     "output_type": "execute_result"
    }
   ],
   "source": [
    "logistic.fit(trainX, trainY)"
   ]
  },
  {
   "cell_type": "code",
   "execution_count": 79,
   "metadata": {
    "collapsed": false
   },
   "outputs": [
    {
     "data": {
      "text/plain": [
       "0.41844909681807874"
      ]
     },
     "execution_count": 79,
     "metadata": {},
     "output_type": "execute_result"
    }
   ],
   "source": [
    "logistic.score(testX, testY)"
   ]
  },
  {
   "cell_type": "code",
   "execution_count": null,
   "metadata": {
    "collapsed": false
   },
   "outputs": [],
   "source": [
    "predictions = logistic.predict(testX)"
   ]
  },
  {
   "cell_type": "code",
   "execution_count": 80,
   "metadata": {
    "collapsed": false,
    "scrolled": true
   },
   "outputs": [
    {
     "data": {
      "text/plain": [
       "array([40, 40, 40, ..., 40, 40, 40])"
      ]
     },
     "execution_count": 80,
     "metadata": {},
     "output_type": "execute_result"
    }
   ],
   "source": [
    "predictions"
   ]
  },
  {
   "cell_type": "markdown",
   "metadata": {},
   "source": [
    "## Random Forest"
   ]
  },
  {
   "cell_type": "code",
   "execution_count": 57,
   "metadata": {
    "collapsed": true
   },
   "outputs": [],
   "source": [
    "from sklearn.ensemble import RandomForestClassifier\n",
    "rf=RandomForestClassifier(n_estimators=70)"
   ]
  },
  {
   "cell_type": "code",
   "execution_count": 58,
   "metadata": {
    "collapsed": false,
    "scrolled": true
   },
   "outputs": [
    {
     "data": {
      "text/plain": [
       "RandomForestClassifier(bootstrap=True, compute_importances=None,\n",
       "            criterion='gini', max_depth=None, max_features='auto',\n",
       "            max_leaf_nodes=None, min_density=None, min_samples_leaf=1,\n",
       "            min_samples_split=2, n_estimators=70, n_jobs=1,\n",
       "            oob_score=False, random_state=None, verbose=0)"
      ]
     },
     "execution_count": 58,
     "metadata": {},
     "output_type": "execute_result"
    }
   ],
   "source": [
    "rf.fit(trainX, train_y)"
   ]
  },
  {
   "cell_type": "code",
   "execution_count": 59,
   "metadata": {
    "collapsed": false,
    "scrolled": true
   },
   "outputs": [
    {
     "data": {
      "text/plain": [
       "0.60558270771401224"
      ]
     },
     "execution_count": 59,
     "metadata": {},
     "output_type": "execute_result"
    }
   ],
   "source": [
    "rf.score(testX, testY)"
   ]
  },
  {
   "cell_type": "code",
   "execution_count": 109,
   "metadata": {
    "collapsed": true
   },
   "outputs": [],
   "source": [
    "preds=rf.predict(testX)"
   ]
  },
  {
   "cell_type": "code",
   "execution_count": 110,
   "metadata": {
    "collapsed": false
   },
   "outputs": [
    {
     "name": "stdout",
     "output_type": "stream",
     "text": [
      "[0, 1, 0, 0, 2059, 2, 0, 229, 0, 0, 0, 1010, 0, 68, 1, 1, 0, 1, 1, 0, 2, 0, 0, 5, 631, 0, 1, 0, 64, 0, 0, 8, 0, 1, 0, 0, 0, 0, 4, 47, 0, 1, 0, 0, 6151, 671, 0, 0, 0, 0, 0, 1, 704, 4, 0, 0, 0, 0, 0, 0, 2, 0, 330] [4, 6, 27, 6, 3575, 17, 0, 484, 4, 3, 9, 1846, 4, 138, 10, 15, 0, 11, 6, 17, 108, 2, 10, 123, 901, 3, 2, 16, 84, 5, 3, 80, 7, 13, 14, 3, 6, 2, 4, 144, 4, 8, 1, 13, 8367, 853, 5, 6, 1, 33, 5, 6, 1817, 17, 13, 4, 1, 6, 7, 5, 3, 1, 551]\n"
     ]
    }
   ],
   "source": [
    "predLabels=[0]*(len(sub_reddit_label))\n",
    "testYlabelCounts=[0]*(len(sub_reddit_label))\n",
    "for i in xrange(len(testY)):\n",
    "    if(testY[i]<len(sub_reddit_label)):\n",
    "        testYlabelCounts[testY[i]]+=1\n",
    "    if(testY[i]==preds[i]):\n",
    "        predLabels[preds[i]]+=1\n",
    "        \n",
    "print predLabels,testYlabelCounts"
   ]
  },
  {
   "cell_type": "code",
   "execution_count": 111,
   "metadata": {
    "collapsed": false
   },
   "outputs": [
    {
     "name": "stdout",
     "output_type": "stream",
     "text": [
      "pics\n",
      "subreddit, subreddit original posts count, out of, correct count, \n",
      "upvotegifs 30 4 0\n",
      "HistoryPorn 35 6 1\n",
      "photoshopbattles 144 27 0\n",
      "creepy 52 6 0\n",
      "pics 24712 3575 2059\n",
      "movies 95 17 2\n",
      "spaceporn 22 0 0\n",
      "gaming 3009 484 229\n",
      "wallpaper 46 4 0\n",
      "Images 29 3 0\n",
      "SpideyMeme 21 9 0\n",
      "WTF 12193 1846 1010\n",
      "Punny 22 4 0\n",
      "AdviceAnimals 999 138 68\n",
      "wallpapers 88 10 1\n",
      "mildlyinteresting 79 15 1\n",
      "sandy 21 0 0\n",
      "space 109 11 1\n",
      "LadyBoners 29 6 1\n",
      "pokemon 106 17 0\n",
      "gif 685 108 2\n",
      "onetruegod 23 2 0\n",
      "PerfectTiming 75 10 0\n",
      "reddit.com 828 123 5\n",
      "aww 5921 901 631\n",
      "Minecraft 22 3 0\n",
      "adventuretime 21 2 1\n",
      "HIFW 106 16 0\n",
      "fffffffuuuuuuuuuuuu 473 84 64\n",
      "harrypotter 21 5 0\n",
      "arresteddevelopment 26 3 0\n",
      "trees 528 80 8\n",
      "geek 85 7 0\n",
      "firstworldanarchists 69 13 1\n",
      "breakingbad 70 14 0\n",
      "vertical 26 3 0\n",
      "facepalm 26 6 0\n",
      "NigelThornberry 24 2 0\n",
      "TheStopGirl 49 4 4\n",
      "reactiongifs 963 144 47\n",
      "Music 30 4 0\n",
      "EarthPorn 43 8 1\n",
      "doctorwho 23 1 0\n",
      "offbeat 82 13 0\n",
      "funny 55281 8367 6151\n",
      "GifSound 5608 853 671\n",
      "awwwtf 25 5 0\n",
      "KarmaConspiracy 68 6 0\n",
      "futurama 21 1 0\n",
      "woahdude 176 33 0\n",
      "toosoon 22 5 0\n",
      "thewalkingdead 22 6 1\n",
      "gifs 12538 1817 704\n",
      "4chan 122 17 4\n",
      "LeagueOfMemes 65 13 0\n",
      "gameofthrones 22 4 0\n",
      "wheredidthesodago 23 1 0\n",
      "cats 33 6 0\n",
      "batman 40 7 0\n",
      "comics 23 5 0\n",
      "pooplikethis 34 3 2\n",
      "bicycling 21 1 0\n",
      "atheism 3366 551 330\n"
     ]
    }
   ],
   "source": [
    "sub_reddit_label_reverse=dict((v,k) for k,v in sub_reddit_label.items())\n",
    "print sub_reddit_label_reverse[4]\n",
    "print \"subreddit, subreddit original posts count, out of, correct count, \"\n",
    "for i in xrange(len(predLabels)):\n",
    "    print sub_reddit_label_reverse[i],subreddit[sub_reddit_label_reverse[i]], testYlabelCounts[i], predLabels[i]"
   ]
  },
  {
   "cell_type": "code",
   "execution_count": 356,
   "metadata": {
    "collapsed": true
   },
   "outputs": [
    {
     "data": {
      "text/plain": [
       "array([  0.00000000e+00,   7.68114038e-02,   3.93921831e-02,\n",
       "         5.73720024e-02,   6.25502161e-02,   6.07566373e-02,\n",
       "         6.73487790e-02,   4.34951813e-02,   5.57158005e-04,\n",
       "         2.82073581e-04,   1.45221850e-03,   4.92599200e-04,\n",
       "         1.11919627e-01,   1.15426891e-03,   2.46300057e-04,\n",
       "         2.41937463e-02,   5.02814555e-04,   3.05891386e-04,\n",
       "         7.26976864e-02,   2.30824822e-04,   6.55909600e-03,\n",
       "         8.08777997e-04,   8.04249239e-04,   1.01814677e-03,\n",
       "         2.44753308e-04,   1.27090462e-03,   7.35479682e-03,\n",
       "         2.81368684e-04,   6.69905135e-04,   7.72636985e-03,\n",
       "         4.39820281e-02,   2.58223429e-04,   1.70580964e-03,\n",
       "         4.11506757e-03,   2.87701813e-04,   5.75561150e-03,\n",
       "         8.66057520e-04,   7.30593615e-04,   7.35967345e-04,\n",
       "         2.13712126e-04,   3.30177347e-04,   2.87259298e-04,\n",
       "         2.68664166e-04,   8.26924878e-03,   2.82832026e-04,\n",
       "         3.25339171e-04,   2.70522917e-04,   8.59837185e-04,\n",
       "         1.30858313e-01,   3.47663922e-02,   3.30041789e-04,\n",
       "         6.11230043e-04,   1.55793981e-03,   2.76250285e-04,\n",
       "         2.89466338e-04,   5.12530117e-02,   1.23672514e-03,\n",
       "         9.75687730e-04,   2.29294789e-04,   1.86243217e-04,\n",
       "         4.48234157e-04,   4.75333799e-04,   2.07600688e-04,\n",
       "         1.17051005e-04,   2.69893476e-02,   3.11472032e-02])"
      ]
     },
     "execution_count": 356,
     "metadata": {},
     "output_type": "execute_result"
    }
   ],
   "source": [
    "rf.feature_importances_"
   ]
  },
  {
   "cell_type": "markdown",
   "metadata": {},
   "source": [
    "## Gradient Boosting "
   ]
  },
  {
   "cell_type": "code",
   "execution_count": 91,
   "metadata": {
    "collapsed": true
   },
   "outputs": [],
   "source": [
    "from sklearn.ensemble import GradientBoostingClassifier\n",
    "gb=GradientBoostingClassifier()"
   ]
  },
  {
   "cell_type": "code",
   "execution_count": 92,
   "metadata": {
    "collapsed": false
   },
   "outputs": [
    {
     "ename": "KeyboardInterrupt",
     "evalue": "",
     "output_type": "error",
     "traceback": [
      "\u001b[0;31m---------------------------------------------------------------------------\u001b[0m",
      "\u001b[0;31mKeyboardInterrupt\u001b[0m                         Traceback (most recent call last)",
      "\u001b[0;32m<ipython-input-92-083b691cc27e>\u001b[0m in \u001b[0;36m<module>\u001b[0;34m()\u001b[0m\n\u001b[0;32m----> 1\u001b[0;31m \u001b[0mgb\u001b[0m\u001b[0;34m.\u001b[0m\u001b[0mfit\u001b[0m\u001b[0;34m(\u001b[0m\u001b[0mtrainX\u001b[0m\u001b[0;34m,\u001b[0m \u001b[0mtrainY\u001b[0m\u001b[0;34m)\u001b[0m\u001b[0;34m\u001b[0m\u001b[0m\n\u001b[0m",
      "\u001b[0;32m/Library/Python/2.7/site-packages/sklearn/ensemble/gradient_boosting.pyc\u001b[0m in \u001b[0;36mfit\u001b[0;34m(self, X, y, sample_weight, monitor)\u001b[0m\n\u001b[1;32m    978\u001b[0m         \u001b[0;31m# fit the boosting stages\u001b[0m\u001b[0;34m\u001b[0m\u001b[0;34m\u001b[0m\u001b[0m\n\u001b[1;32m    979\u001b[0m         n_stages = self._fit_stages(X, y, y_pred, sample_weight, random_state,\n\u001b[0;32m--> 980\u001b[0;31m                                     begin_at_stage, monitor)\n\u001b[0m\u001b[1;32m    981\u001b[0m         \u001b[0;31m# change shape of arrays after fit (early-stopping or additional ests)\u001b[0m\u001b[0;34m\u001b[0m\u001b[0;34m\u001b[0m\u001b[0m\n\u001b[1;32m    982\u001b[0m         \u001b[0;32mif\u001b[0m \u001b[0mn_stages\u001b[0m \u001b[0;34m!=\u001b[0m \u001b[0mself\u001b[0m\u001b[0;34m.\u001b[0m\u001b[0mestimators_\u001b[0m\u001b[0;34m.\u001b[0m\u001b[0mshape\u001b[0m\u001b[0;34m[\u001b[0m\u001b[0;36m0\u001b[0m\u001b[0;34m]\u001b[0m\u001b[0;34m:\u001b[0m\u001b[0;34m\u001b[0m\u001b[0m\n",
      "\u001b[0;32m/Library/Python/2.7/site-packages/sklearn/ensemble/gradient_boosting.pyc\u001b[0m in \u001b[0;36m_fit_stages\u001b[0;34m(self, X, y, y_pred, sample_weight, random_state, begin_at_stage, monitor)\u001b[0m\n\u001b[1;32m   1038\u001b[0m             y_pred = self._fit_stage(i, X, y, y_pred, sample_weight,\n\u001b[1;32m   1039\u001b[0m                                      \u001b[0msample_mask\u001b[0m\u001b[0;34m,\u001b[0m \u001b[0mcriterion\u001b[0m\u001b[0;34m,\u001b[0m \u001b[0msplitter\u001b[0m\u001b[0;34m,\u001b[0m\u001b[0;34m\u001b[0m\u001b[0m\n\u001b[0;32m-> 1040\u001b[0;31m                                      random_state)\n\u001b[0m\u001b[1;32m   1041\u001b[0m \u001b[0;34m\u001b[0m\u001b[0m\n\u001b[1;32m   1042\u001b[0m             \u001b[0;31m# track deviance (= loss)\u001b[0m\u001b[0;34m\u001b[0m\u001b[0;34m\u001b[0m\u001b[0m\n",
      "\u001b[0;32m/Library/Python/2.7/site-packages/sklearn/ensemble/gradient_boosting.pyc\u001b[0m in \u001b[0;36m_fit_stage\u001b[0;34m(self, i, X, y, y_pred, sample_weight, sample_mask, criterion, splitter, random_state)\u001b[0m\n\u001b[1;32m    764\u001b[0m \u001b[0;34m\u001b[0m\u001b[0m\n\u001b[1;32m    765\u001b[0m             tree.fit(X, residual, sample_weight=sample_weight,\n\u001b[0;32m--> 766\u001b[0;31m                      check_input=False)\n\u001b[0m\u001b[1;32m    767\u001b[0m \u001b[0;34m\u001b[0m\u001b[0m\n\u001b[1;32m    768\u001b[0m             \u001b[0;31m# update tree leaves\u001b[0m\u001b[0;34m\u001b[0m\u001b[0;34m\u001b[0m\u001b[0m\n",
      "\u001b[0;32m/Library/Python/2.7/site-packages/sklearn/tree/tree.pyc\u001b[0m in \u001b[0;36mfit\u001b[0;34m(self, X, y, sample_weight, check_input)\u001b[0m\n\u001b[1;32m    302\u001b[0m                                            max_leaf_nodes)\n\u001b[1;32m    303\u001b[0m \u001b[0;34m\u001b[0m\u001b[0m\n\u001b[0;32m--> 304\u001b[0;31m         \u001b[0mbuilder\u001b[0m\u001b[0;34m.\u001b[0m\u001b[0mbuild\u001b[0m\u001b[0;34m(\u001b[0m\u001b[0mself\u001b[0m\u001b[0;34m.\u001b[0m\u001b[0mtree_\u001b[0m\u001b[0;34m,\u001b[0m \u001b[0mX\u001b[0m\u001b[0;34m,\u001b[0m \u001b[0my\u001b[0m\u001b[0;34m,\u001b[0m \u001b[0msample_weight\u001b[0m\u001b[0;34m)\u001b[0m\u001b[0;34m\u001b[0m\u001b[0m\n\u001b[0m\u001b[1;32m    305\u001b[0m \u001b[0;34m\u001b[0m\u001b[0m\n\u001b[1;32m    306\u001b[0m         \u001b[0;32mif\u001b[0m \u001b[0mself\u001b[0m\u001b[0;34m.\u001b[0m\u001b[0mn_outputs_\u001b[0m \u001b[0;34m==\u001b[0m \u001b[0;36m1\u001b[0m\u001b[0;34m:\u001b[0m\u001b[0;34m\u001b[0m\u001b[0m\n",
      "\u001b[0;31mKeyboardInterrupt\u001b[0m: "
     ]
    }
   ],
   "source": [
    "gb.fit(trainX, trainY)"
   ]
  },
  {
   "cell_type": "code",
   "execution_count": null,
   "metadata": {
    "collapsed": true
   },
   "outputs": [],
   "source": [
    "gb.score(testX, testY)"
   ]
  },
  {
   "cell_type": "markdown",
   "metadata": {},
   "source": [
    "## One Vs Rest Multi Class Logistic Regression"
   ]
  },
  {
   "cell_type": "code",
   "execution_count": 52,
   "metadata": {
    "collapsed": false
   },
   "outputs": [
    {
     "data": {
      "text/plain": [
       "OneVsRestClassifier(estimator=LogisticRegression(C=1.0, class_weight=None, dual=False, fit_intercept=True,\n",
       "          intercept_scaling=1, max_iter=100, multi_class='ovr',\n",
       "          penalty='l2', random_state=None, solver='liblinear', tol=0.0001,\n",
       "          verbose=0),\n",
       "          n_jobs=1)"
      ]
     },
     "execution_count": 52,
     "metadata": {},
     "output_type": "execute_result"
    }
   ],
   "source": [
    "from sklearn.multiclass import OneVsRestClassifier\n",
    "classif = OneVsRestClassifier(linear_model.LogisticRegression())\n",
    "classif.fit(trainX, trainY)"
   ]
  },
  {
   "cell_type": "code",
   "execution_count": 53,
   "metadata": {
    "collapsed": false
   },
   "outputs": [
    {
     "data": {
      "text/plain": [
       "0.41844909681807874"
      ]
     },
     "execution_count": 53,
     "metadata": {},
     "output_type": "execute_result"
    }
   ],
   "source": [
    "classif.score(testX, testY)"
   ]
  },
  {
   "cell_type": "code",
   "execution_count": 54,
   "metadata": {
    "collapsed": true
   },
   "outputs": [],
   "source": [
    "predictions = classif.predict(testX)"
   ]
  },
  {
   "cell_type": "code",
   "execution_count": 57,
   "metadata": {
    "collapsed": false
   },
   "outputs": [],
   "source": [
    "for p in predictions:\n",
    "    if p!=40:\n",
    "        print p"
   ]
  },
  {
   "cell_type": "code",
   "execution_count": 59,
   "metadata": {
    "collapsed": false
   },
   "outputs": [
    {
     "name": "stdout",
     "output_type": "stream",
     "text": [
      "funny\n"
     ]
    }
   ],
   "source": [
    "for k in sub_reddit_label.keys():\n",
    "    if sub_reddit_label[k]==40:\n",
    "        print k"
   ]
  },
  {
   "cell_type": "markdown",
   "metadata": {},
   "source": [
    "#Simple linear regression for initial testing#"
   ]
  },
  {
   "cell_type": "code",
   "execution_count": null,
   "metadata": {
    "collapsed": false
   },
   "outputs": [],
   "source": [
    "from sklearn import linear_model\n",
    "regr = linear_model.LinearRegression()\n",
    "regr.fit(trainX, trainY)"
   ]
  },
  {
   "cell_type": "code",
   "execution_count": null,
   "metadata": {
    "collapsed": false
   },
   "outputs": [],
   "source": [
    "regr.score(testX,testY)"
   ]
  },
  {
   "cell_type": "code",
   "execution_count": null,
   "metadata": {
    "collapsed": true
   },
   "outputs": [],
   "source": []
  },
  {
   "cell_type": "markdown",
   "metadata": {},
   "source": [
    "#PCA#"
   ]
  },
  {
   "cell_type": "code",
   "execution_count": null,
   "metadata": {
    "collapsed": false
   },
   "outputs": [],
   "source": [
    "from sklearn.decomposition import PCA\n",
    "pca = PCA(n_components=6)\n",
    "pca.fit(trainX)\n",
    "trainX_pca=pca.transform(trainX)\n",
    "testX_pca=pca.transform(testX)"
   ]
  },
  {
   "cell_type": "code",
   "execution_count": null,
   "metadata": {
    "collapsed": false
   },
   "outputs": [],
   "source": [
    "print(pca.explained_variance_ratio_) "
   ]
  },
  {
   "cell_type": "code",
   "execution_count": null,
   "metadata": {
    "collapsed": false
   },
   "outputs": [],
   "source": [
    "regr.fit(trainX_pca, trainY)\n",
    "regr.score(testX_pca,testY)"
   ]
  },
  {
   "cell_type": "code",
   "execution_count": null,
   "metadata": {
    "collapsed": false
   },
   "outputs": [],
   "source": [
    "pca.components_"
   ]
  },
  {
   "cell_type": "markdown",
   "metadata": {},
   "source": [
    "#Random Forest Regressor"
   ]
  },
  {
   "cell_type": "code",
   "execution_count": null,
   "metadata": {
    "collapsed": true
   },
   "outputs": [],
   "source": [
    "from sklearn.ensemble.forest import RandomForestRegressor\n",
    "from sklearn.datasets import load_boston\n",
    "from sklearn.ensemble import RandomForestRegressor\n",
    "from sklearn.pipeline import Pipeline\n",
    "from sklearn.preprocessing import Imputer\n",
    "from sklearn.cross_validation import cross_val_score"
   ]
  },
  {
   "cell_type": "code",
   "execution_count": null,
   "metadata": {
    "collapsed": false
   },
   "outputs": [],
   "source": [
    "estimator = RandomForestRegressor(random_state=0, n_estimators=100)\n",
    "score = cross_val_score(estimator, dataX, dataY).mean()\n",
    "print(\"Score with the entire dataset = %.2f\" % score)"
   ]
  },
  {
   "cell_type": "code",
   "execution_count": null,
   "metadata": {
    "collapsed": true
   },
   "outputs": [],
   "source": []
  }
 ],
 "metadata": {
  "kernelspec": {
   "display_name": "Python 2",
   "language": "python",
   "name": "python2"
  },
  "language_info": {
   "codemirror_mode": {
    "name": "ipython",
    "version": 2
   },
   "file_extension": ".py",
   "mimetype": "text/x-python",
   "name": "python",
   "nbconvert_exporter": "python",
   "pygments_lexer": "ipython2",
   "version": "2.7.6"
  }
 },
 "nbformat": 4,
 "nbformat_minor": 0
}
