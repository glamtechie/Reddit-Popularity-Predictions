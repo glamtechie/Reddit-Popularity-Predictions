{
 "cells": [
  {
   "cell_type": "code",
   "execution_count": 1,
   "metadata": {
    "collapsed": false,
    "scrolled": true
   },
   "outputs": [
    {
     "name": "stdout",
     "output_type": "stream",
     "text": [
      "Populating the interactive namespace from numpy and matplotlib\n"
     ]
    }
   ],
   "source": [
    "%pylab inline"
   ]
  },
  {
   "cell_type": "code",
   "execution_count": 2,
   "metadata": {
    "collapsed": false
   },
   "outputs": [
    {
     "name": "stdout",
     "output_type": "stream",
     "text": [
      "\u001b[34mData\u001b[m\u001b[m                   Data_Exploration.ipynb README.md              features.txt\r\n"
     ]
    }
   ],
   "source": [
    "!ls"
   ]
  },
  {
   "cell_type": "code",
   "execution_count": 3,
   "metadata": {
    "collapsed": false
   },
   "outputs": [],
   "source": [
    "import csv\n",
    "fi=open('Data/redditSubmissions.csv')\n",
    "r=csv.reader(fi)\n"
   ]
  },
  {
   "cell_type": "code",
   "execution_count": 4,
   "metadata": {
    "collapsed": true
   },
   "outputs": [],
   "source": [
    "data=list(r)"
   ]
  },
  {
   "cell_type": "code",
   "execution_count": 5,
   "metadata": {
    "collapsed": false
   },
   "outputs": [
    {
     "data": {
      "text/plain": [
       "132309"
      ]
     },
     "execution_count": 5,
     "metadata": {},
     "output_type": "execute_result"
    }
   ],
   "source": [
    "len(data)"
   ]
  },
  {
   "cell_type": "code",
   "execution_count": 6,
   "metadata": {
    "collapsed": false,
    "scrolled": false
   },
   "outputs": [
    {
     "data": {
      "text/plain": [
       "['#image_id',\n",
       " 'unixtime',\n",
       " 'rawtime',\n",
       " 'title',\n",
       " 'total_votes',\n",
       " 'reddit_id',\n",
       " 'number_of_upvotes',\n",
       " 'subreddit',\n",
       " 'number_of_downvotes',\n",
       " 'localtime',\n",
       " 'score',\n",
       " 'number_of_comments',\n",
       " 'username']"
      ]
     },
     "execution_count": 6,
     "metadata": {},
     "output_type": "execute_result"
    }
   ],
   "source": [
    "data.pop(0)"
   ]
  },
  {
   "cell_type": "code",
   "execution_count": 7,
   "metadata": {
    "collapsed": false
   },
   "outputs": [
    {
     "data": {
      "text/plain": [
       "[['0',\n",
       "  '1333172439',\n",
       "  '2012-03-31T12:40:39.590113-07:00',\n",
       "  \"And here's a downvote.\",\n",
       "  '63470',\n",
       "  'rmqjs',\n",
       "  '32657',\n",
       "  'funny',\n",
       "  '30813',\n",
       "  '1333197639',\n",
       "  '1844',\n",
       "  '622',\n",
       "  'Animates_Everything'],\n",
       " ['0',\n",
       "  '1333178161',\n",
       "  '2012-03-31T14:16:01.093638-07:00',\n",
       "  'Expectation',\n",
       "  '35',\n",
       "  'rmun4',\n",
       "  '29',\n",
       "  'GifSound',\n",
       "  '6',\n",
       "  '1333203361',\n",
       "  '23',\n",
       "  '3',\n",
       "  'Gangsta_Raper'],\n",
       " ['0',\n",
       "  '1333199913',\n",
       "  '2012-03-31T20:18:33.192906-07:00',\n",
       "  'Downvote',\n",
       "  '41',\n",
       "  'rna86',\n",
       "  '32',\n",
       "  'GifSound',\n",
       "  '9',\n",
       "  '1333225113',\n",
       "  '23',\n",
       "  '0',\n",
       "  'Gangsta_Raper']]"
      ]
     },
     "execution_count": 7,
     "metadata": {},
     "output_type": "execute_result"
    }
   ],
   "source": [
    "data[0:3]"
   ]
  },
  {
   "cell_type": "code",
   "execution_count": 8,
   "metadata": {
    "collapsed": false
   },
   "outputs": [
    {
     "data": {
      "text/plain": [
       "16736"
      ]
     },
     "execution_count": 8,
     "metadata": {},
     "output_type": "execute_result"
    }
   ],
   "source": [
    "images=[x[0] for x in data]\n",
    "len(set(images))"
   ]
  },
  {
   "cell_type": "code",
   "execution_count": 9,
   "metadata": {
    "collapsed": false
   },
   "outputs": [
    {
     "name": "stdout",
     "output_type": "stream",
     "text": [
      "['0', '1333172439', '2012-03-31T12:40:39.590113-07:00', \"And here's a downvote.\", '63470', 'rmqjs', '32657', 'funny', '30813', '1333197639', '1844', '622', 'Animates_Everything']\n"
     ]
    }
   ],
   "source": [
    "print data[0]"
   ]
  },
  {
   "cell_type": "markdown",
   "metadata": {},
   "source": [
    "Unique number of images analysed=16736"
   ]
  },
  {
   "cell_type": "code",
   "execution_count": 10,
   "metadata": {
    "collapsed": true
   },
   "outputs": [],
   "source": [
    "import matplotlib.pyplot as plt"
   ]
  },
  {
   "cell_type": "code",
   "execution_count": 11,
   "metadata": {
    "collapsed": false
   },
   "outputs": [
    {
     "data": {
      "text/plain": [
       "['20089', '']"
      ]
     },
     "execution_count": 11,
     "metadata": {},
     "output_type": "execute_result"
    }
   ],
   "source": [
    "data.pop(53033)"
   ]
  },
  {
   "cell_type": "code",
   "execution_count": 12,
   "metadata": {
    "collapsed": false
   },
   "outputs": [
    {
     "data": {
      "image/png": "[encoded data removed]",
      "text/plain": [
       "<matplotlib.figure.Figure at 0x106387e90>"
      ]
     },
     "metadata": {},
     "output_type": "display_data"
    }
   ],
   "source": [
    "upvotes=[int(x[6]) for x in data]\n",
    "downvotes=[int(x[8]) for x in data]\n",
    "plt.hist(upvotes,log=True,bins=50,color='b')\n",
    "plt.hist(downvotes,log=True,bins=50,color='r')\n",
    "plt.title(\"Distribution of upvotes/downvotes\")\n",
    "plt.xlabel(\"Value\")\n",
    "plt.ylabel(\"Frequency\")\n",
    "plt.show()"
   ]
  },
  {
   "cell_type": "code",
   "execution_count": 13,
   "metadata": {
    "collapsed": false
   },
   "outputs": [
    {
     "name": "stdout",
     "output_type": "stream",
     "text": [
      "['2713', '1349205792', '2012-10-02T19:23:12+00:00', 'Airline screwed up, a friend just posted this on Facebook.', '177103', '10tya8', '90396', 'funny', '86707', '1349205792', '3689', '3488', 'lepry']\n"
     ]
    }
   ],
   "source": [
    "for i in range(len(data)):\n",
    "    if int(data[i][6])>80000:\n",
    "        print data[i]"
   ]
  },
  {
   "cell_type": "code",
   "execution_count": 14,
   "metadata": {
    "collapsed": false
   },
   "outputs": [
    {
     "name": "stdout",
     "output_type": "stream",
     "text": [
      "['2713', '1349205792', '2012-10-02T19:23:12+00:00', 'Airline screwed up, a friend just posted this on Facebook.', '177103', '10tya8', '90396', 'funny', '86707', '1349205792', '3689', '3488', 'lepry']\n"
     ]
    }
   ],
   "source": [
    "for i in range(len(data)):\n",
    "    if int(data[i][8])>80000:\n",
    "        print data[i]"
   ]
  },
  {
   "cell_type": "code",
   "execution_count": 15,
   "metadata": {
    "collapsed": true
   },
   "outputs": [],
   "source": [
    "score=[upvotes[i]-downvotes[i] for i in xrange(len(upvotes))]"
   ]
  },
  {
   "cell_type": "code",
   "execution_count": 16,
   "metadata": {
    "collapsed": false
   },
   "outputs": [
    {
     "data": {
      "image/png": "[encoded data removed]",
      "text/plain": [
       "<matplotlib.figure.Figure at 0x1042a0590>"
      ]
     },
     "metadata": {},
     "output_type": "display_data"
    }
   ],
   "source": [
    "plt.hist(score,log=True,bins=50)\n",
    "plt.title(\"Score distribution\")\n",
    "plt.xlabel(\"Value\")\n",
    "plt.ylabel(\"Frequency\")\n",
    "plt.show()"
   ]
  },
  {
   "cell_type": "code",
   "execution_count": 17,
   "metadata": {
    "collapsed": false
   },
   "outputs": [
    {
     "name": "stdout",
     "output_type": "stream",
     "text": [
      "['15566', '1327490824', '2012-01-25T18:27:04-07:00', 'So my little cousin posted on FB that he was bored and gave everyone his new phone number... (pic)', '114451', 'owx3v', '63392', 'funny', '51059', '1327516024', '12333', '1612', 'frackyou']\n",
      "['20414', '1333422529', '2012-04-03T10:08:49-07:00', 'My friend calls him &quot;Mr Ridiculously Photogenic Guy&quot;', '92874', 'rrew0', '52391', 'pics', '40483', '1333447729', '11908', '2681', 'TheKoG']\n",
      "['22478', '1343466356', '2012-07-28T16:05:56-07:00', 'The Bus Knight', '114964', 'xbfwb', '67767', 'funny', '47197', '1343491556', '20570', '1463', 'Robert_Houdin']\n",
      "['6952', '1311262850', '2011-07-21T22:40:50-07:00', 'This is called humanity.', '62718', 'iwkkx', '36490', 'pics', '26228', '1311288050', '10262', '1514', 'freestylepopcorn']\n"
     ]
    }
   ],
   "source": [
    "for i in range(len(score)):\n",
    "    if score[i]>10000:\n",
    "        print data[i]"
   ]
  },
  {
   "cell_type": "code",
   "execution_count": 18,
   "metadata": {
    "collapsed": false
   },
   "outputs": [
    {
     "name": "stdout",
     "output_type": "stream",
     "text": [
      "['1066', '1352725707', '2012-11-12T13:08:27+00:00', 'Picture of draining sink that looks like an eye [x-post from r/mildlyinteresting]', '282', '13277r', '80', 'pics', '202', '1352725707', '-122', '13', 'choc_is_back']\n",
      "['12745', '1351687185', '2012-10-31T12:39:45+00:00', \"Disney, you may have purchased Star Wars, but in a profound way, the mythos belongs to all of us. We're putting our trust in you, so please, make us proud. As a gesture of good faith, I have made this image to commemorate the occasion.\", '870', '12e8u4', '303', 'movies', '567', '1351687185', '-264', '79', '']\n",
      "['24407', '1359064672', '2013-01-24T21:57:52+00:00', \"I actually hope this is a repost so I don't have to give Facebook credit.\", '290', '177qzm', '89', 'funny', '201', '1359064672', '-112', '13', 'mtxrcr']\n"
     ]
    }
   ],
   "source": [
    "for i in range(len(score)):\n",
    "    if score[i]<-100:\n",
    "        print data[i]"
   ]
  },
  {
   "cell_type": "code",
   "execution_count": 19,
   "metadata": {
    "collapsed": true
   },
   "outputs": [],
   "source": [
    "d={}\n",
    "for x in data:\n",
    "    if x[0] in d:\n",
    "        d[x[0]]+=1\n",
    "    else:\n",
    "        d[x[0]]=1"
   ]
  },
  {
   "cell_type": "code",
   "execution_count": 20,
   "metadata": {
    "collapsed": false
   },
   "outputs": [
    {
     "data": {
      "text/plain": [
       "'6037'"
      ]
     },
     "execution_count": 20,
     "metadata": {},
     "output_type": "execute_result"
    }
   ],
   "source": [
    "import operator\n",
    "max(d.iteritems(), key=operator.itemgetter(1))[0]"
   ]
  },
  {
   "cell_type": "code",
   "execution_count": 21,
   "metadata": {
    "collapsed": false
   },
   "outputs": [
    {
     "data": {
      "text/plain": [
       "166"
      ]
     },
     "execution_count": 21,
     "metadata": {},
     "output_type": "execute_result"
    }
   ],
   "source": [
    "d['6037']"
   ]
  },
  {
   "cell_type": "code",
   "execution_count": 22,
   "metadata": {
    "collapsed": true
   },
   "outputs": [],
   "source": [
    "resub=[]\n",
    "for k in d.keys():\n",
    "    resub.append(d[k])"
   ]
  },
  {
   "cell_type": "markdown",
   "metadata": {},
   "source": [
    "Image resubmitted maximum times=6037,166 times"
   ]
  },
  {
   "cell_type": "code",
   "execution_count": 23,
   "metadata": {
    "collapsed": false
   },
   "outputs": [
    {
     "data": {
      "image/png": "[encoded data removed]",
      "text/plain": [
       "<matplotlib.figure.Figure at 0x10bd1ca90>"
      ]
     },
     "metadata": {},
     "output_type": "display_data"
    }
   ],
   "source": [
    "plt.hist(resub,log=True,bins=50,color='g')\n",
    "plt.title(\"Resubmission distribution\")\n",
    "plt.xlabel(\"Value\")\n",
    "plt.ylabel(\"Frequency\")\n",
    "plt.show()"
   ]
  },
  {
   "cell_type": "code",
   "execution_count": 24,
   "metadata": {
    "collapsed": false
   },
   "outputs": [
    {
     "data": {
      "text/plain": [
       "63338"
      ]
     },
     "execution_count": 24,
     "metadata": {},
     "output_type": "execute_result"
    }
   ],
   "source": [
    "users=[x[12] for x in data]\n",
    "len(set(users))"
   ]
  },
  {
   "cell_type": "markdown",
   "metadata": {},
   "source": [
    "No. of unique users=63338"
   ]
  },
  {
   "cell_type": "code",
   "execution_count": 25,
   "metadata": {
    "collapsed": true
   },
   "outputs": [],
   "source": [
    "u={}\n",
    "for x in data:\n",
    "    if x[12] in u:\n",
    "        u[x[12]]+=1\n",
    "    else:\n",
    "        u[x[12]]=1"
   ]
  },
  {
   "cell_type": "code",
   "execution_count": 26,
   "metadata": {
    "collapsed": false
   },
   "outputs": [
    {
     "data": {
      "text/plain": [
       "''"
      ]
     },
     "execution_count": 26,
     "metadata": {},
     "output_type": "execute_result"
    }
   ],
   "source": [
    "max(u.iteritems(), key=operator.itemgetter(1))[0]"
   ]
  },
  {
   "cell_type": "code",
   "execution_count": 27,
   "metadata": {
    "collapsed": false
   },
   "outputs": [
    {
     "data": {
      "text/plain": [
       "20259"
      ]
     },
     "execution_count": 27,
     "metadata": {},
     "output_type": "execute_result"
    }
   ],
   "source": [
    "u['']"
   ]
  },
  {
   "cell_type": "code",
   "execution_count": 28,
   "metadata": {
    "collapsed": true
   },
   "outputs": [],
   "source": [
    "del u['']"
   ]
  },
  {
   "cell_type": "code",
   "execution_count": 29,
   "metadata": {
    "collapsed": false
   },
   "outputs": [
    {
     "data": {
      "text/plain": [
       "'Gangsta_Raper'"
      ]
     },
     "execution_count": 29,
     "metadata": {},
     "output_type": "execute_result"
    }
   ],
   "source": [
    "max(u.iteritems(), key=operator.itemgetter(1))[0]"
   ]
  },
  {
   "cell_type": "code",
   "execution_count": 30,
   "metadata": {
    "collapsed": false
   },
   "outputs": [
    {
     "data": {
      "text/plain": [
       "5608"
      ]
     },
     "execution_count": 30,
     "metadata": {},
     "output_type": "execute_result"
    }
   ],
   "source": [
    "u['Gangsta_Raper']"
   ]
  },
  {
   "cell_type": "markdown",
   "metadata": {},
   "source": [
    "'Gangsta_Raper' posted 5608 times"
   ]
  },
  {
   "cell_type": "code",
   "execution_count": 31,
   "metadata": {
    "collapsed": true
   },
   "outputs": [],
   "source": [
    "user_posts=[]\n",
    "for k in u.keys():\n",
    "    user_posts.append(u[k])"
   ]
  },
  {
   "cell_type": "code",
   "execution_count": 32,
   "metadata": {
    "collapsed": false
   },
   "outputs": [
    {
     "data": {
      "image/png": "[encoded data removed]",
      "text/plain": [
       "<matplotlib.figure.Figure at 0x10ba30850>"
      ]
     },
     "metadata": {},
     "output_type": "display_data"
    }
   ],
   "source": [
    "plt.hist(user_posts,log=True,bins=100,color='y')\n",
    "plt.title(\"User posting distribution\")\n",
    "plt.xlabel(\"Value\")\n",
    "plt.ylabel(\"Frequency\")\n",
    "plt.show()"
   ]
  },
  {
   "cell_type": "code",
   "execution_count": 33,
   "metadata": {
    "collapsed": false,
    "scrolled": true
   },
   "outputs": [
    {
     "data": {
      "image/png": "[encoded data removed]",
      "text/plain": [
       "<matplotlib.figure.Figure at 0x10ba13050>"
      ]
     },
     "metadata": {},
     "output_type": "display_data"
    }
   ],
   "source": [
    "comments=[int(x[11]) for x in data]\n",
    "plt.hist(comments,log=True,bins=50,color='r')\n",
    "plt.title(\"Comments distribution\")\n",
    "plt.xlabel(\"Value\")\n",
    "plt.ylabel(\"Frequency\")\n",
    "plt.show()"
   ]
  },
  {
   "cell_type": "code",
   "execution_count": 34,
   "metadata": {
    "collapsed": false
   },
   "outputs": [
    {
     "name": "stdout",
     "output_type": "stream",
     "text": [
      "['11682', '1316149015', '2011-09-16T11:56:55-07:00', 'Your superhero name is going to suck...', '7508', 'khxit', '4159', 'reddit.com', '3349', '1316174215', '810', '8357', 'spez']\n"
     ]
    }
   ],
   "source": [
    "for i in range(len(score)):\n",
    "    if comments[i]>8000:\n",
    "        print data[i]"
   ]
  },
  {
   "cell_type": "markdown",
   "metadata": {},
   "source": [
    "Subreddit distribution"
   ]
  },
  {
   "cell_type": "code",
   "execution_count": 35,
   "metadata": {
    "collapsed": false
   },
   "outputs": [],
   "source": [
    "subreddit={}\n",
    "for x in data:\n",
    "    if x[7] in subreddit:\n",
    "        subreddit[x[7]]+=1\n",
    "    else:\n",
    "        subreddit[x[7]]=0"
   ]
  },
  {
   "cell_type": "code",
   "execution_count": 36,
   "metadata": {
    "collapsed": false
   },
   "outputs": [
    {
     "data": {
      "image/png": "[encoded data removed]",
      "text/plain": [
       "<matplotlib.figure.Figure at 0x10bd43150>"
      ]
     },
     "metadata": {},
     "output_type": "display_data"
    }
   ],
   "source": [
    "sreddit=[subreddit[x] for x in subreddit.keys()]\n",
    "plt.hist(sreddit,log=True,bins=40,color='b')\n",
    "plt.title(\"Subreddit distribution\")\n",
    "plt.xlabel(\"Value\")\n",
    "plt.ylabel(\"Frequency\")\n",
    "plt.show()"
   ]
  },
  {
   "cell_type": "code",
   "execution_count": 37,
   "metadata": {
    "collapsed": false
   },
   "outputs": [],
   "source": [
    "sub_reddit=[]\n",
    "s_count=0\n",
    "ignore=[]\n",
    "i_count=0\n",
    "for x in subreddit.keys():\n",
    "    if subreddit[x]>20:\n",
    "        sub_reddit.append(x)\n",
    "        s_count+=subreddit[x]\n",
    "    else:\n",
    "        ignore.append(x)\n",
    "        i_count+=subreddit[x]"
   ]
  },
  {
   "cell_type": "code",
   "execution_count": 38,
   "metadata": {
    "collapsed": false
   },
   "outputs": [
    {
     "data": {
      "text/plain": [
       "(57, 129387, 810, 2053)"
      ]
     },
     "execution_count": 38,
     "metadata": {},
     "output_type": "execute_result"
    }
   ],
   "source": [
    "len(sub_reddit),s_count,len(ignore),i_count"
   ]
  },
  {
   "cell_type": "code",
   "execution_count": 39,
   "metadata": {
    "collapsed": false
   },
   "outputs": [],
   "source": [
    "# Assigning a label for each subreddit.\n",
    "sub_reddit_label = dict(zip(sub_reddit, range(len(sub_reddit))))\n"
   ]
  },
  {
   "cell_type": "markdown",
   "metadata": {},
   "source": [
    "# Prediction task- Predict which subreddit the post will be posted to "
   ]
  },
  {
   "cell_type": "markdown",
   "metadata": {},
   "source": [
    "# feature analysis #"
   ]
  },
  {
   "cell_type": "code",
   "execution_count": 40,
   "metadata": {
    "collapsed": false
   },
   "outputs": [],
   "source": [
    "import hashlib\n",
    "import datetime\n",
    "import re\n",
    "import string\n",
    "import pandas as pd\n",
    "import time"
   ]
  },
  {
   "cell_type": "code",
   "execution_count": 41,
   "metadata": {
    "collapsed": true
   },
   "outputs": [],
   "source": [
    "def feature(datum):\n",
    "    t=datum[2]\n",
    "    tFormatted=datetime.datetime(int(t[0:4]),int(t[5:7]),int(t[8:10]),\n",
    "                                     int(t[11:13]),int(t[14:16]),int(t[17:19]))\n",
    "    title=datum[3]\n",
    "    punctuations=re.findall(r\"[.,!?;]\",title)\n",
    "    words=title.translate(string.maketrans(\"\",\"\"), string.punctuation).split(' ')  \n",
    "    sentc=1\n",
    "    wordc=len(words)\n",
    "    charc= sum(len(w) for w in words)\n",
    "    ari=int(4.71 * charc / wordc + 0.5 * wordc / sentc - 21.43)\n",
    "    ariBucket=int(ari/3)\n",
    "    feat=[]\n",
    "    #feat.append(long(datum[0]))\n",
    "    feat.append(int(time.time())-int(datum[1])) #unixtime\n",
    "    feat.append(tFormatted.date().weekday()) #day ofthe week\n",
    "    feat.append(tFormatted.hour) #hour of the day in local time\n",
    "    feat.append(len(punctuations)*1.0/len(words)) #punctuation to word ratio\n",
    "    feat.append(ari) #automatic readability index of title\n",
    "    feat.append(ariBucket) #bucketed ari\n",
    "    feat.append(len(datum[3]))\n",
    "    #feat.append(hash(datum[3]))#hashed title -> replace with sentiment analysis\n",
    "    #feat.append(datum[5])\n",
    "    #feat.append(hash(datum[7]))#subreddit hashed\n",
    "    #feat.append(datum[9])\n",
    "    \n",
    "    #feat.append(len(datum[12]))#username length\n",
    "    feat.append(int(datum[10])) #Score\n",
    "    feat.append(int(datum[11])) #Number of comments\n",
    "    feat.append(1)\n",
    "    return feat"
   ]
  },
  {
   "cell_type": "code",
   "execution_count": 42,
   "metadata": {
    "collapsed": true
   },
   "outputs": [],
   "source": [
    "# Assign a label to each subreddit. If it is one of the niche subreddits, then we assign it the last label.\n",
    "def generate_label(datum):\n",
    "    feat = 0\n",
    "    datum_subreddit = datum[7]\n",
    "    if datum_subreddit in sub_reddit_label:\n",
    "        feat = sub_reddit_label[datum_subreddit]\n",
    "    else:\n",
    "        feat = len(sub_reddit_label)\n",
    "    return feat;"
   ]
  },
  {
   "cell_type": "code",
   "execution_count": 43,
   "metadata": {
    "collapsed": false
   },
   "outputs": [],
   "source": [
    "#dataY=score\n",
    "dataY=[generate_label(d) for d in data]\n",
    "dataXF=[d for d in data]"
   ]
  },
  {
   "cell_type": "code",
   "execution_count": 44,
   "metadata": {
    "collapsed": true
   },
   "outputs": [],
   "source": [
    "from sklearn.cross_validation import train_test_split\n",
    "train_X,test_X,trainY,testY=train_test_split(dataXF, dataY, test_size=0.20, random_state=0)"
   ]
  },
  {
   "cell_type": "code",
   "execution_count": 45,
   "metadata": {
    "collapsed": true
   },
   "outputs": [],
   "source": [
    "trainX=[feature(d) for d in train_X]\n",
    "testX=[feature(d) for d in test_X]"
   ]
  },
  {
   "cell_type": "code",
   "execution_count": 46,
   "metadata": {
    "collapsed": false
   },
   "outputs": [],
   "source": [
    "#getting resubmission vector\n",
    "image_dict={}\n",
    "for x in train_X:\n",
    "    if x[0] in image_dict:\n",
    "        image_dict[x[0]].append(x[7])\n",
    "    else:\n",
    "        image_dict[x[0]]=[x[7]]\n",
    "for i in xrange(len(trainX)):\n",
    "    vec=[0]*(len(sub_reddit_label)+1)\n",
    "    if train_X[i][0] in image_dict:\n",
    "        for k in image_dict[train_X[i][0]]:\n",
    "            if k in sub_reddit_label:\n",
    "                vec[sub_reddit_label[k]]+=1\n",
    "            else:\n",
    "                vec[len(sub_reddit_label)]+=1\n",
    "        f=[float(v)/len(image_dict[train_X[i][0]]) for v in vec]\n",
    "        trainX[i].extend(f)\n",
    "    else:\n",
    "        trainX[i].extend(vec)"
   ]
  },
  {
   "cell_type": "code",
   "execution_count": 47,
   "metadata": {
    "collapsed": false
   },
   "outputs": [],
   "source": [
    "for i in xrange(len(testX)):\n",
    "    vec=[0]*(len(sub_reddit_label)+1)\n",
    "    if test_X[i][0] in image_dict:\n",
    "        for k in image_dict[test_X[i][0]]:\n",
    "            if k in sub_reddit_label:\n",
    "                vec[sub_reddit_label[k]]+=1\n",
    "            else:\n",
    "                vec[len(sub_reddit_label)]+=1\n",
    "        f=[float(v)/len(image_dict[test_X[i][0]]) for v in vec]\n",
    "        testX[i].extend(f)\n",
    "    else:\n",
    "        testX[i].extend(map(float,vec))"
   ]
  },
  {
   "cell_type": "code",
   "execution_count": null,
   "metadata": {
    "collapsed": false
   },
   "outputs": [],
   "source": [
    "for x in testX:\n",
    "    for i in x:\n",
    "        if any(isinstance(i, list)):\n",
    "            print i\n",
    "            break\n",
    "        "
   ]
  },
  {
   "cell_type": "code",
   "execution_count": null,
   "metadata": {
    "collapsed": false
   },
   "outputs": [],
   "source": [
    "test_t=testX[:2]\n",
    "test_y=testY[:2]"
   ]
  },
  {
   "cell_type": "code",
   "execution_count": 48,
   "metadata": {
    "collapsed": false
   },
   "outputs": [
    {
     "data": {
      "text/plain": [
       "68"
      ]
     },
     "execution_count": 48,
     "metadata": {},
     "output_type": "execute_result"
    }
   ],
   "source": [
    "len(testX[0])"
   ]
  },
  {
   "cell_type": "markdown",
   "metadata": {},
   "source": [
    "#Standardizing the data"
   ]
  },
  {
   "cell_type": "code",
   "execution_count": null,
   "metadata": {
    "collapsed": false
   },
   "outputs": [],
   "source": [
    "dataXDF=pd.DataFrame(dataXF)\n",
    "dataXDF=dataXDF.apply(lambda x: (x - np.min(x)) / (np.max(x) - np.min(x)))\n",
    "dataXDF[9]=1\n",
    "dataXDF=dataXDF.replace([np.inf, -np.inf], np.nan)\n",
    "dataXDF2=dataXDF.fillna(method=\"backfill\")\n",
    "dataX=dataXDF2.values.tolist()"
   ]
  },
  {
   "cell_type": "code",
   "execution_count": null,
   "metadata": {
    "collapsed": true
   },
   "outputs": [],
   "source": [
    "import math\n",
    "trainX=dataX[0:int(len(dataX)*0.8)]\n",
    "validX=dataX[int(len(dataX)*0.8)+1:int(len(dataX)*0.9)]\n",
    "testX=dataX[int(len(dataX)*0.9)+1:len(dataX)]\n",
    "\n",
    "trainY=dataY[0:int(len(dataY)*0.8)]\n",
    "validY=dataY[int(len(dataY)*0.8)+1:int(len(dataY)*0.9)]\n",
    "testY=dataY[int(len(dataY)*0.9)+1:len(dataY)]\n",
    "\n",
    "idx = np.arange(len(trainX))\n",
    "np.random.seed(13)\n",
    "np.random.shuffle(idx)\n",
    "\n",
    "trainX_std=[]\n",
    "for i in xrange(len(trainX)):\n",
    "    trainX_std.append(trainX[idx[i]])\n",
    "trainY_std=[]\n",
    "for i in xrange(len(trainY)):\n",
    "    trainY_std.append(trainY[idx[i]])\n",
    "    \n",
    "trainX=trainX_std\n",
    "trainY=trainY_std"
   ]
  },
  {
   "cell_type": "code",
   "execution_count": null,
   "metadata": {
    "collapsed": false,
    "scrolled": true
   },
   "outputs": [],
   "source": [
    "'''trainXDF=pd.DataFrame(trainX)\n",
    "validXDF=pd.DataFrame(validX)\n",
    "testXDF=pd.DataFrame(testX)"
   ]
  },
  {
   "cell_type": "code",
   "execution_count": null,
   "metadata": {
    "collapsed": false,
    "scrolled": true
   },
   "outputs": [],
   "source": [
    "'''testXDF.head()"
   ]
  },
  {
   "cell_type": "code",
   "execution_count": null,
   "metadata": {
    "collapsed": false
   },
   "outputs": [],
   "source": [
    "'''trainXDF=trainXDF.apply(lambda x: (x - np.min(x)) / (np.max(x) - np.min(x)))\n",
    "trainXDF[10]=1\n",
    "validXDF=validXDF.apply(lambda x: (x - np.min(x)) / (np.max(x) - np.min(x)))\n",
    "validXDF[10]=1\n",
    "testXDF=testXDF.apply(lambda x: (x - np.min(x)) / (np.max(x) - np.min(x)))\n",
    "testXDF[10]=1\n",
    "trainXDF=trainXDF.replace([np.inf, -np.inf], np.nan)\n",
    "validXDF=validXDF.replace([np.inf, -np.inf], np.nan)\n",
    "testXDF=testXDF.replace([np.inf, -np.inf], np.nan)"
   ]
  },
  {
   "cell_type": "code",
   "execution_count": null,
   "metadata": {
    "collapsed": false
   },
   "outputs": [],
   "source": [
    "'''trainXDF2=trainXDF.fillna(method=\"backfill\")\n",
    "validXDF2=validXDF.fillna(method=\"backfill\")\n",
    "testXDF2=testXDF.fillna(method=\"backfill\")"
   ]
  },
  {
   "cell_type": "code",
   "execution_count": null,
   "metadata": {
    "collapsed": false,
    "scrolled": true
   },
   "outputs": [],
   "source": [
    "'''type(trainXDF2)"
   ]
  },
  {
   "cell_type": "code",
   "execution_count": null,
   "metadata": {
    "collapsed": false
   },
   "outputs": [],
   "source": [
    "'''trainX=trainXDF2.values.tolist()\n",
    "validX=validXDF2.values.tolist()\n",
    "testX=testXDF2.values.tolist()"
   ]
  },
  {
   "cell_type": "code",
   "execution_count": null,
   "metadata": {
    "collapsed": false
   },
   "outputs": [],
   "source": [
    "print len(dataX)\n",
    "print len(dataY)\n",
    "print len(testX)\n",
    "print len(testY)\n",
    "print len(trainX)\n",
    "print len(trainY)"
   ]
  },
  {
   "cell_type": "code",
   "execution_count": null,
   "metadata": {
    "collapsed": false
   },
   "outputs": [],
   "source": [
    "trainX[3]"
   ]
  },
  {
   "cell_type": "markdown",
   "metadata": {},
   "source": [
    "## Trying Simple classification"
   ]
  },
  {
   "cell_type": "code",
   "execution_count": null,
   "metadata": {
    "collapsed": false
   },
   "outputs": [],
   "source": [
    "from sklearn import svm, metrics\n",
    "classifier = svm.SVC()\n",
    "classifier.fit(trainX, trainY)\n"
   ]
  },
  {
   "cell_type": "code",
   "execution_count": null,
   "metadata": {
    "collapsed": false
   },
   "outputs": [],
   "source": [
    "classifier.score(testX,testY)"
   ]
  },
  {
   "cell_type": "code",
   "execution_count": null,
   "metadata": {
    "collapsed": false
   },
   "outputs": [],
   "source": [
    "predictions = classifier.predict(testX)"
   ]
  },
  {
   "cell_type": "code",
   "execution_count": null,
   "metadata": {
    "collapsed": false
   },
   "outputs": [],
   "source": [
    "print(\"Classification report for classifier %s:\\n%s\\n\"\n",
    "      % (classifier, metrics.classification_report(testY, predictions)))\n",
    "# print(\"Confusion matrix:\\n%s\" % metrics.confusion_matrix(testY, predictions))"
   ]
  },
  {
   "cell_type": "markdown",
   "metadata": {},
   "source": [
    "## Classification with a different value of gamma"
   ]
  },
  {
   "cell_type": "code",
   "execution_count": null,
   "metadata": {
    "collapsed": false
   },
   "outputs": [],
   "source": [
    "classifier = svm.SVC(gamma=0.001)\n",
    "classifier.fit(trainX, trainY)"
   ]
  },
  {
   "cell_type": "code",
   "execution_count": null,
   "metadata": {
    "collapsed": false
   },
   "outputs": [],
   "source": [
    "classifier.score(testX,testY)"
   ]
  },
  {
   "cell_type": "code",
   "execution_count": null,
   "metadata": {
    "collapsed": true
   },
   "outputs": [],
   "source": [
    "predictions = classifier.predict(testX)"
   ]
  },
  {
   "cell_type": "code",
   "execution_count": null,
   "metadata": {
    "collapsed": false
   },
   "outputs": [],
   "source": [
    "print(\"Classification report for classifier %s:\\n%s\\n\"\n",
    "      % (classifier, metrics.classification_report(testY, predictions)))\n",
    "# print(\"Confusion matrix:\\n%s\" % metrics.confusion_matrix(testY, predictions))"
   ]
  },
  {
   "cell_type": "code",
   "execution_count": null,
   "metadata": {
    "collapsed": false
   },
   "outputs": [],
   "source": [
    "classifier.decision_function(trainX)[0]"
   ]
  },
  {
   "cell_type": "markdown",
   "metadata": {},
   "source": [
    "## OneVsRest Classifier"
   ]
  },
  {
   "cell_type": "code",
   "execution_count": null,
   "metadata": {
    "collapsed": false
   },
   "outputs": [],
   "source": [
    "from sklearn.multiclass import OneVsRestClassifier\n",
    "classif = OneVsRestClassifier(svm.SVC(kernel='linear'))\n",
    "classif.fit(trainX, trainY)"
   ]
  },
  {
   "cell_type": "code",
   "execution_count": null,
   "metadata": {
    "collapsed": false
   },
   "outputs": [],
   "source": [
    "classif.score(testX,testY)"
   ]
  },
  {
   "cell_type": "markdown",
   "metadata": {},
   "source": [
    "## Slight modification with a different kernel"
   ]
  },
  {
   "cell_type": "code",
   "execution_count": null,
   "metadata": {
    "collapsed": false
   },
   "outputs": [],
   "source": [
    "classif = OneVsRestClassifier(svm.SVC())\n",
    "classif.fit(trainX, trainY)"
   ]
  },
  {
   "cell_type": "code",
   "execution_count": null,
   "metadata": {
    "collapsed": false
   },
   "outputs": [],
   "source": [
    "classif.score(testX,testY)"
   ]
  },
  {
   "cell_type": "code",
   "execution_count": null,
   "metadata": {
    "collapsed": true
   },
   "outputs": [],
   "source": [
    "predictions = classif.predict(testX)"
   ]
  },
  {
   "cell_type": "code",
   "execution_count": null,
   "metadata": {
    "collapsed": false
   },
   "outputs": [],
   "source": [
    "predictions[0:10]"
   ]
  },
  {
   "cell_type": "markdown",
   "metadata": {},
   "source": [
    "## Multi Class Logistic Regression"
   ]
  },
  {
   "cell_type": "code",
   "execution_count": 51,
   "metadata": {
    "collapsed": false
   },
   "outputs": [],
   "source": [
    "from sklearn import linear_model\n",
    "logistic = linear_model.LogisticRegression()\n"
   ]
  },
  {
   "cell_type": "code",
   "execution_count": null,
   "metadata": {
    "collapsed": false
   },
   "outputs": [],
   "source": [
    "logistic.fit(trainX, trainY)"
   ]
  },
  {
   "cell_type": "code",
   "execution_count": null,
   "metadata": {
    "collapsed": false
   },
   "outputs": [],
   "source": [
    "logistic.score(testX, testY)"
   ]
  },
  {
   "cell_type": "code",
   "execution_count": null,
   "metadata": {
    "collapsed": false
   },
   "outputs": [],
   "source": [
    "predictions = logistic.predict(testX)"
   ]
  },
  {
   "cell_type": "code",
   "execution_count": null,
   "metadata": {
    "collapsed": false
   },
   "outputs": [],
   "source": [
    "predictions[1]"
   ]
  },
  {
   "cell_type": "markdown",
   "metadata": {},
   "source": [
    "## One Vs Rest Multi Class Logistic Regression"
   ]
  },
  {
   "cell_type": "code",
   "execution_count": 52,
   "metadata": {
    "collapsed": false
   },
   "outputs": [
    {
     "data": {
      "text/plain": [
       "OneVsRestClassifier(estimator=LogisticRegression(C=1.0, class_weight=None, dual=False, fit_intercept=True,\n",
       "          intercept_scaling=1, max_iter=100, multi_class='ovr',\n",
       "          penalty='l2', random_state=None, solver='liblinear', tol=0.0001,\n",
       "          verbose=0),\n",
       "          n_jobs=1)"
      ]
     },
     "execution_count": 52,
     "metadata": {},
     "output_type": "execute_result"
    }
   ],
   "source": [
    "from sklearn.multiclass import OneVsRestClassifier\n",
    "classif = OneVsRestClassifier(linear_model.LogisticRegression())\n",
    "classif.fit(trainX, trainY)"
   ]
  },
  {
   "cell_type": "code",
   "execution_count": 53,
   "metadata": {
    "collapsed": false
   },
   "outputs": [
    {
     "data": {
      "text/plain": [
       "0.41844909681807874"
      ]
     },
     "execution_count": 53,
     "metadata": {},
     "output_type": "execute_result"
    }
   ],
   "source": [
    "classif.score(testX, testY)"
   ]
  },
  {
   "cell_type": "code",
   "execution_count": null,
   "metadata": {
    "collapsed": true
   },
   "outputs": [],
   "source": [
    "predictions = classif.predict(testX)"
   ]
  },
  {
   "cell_type": "code",
   "execution_count": null,
   "metadata": {
    "collapsed": false
   },
   "outputs": [],
   "source": [
    "predictions"
   ]
  },
  {
   "cell_type": "markdown",
   "metadata": {},
   "source": [
    "#Simple linear regression for initial testing#"
   ]
  },
  {
   "cell_type": "code",
   "execution_count": null,
   "metadata": {
    "collapsed": false
   },
   "outputs": [],
   "source": [
    "from sklearn import linear_model\n",
    "regr = linear_model.LinearRegression()\n",
    "regr.fit(trainX, trainY)"
   ]
  },
  {
   "cell_type": "code",
   "execution_count": null,
   "metadata": {
    "collapsed": false
   },
   "outputs": [],
   "source": [
    "regr.score(testX,testY)"
   ]
  },
  {
   "cell_type": "code",
   "execution_count": null,
   "metadata": {
    "collapsed": true
   },
   "outputs": [],
   "source": []
  },
  {
   "cell_type": "markdown",
   "metadata": {},
   "source": [
    "#PCA#"
   ]
  },
  {
   "cell_type": "code",
   "execution_count": null,
   "metadata": {
    "collapsed": false
   },
   "outputs": [],
   "source": [
    "from sklearn.decomposition import PCA\n",
    "pca = PCA(n_components=6)\n",
    "pca.fit(trainX)\n",
    "trainX_pca=pca.transform(trainX)\n",
    "testX_pca=pca.transform(testX)"
   ]
  },
  {
   "cell_type": "code",
   "execution_count": null,
   "metadata": {
    "collapsed": false
   },
   "outputs": [],
   "source": [
    "print(pca.explained_variance_ratio_) "
   ]
  },
  {
   "cell_type": "code",
   "execution_count": null,
   "metadata": {
    "collapsed": false
   },
   "outputs": [],
   "source": [
    "regr.fit(trainX_pca, trainY)\n",
    "regr.score(testX_pca,testY)"
   ]
  },
  {
   "cell_type": "code",
   "execution_count": null,
   "metadata": {
    "collapsed": false
   },
   "outputs": [],
   "source": [
    "pca.components_"
   ]
  },
  {
   "cell_type": "markdown",
   "metadata": {},
   "source": [
    "#Random Forest Regressor"
   ]
  },
  {
   "cell_type": "code",
   "execution_count": null,
   "metadata": {
    "collapsed": true
   },
   "outputs": [],
   "source": [
    "from sklearn.ensemble.forest import RandomForestRegressor\n",
    "from sklearn.datasets import load_boston\n",
    "from sklearn.ensemble import RandomForestRegressor\n",
    "from sklearn.pipeline import Pipeline\n",
    "from sklearn.preprocessing import Imputer\n",
    "from sklearn.cross_validation import cross_val_score"
   ]
  },
  {
   "cell_type": "code",
   "execution_count": null,
   "metadata": {
    "collapsed": false
   },
   "outputs": [],
   "source": [
    "estimator = RandomForestRegressor(random_state=0, n_estimators=100)\n",
    "score = cross_val_score(estimator, dataX, dataY).mean()\n",
    "print(\"Score with the entire dataset = %.2f\" % score)"
   ]
  },
  {
   "cell_type": "code",
   "execution_count": null,
   "metadata": {
    "collapsed": true
   },
   "outputs": [],
   "source": []
  }
 ],
 "metadata": {
  "kernelspec": {
   "display_name": "Python 2",
   "language": "python",
   "name": "python2"
  },
  "language_info": {
   "codemirror_mode": {
    "name": "ipython",
    "version": 2
   },
   "file_extension": ".py",
   "mimetype": "text/x-python",
   "name": "python",
   "nbconvert_exporter": "python",
   "pygments_lexer": "ipython2",
   "version": "2.7.6"
  }
 },
 "nbformat": 4,
 "nbformat_minor": 0
}
